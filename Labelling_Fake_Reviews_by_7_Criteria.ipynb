{
 "cells": [
  {
   "cell_type": "markdown",
   "metadata": {},
   "source": [
    "<h1>Code for Labelling Fake Reviews</h1>\n",
    "The following criteria have been applied to identify fake reviews:<br>\n",
    "1. Reviews with same content but from different reviewers<br>\n",
    "2. Based on the fake reviews by the above 2 criteria, build a corpus from those fake review contents, apply the LSI model to identify reviews    with high similairty to those fake review contents.<br>\n",
    "3. A reviewer posted multiple reviews for one specific product<br>\n",
    "4. Reviews with extreme sentiment score from unpopular products<br>\n",
    "5. Reviews mentioning competitors brand<br>\n",
    "6. Reviews with more than 5% typos<br>\n",
    "7. Time interval analysis<br>"
   ]
  },
  {
   "cell_type": "markdown",
   "metadata": {},
   "source": [
    "### 1. Reviews with same content but from different reviewers"
   ]
  },
  {
   "cell_type": "code",
   "execution_count": 97,
   "metadata": {},
   "outputs": [],
   "source": [
    "import pandas as pd\n",
    "import numpy as np\n",
    "m = pd.read_csv('Cleaned Moisturizers Reviews.csv')\n",
    "product_info = pd.read_csv('All Moisturizers Ino.csv')\n",
    "#del m['Unnamed: 0.1']\n",
    "del product_info['Unnamed: 0']\n",
    "m.set_index('Unnamed: 0', inplace = True)"
   ]
  },
  {
   "cell_type": "code",
   "execution_count": 98,
   "metadata": {},
   "outputs": [
    {
     "data": {
      "text/plain": [
       "category\n",
       "bb & cc cream              24288\n",
       "decollete & neck cream       865\n",
       "face oil                   33384\n",
       "mists & essences           21177\n",
       "moisturizer               107967\n",
       "night cream                33020\n",
       "dtype: int64"
      ]
     },
     "execution_count": 98,
     "metadata": {},
     "output_type": "execute_result"
    }
   ],
   "source": [
    "id_category = {product_info['item id'][i]: product_info['category 2'][i] for i in range(len(product_info))}\n",
    "m['category'] = [id_category.get(m['item_id'][i])  for i in m.index]\n",
    "m = m[(m['category'].notnull())]\n",
    "moisturizer = m.loc[m['category'] == 'moisturizer']\n",
    "night_cream = m.loc[m['category'] == 'night cream']\n",
    "face_oil = m.loc[m['category'] == 'face oil']\n",
    "mists_essences = m.loc[m['category'] == 'mists & essences']\n",
    "decollete_neckcream = m.loc[m['category'] == 'decollete & neck cream']\n",
    "bb_cc_cream = m.loc[m['category'] == 'bb & cc cream']\n",
    "m.groupby('category').size()"
   ]
  },
  {
   "cell_type": "code",
   "execution_count": 99,
   "metadata": {},
   "outputs": [
    {
     "data": {
      "text/plain": [
       "5485"
      ]
     },
     "execution_count": 99,
     "metadata": {},
     "output_type": "execute_result"
    }
   ],
   "source": [
    "fake_by_duplicated_index = m.index[m['review'].duplicated(keep = False)]\n",
    "len(fake_by_duplicated_index)"
   ]
  },
  {
   "cell_type": "code",
   "execution_count": 100,
   "metadata": {},
   "outputs": [
    {
     "data": {
      "text/plain": [
       "<bound method Series.duplicated of Unnamed: 0\n",
       "0         I've heard so many great things about this--th...\n",
       "1         Good? Yes! 170 dollars per ounce good? Not qui...\n",
       "2         I have rosacea and had been using First Aid se...\n",
       "3         GOT A FREE SAMPLE SIZE AND UNFORTUNATELY IT'S ...\n",
       "4         Pricey? You betcha! Worth it? Yup!! My skin ha...\n",
       "                                ...                        \n",
       "237294    I bought this because other reviews said it wa...\n",
       "237295    I really like this product for its SPF propert...\n",
       "237296    This is great to layer over a tinted cream for...\n",
       "237297    This product doesn't cover the skin well and d...\n",
       "237298    I was looking for a silicone free product to r...\n",
       "Name: review, Length: 220701, dtype: object>"
      ]
     },
     "execution_count": 100,
     "metadata": {},
     "output_type": "execute_result"
    }
   ],
   "source": [
    "m['review'].duplicated"
   ]
  },
  {
   "cell_type": "code",
   "execution_count": 101,
   "metadata": {},
   "outputs": [
    {
     "data": {
      "text/plain": [
       "Int64Index([   619,    867,   1067,   1317,   1787,   1814,   2939,   3744,\n",
       "              3815,   3903,\n",
       "            ...\n",
       "            231526, 231544, 231547, 231917, 232004, 233009, 233164, 234137,\n",
       "            235889, 236667],\n",
       "           dtype='int64', name='Unnamed: 0', length=5485)"
      ]
     },
     "execution_count": 101,
     "metadata": {},
     "output_type": "execute_result"
    }
   ],
   "source": [
    "fake_by_duplicated_index"
   ]
  },
  {
   "cell_type": "code",
   "execution_count": 102,
   "metadata": {},
   "outputs": [],
   "source": [
    "duplicated_contents = set(m['review'][fake_by_duplicated_index])"
   ]
  },
  {
   "cell_type": "code",
   "execution_count": 103,
   "metadata": {
    "collapsed": true
   },
   "outputs": [
    {
     "data": {
      "text/plain": [
       "{\"Very hydrating. I'm using this as a preventative measure for any fine lines that want to creep up. I am using this as a substitution for my serum, and doing the Kate Somerville Age Delay over as my moisturizer, when I want to do some anti-aging. It's fast absorbing too which is really important. Definitely would recommend.\",\n",
       " \"I'm on my second bottle of this ~ It lasts forever! I use it on my smile lines and forehead creases NOT all over my face so it will really go a long way. My smile lines are no more. My forehead lines are pretty deep so they are still there but if I don't use it they are much worse. I love the texture, it feels like it settles in and stays. Smells great too. Hands down best wrinkle cream I've tried so far.\",\n",
       " 'Leaves your skin nice and fresh! Does what it says it does!',\n",
       " 'As I’ve gotten older skin care has become more important than beauty products. I’ve been using this moisturizer that I received complimentary from Influenster. I fell in love with this immediately! It’s so soft and absorbs super quick. It’s not greasy or sticky and it leaves your face feeling light and fresh. I absolutely love putting it on before I put makeup on because it makes my makeup go on so much smoother and gives me a beautiful glow. It uses water based science and I don’t think I can ever go back to regular moisturizer.…read more',\n",
       " 'I have been using the essence for about a month now. I have never used a product like this before. I do not like the bottle because I feel that a lot of it pours out at once. It is hard to put on with only your hands because it is like water. But a cotton ball will soak it all up. Besides the confusion with applying it, I do like how it feels on my face. Not sure of the results yet but after a month I don’t see much improvement as far as anti aging. I haven’t broken out though. Overall I would recommend the product for someone with acne that doesn’t mind a water-y product. I received this product free for testing purposes.…read more',\n",
       " 'I love the smell and how hydrated to my face I have combination  skin this my second day using it and next day morning feel really nice',\n",
       " \"I got a sample of this and i was so excited to try it out.  I put it on one night and then next morning i woke up with small bumps and dry patches on my face and my under eye area.  I wasn't sure if this was exactly what caused it so i tried it out another week and the same thing happened.  It's  horrible and it really irritated my skin :( disappointed!\",\n",
       " 'I have been using this cream every night for three weeks.  I do not have a lot of wrinkles but this helped my skin feel smooth.  It also reduced acne scarring and dark spots I have on my forehead from the sun.  I liked how nourishing it felt and I used it in conjunction with the serum.  I received this product for free from Influenster but all opinions are my own.',\n",
       " \"I have been searching for my HG moisturizer for as long as I can remember and I can finally stop searching. I have fair, sensitive, combination yet acne prone skin that is dehydrated but not dry and this stuff hits all my needs in a simple tube. It's hydrating but not greasy, thick but dries to a light finish and the smell is heavenly. I am a fan for life and just stocked up with the VIB rouge sale!!!\",\n",
       " \"I use this year round, but especially in the winter. It really does help lock in moisture and keeps my skin hydrated longer than most others I've tried.\",\n",
       " \"I have very dry skin and am always looking for a night cream that will hydrate but not feel too thick or like it's rubbing off on my pillow while I sleep. This works for me, finally! I only have to use a little, and massage it in at night after my cleansing/toning/serum routine. It feels incredibly soothing and my skin feels comfortable in the morning.\",\n",
       " \"the title says it all.. I love it so much and it's an airplane must have. also great for sunburn peeling stage... amazing for dry summer time\",\n",
       " 'Still up in the air about this product. I LOVE everything Tatcha. But not sure about the essence. Purchased it when Sephora had their 20% off Mother’s Day sale event. Used it for a week, then returned it. I’m just not sure if it’s worth the money or not yet. It really does feel good on your skin (put on before the serum) you can feel the hydration right away. I just don’t know about the plumping. I wish I didn’t return it so quickly. I wish I gave it more of a chance. I’m sure it works as Tatcha has great ingredients in their products. \\n\\nDidn’t make my oily skin worse. Felt good on the face. A bit pricey. The bottle is large and seems like it would last a long time. I think if you use this product for 2 months everyday or longer, you’d notice more results. More of a long term product in my opinion. Get a sample or two of it first and see if you like it before investing in it.…read more',\n",
       " \"Got the deluxe sample of this with points.. love love love! I have dehydrated skin, especially as we enter these colder months. This is the best lotion I've ever used, and I've used a lot! It keeps my skin from getting dry and flakey. It leaves my face baby soft... I keep wanting to touch my face! (Bad, I know) Even my boyfriend noticed.. will definitely be purchasing (or asking for ;) ) the full size.\",\n",
       " 'I love this product, it is very refreshing at night after a tire full. OH my God I absolutely love this product.',\n",
       " 'I wanted something more intense for when My skin gets too dry. This made my makeup look flawless with this as a base. But I broke out about 4-5 days into using it. What a huge bummer.',\n",
       " 'the smell is the reason for the 3. I love all other Kate Somerville products. but the fragrance was just not what I expected from a Somerville product. Did not use a second night.',\n",
       " 'Favorite moisturizer by far. I use it every night after taking my makeup off, and it keeps my skin hydrated without making it oily. Would defenitely recommend.',\n",
       " 'Loved how soft my skin felt in the morning!',\n",
       " 'Smells amazing and feels like a quality product from a 5 star spa. You relax just even using it and my skin loves it. (My skin rarely likes anything! Lol)',\n",
       " \"Ok, here's the scoop it's not a bad product... Cons: not for all skin tones. It's a very thick cream and needs to be blend well. I used my hands since there is a scent and don't like my brushes to carry that odour.   \\nPros: coverage is light, the spf in it doesn't burn my eye like all other products.  I cannot use any liquid foundations with spf due to them all burning my eyes and my skin reacts to it.    \\nIt's hot in Montreal now,  so I find this product too hydrating and heavy. I will use this during our bitter cold months and see how my skin likes it.\\nThe tone of it is a  light-medium with a tinge of pink-peach.\\nIf you have oily to combo skin, get the green bottle. Otherwise this will be too greasy for you and the foundation will not hold up . \\nI put this on, let it settled for 10 mins or so before I added bronzer and blush. For the no makeup looks…read more\",\n",
       " 'I really wanted to love this product but it made me break out slightly even though it did reduce redness. The cream is a bit too thick for my liking.',\n",
       " 'What an awesome product! I received this Fromm influencer to try out and I am so glad I did. My face looks so dewey and moisturized and my skin feels incredible. I used both products for a week before reviewing, and neither caused a breakout. I would definitely buy both the collagen and the face cream even at this price point.',\n",
       " \"I like the smell of it, it feels my skin is getting healthier.\\nI don't notice any good or bad, but when you touch your skin, its soooooooo soft.\",\n",
       " 'I received this product as a sample about a month ago. I have seen slight results. I have very sensitive skin but this works very well!',\n",
       " 'Not hydrating enough for my dry skin.',\n",
       " \"I think it's an alright product overall. It definitely does ball up afterward if you rub it like other reviewers have wrote. It didn't break me out or anything but I just can't stand the smell!! I don't even know what this smell is... it's like weird cooking oil smell.... :(\",\n",
       " 'It goes on evenly with great absorption and a smooth feel! Helps face feel smooth and ready for foundation!',\n",
       " 'I received this free from influenster along with the liquid collagen which was awesome to try such luxury products for free.  My skin is sensitive and dry.   Those cream is think and buttery but I love how it melts into my skin and goes a really long way.  I spread it onto my neck and decolletage and I wake up feeling very moisturized.  This is great for the winter!',\n",
       " 'I\\'ve been using this BB cream for over a year and its the best for my skin. I\\'m over 40 but still like my skin to look dewy... I also do not need a lot of coverage - just need to even things out a little. I do follow this up with a very light dusting of dual finish powder. I use the light color during the winter and the dark during the summer, i apply it with my hourglass airbrush foundation brush and it never looks dry or moves around on my face. I do use shiseido day moisturizer prior to applying during the winter, but during the hot summers this alpine works great. For the first time ever i found a \"foundation\" with SPF that doesn\\'t break me out! I\\'m on my 4th bottle - literally two pumps will cover your entire face. I also love this because the formula is very \"loose\" or \"thin\"... Which is what I was looking for when i found this.…read more',\n",
       " 'i love this essence ,when i first heard about the smell i was scared to buy i opened it right away and put it on i couldnt smell anything after a few days i did notice a smell but is very light and only last for a few seconds till is absorb.people with oily skin my love this product it is not moisturizing after is applied but it balance ur skin ph and leaves the skin very soft .i use retinol and my skin was so ugly and dry i felt terrible this essence plus the cream from skII has changeded it and now it looks so nice i really like this line and will keep buying this essence.…read more',\n",
       " \"I'm on my second tube - the first one lasted practically a year! Best, best, best moisturizer, especially for winter. My skin loves it. Oh, and it completely agrees with my super-sensitive skin! Love.\",\n",
       " \"I've been using both the Rose elixir and unicorn for about a month.  The rose elixir is great to blend foundation and get rid of winter ashy skin.  The unicorn is an awesome primer.  I recommend them both #farsalifam\",\n",
       " 'Loved this product!  Feels luxurious on your skin and the scent is amazing.  Not too strong, but may bother those that like no scent at all.  Absorbs well on the face (I have combo skin), but my only complaint is that there is a slight residue on fingers after you apply.  I would recommend this to others!',\n",
       " 'I\\'m never quite sure how much I buy into the whole \"facial spray\" product realm, but I do plan to continue buying this one. I used to use this brand\\'s Cleansing Water, and still do, but as a refresher. This beauty elixir, however, is a different story. I\\'ll admit, the first time I used it, my eyes stung and I was a wee bit alarmed. However, I wiped them, and have continued using, and I SWEAR it\\'s had an absurdly positive effect on my skin. I have psoriasis on my face, and my t-zone gets quite oily during the day... a lovely mixture of skin issues! I am convinced this elixir has alleviated my psoriasis, and while my t-zone is still oily, my skin has become super clear and lovely. I use just after I get out of the shower, then put on moisturizer when my face is still wet. My face is very happy with me as a result. Definitely consider buying!!…read more',\n",
       " 'It definitely hydrates and plumps the skin.  I’m happy with it overall.  What I do like is that it absorbs quickly into the skin and doesn’t sit on top.  I use it before the silk creme.  I gave it 4 because I found its s bit tricky to dispense and if you are too heavy handed with it you will waste product.',\n",
       " \"First of, I have and prove skin & I started using this medication which makes it really dry & when I say really dry, I man so dry, that whenever I move my face my eyes get watery. So I week my into sephroa with the intention of buing a serum, but one of the sales associate suggested this. & of it doesn't work I would be able to return it as long as half of the product is in the jar. It doesn't really have a fragrant smell, and it goes on really easy , it doesn't go on greasy or oily. Its amazing! I am so glad I found this product. Sometimes I just use it as a night cream or I use it as a base and then use my SPF.…read more\",\n",
       " 'I received this product along with the collagen drops in my voxbox as a complementary gift, and all I can say is omg!!!  This formula is so creamy and rich yet not oily. My skin feels so hydrated after one use.  #algenist #algenistxinfluenster #contest #complimentary @algenist @Influenster',\n",
       " \"Amazing! I received this as a sample I have used it on my neck, laugh lines, lower cheeks and chin. I am 27 years old with laugh lines and am over weight with a slight double chin. In two days using day and night my laugh lines are almost gone and my double chin is smaller. I can't believe it!! You actually feel a tug on your skin minutes after using it. I will be buying this next paycheck I get!\",\n",
       " 'Makes my skin look amazing and smooth.  Totally impressed by this.',\n",
       " 'i try ren canvas a couple of days ago and I just love it!\\nit feels amazing on my skin\\nIm so excited to test this for an influenster contest!!\\nI love this product! highly recommend it',\n",
       " \"This is amazing. its starts out like a hard  cream but once the heat from your hands and face it melts almost into an oil. and to me it smells like white chocolate! so far I'm really loving it!!\",\n",
       " 'I like this floral water as a toner and the smell is fresh and clean. Leaves my skin feeling soft and dewy. A staple must have.',\n",
       " \"I originally purchased the trial kit of Ceramidin, and I instantly fell in love with it. I'm using my 3rd tube. It seriously locks in my skin's moisture, leaving my skin supple and hydrated for hours. It's a must for me.\",\n",
       " 'I was looking for a new moisturizing cream and i choose this brand because  i had already purchase the tiger grass color correacting treatment and was perfect for me. Im so glad i made the right decision!',\n",
       " 'I have just started incorporating this into my skin care regimen, and I love it. It smells wonderful and really helps with the absorption of the products. Great investment.',\n",
       " 'This cream is amazing it gives your skin an amazing glow to it it leaves it so soft... Love it',\n",
       " 'Given the great reviews and the fact that I love Tatcha, I had high expectations for this essence. I’ve been using it for several weeks now and have not noticed any significant changes in my skin. This product provides some instant hydration, but it wasn’t long lasting. I haven’t noticed any improvements in my skin tone or texture. My skin is normal to dry. I’ve observed better results with heavier textured essences.…read more',\n",
       " \"I hate the smell of this product. I hate the smell so much I considered returning it. But I am so happy I didn't! I have dry patches on my chin and NOTHING has ever cleared them before. Using this for a week every night has changed my skin for the better and I can't imagine using anything else!\",\n",
       " 'This night cream is thick in the jar but melts into your skin. A little goes a long way to leave your skin moisturized and glowing in the morning. It has a light, calming fragrance that is perfect for bedtime. My 60 year old mother tried it too and loves it!! I received this product complimentary to try out, but would definitely purchase another!',\n",
       " 'Amazing I love this product, best moisturizer I’ve had. Is great for all skin types',\n",
       " \"I love caudalie it's an excellent line for ppl with sensitive dry acne prone skin, particularly the vino source collection. I've tried the other moisturizers and this one is the best from this brand. I've used everything from la mer to la prairie which are insanely overpriced bc I am always one to splurge when it comes to things you put on your face and honestly I like caudalie better. It's not enough for the winter but add a couple drops of Argan oil and its the perfect moisturizing combo! Along with the SOS serum…read more\",\n",
       " 'I tried this and got horrible acne until I stopped using it, I bought this product because of the good reviews and was left disappointed idk it might work on other skin but not mine..',\n",
       " \"This product is a liquid essence skin plumping softener that allows any product placed on top of it to penetrate deeper into your skin. It is a fantastic product! I've been pleasently surprised with the results. You get 5.1 fl. oz of product in a beautiful opaque white jar with a self dosing pour spout which I like because then you know your not wasting any product. I like to put 2 to 3 drops into the palm of my hand, rub together and then press into my skin. I used this after the camelia cleansing oil and classic rice enzyme powder. It os pricey at ($95 plus tax) however I do think this is worth the splurge. Tatcha makes wonderful products. This also has anti aging skin loving ingredients included within the essence like green tea, rice and algae (the hadasei-3 complex tatcha is known for) it helps to soften the loom of fine lines and wrinkles, protect the skins natural moisture barrier and maximize any treatment that follow. It has the texture of water and a light to almost no fragrance.…read more\",\n",
       " 'I was looking for a new moisturizer since I had to switch up my skincare routine due to the weather change. I have been using this product for a week now as my everyday moisturizer and it is AMAZING my skin looks soooo amazing in only a WEEK ! Less texture, pores actually look smaller and my skin feels and looks soo hydrated!',\n",
       " 'This is the absolute best moisturizer I have found for my rosacea! For use on the face, I would say that this is for dry to very dry skin types. Leaves skin dewy and hydrated for hours, even under makeup.',\n",
       " \"Uggghhhh so nice!!!! There's nothing like this anywhere. Life changing! So expensive for a cream though.\",\n",
       " 'This isn’t the first essence that I’ve tried, and honestly I was starting think they were all just marketing. Until I tried this one. It works!',\n",
       " \"I saw zero improvement on wrinkles and fine lines after using the entire bottle.  It has a moisturizing effect and that is all.  I wouldn't repurchase it for the steep price and lack of results.  The  moisture effect is nice but I can find similar products to do that for half the price.\",\n",
       " 'Tatcha is amazing in general, but this product is a game changer! They all are really, because they just work so well\\nTogether. I’ve never had better skin.',\n",
       " 'This product is amazing!  I love the packaging.  So easy to use and apply.  Like the serum it feels super light on my skin. It is in liquid form and feels just like water. 1-2 drops does the trick.  I feel my skin feeling softer and fully hydrated.  I’ve been using this product for a little over a week along with the serum and I can see the difference in my skin.  Especially with this winter my skin has been feeling dryer than normal.  I have yet to see my fine lines and wrinkles smoothing out but hopefully in the next few weeks.  #complimentary #free…read more',\n",
       " \"I have eczema and this didnt irritate my skin. After applying it the product doesn't completely get absorb but for the price i can purchase two jars of cetaphil which is great for my sensitive skin\",\n",
       " 'Nice smell and facture! And finally more convenient packaging!',\n",
       " 'Winter is here and this is the first year my skin is so dry. I typically get it skin. I ready so many good reviews on this so I decided to pay for the expensive price. It is amazing! I felt my skin just soaked up all the application. I applied it evenly! It is so amazing!',\n",
       " 'This moisturizer is lightweight, not greasy and really moisturizes your skin. My skin is very sensitive and breaks out with other moisturizers. But not with this one. I use it during the day then the Dr. Jart  Oil Balm at night.',\n",
       " 'My skin is becoming extremely dry especially on my cheek area, tried it in month. Can literally feel the difference',\n",
       " 'I received a Birchbox sample of this in Golden.  Since I got it during the summer, my hope was that it would provide sun protection and keep my slightly dry skin moisturized.  This meets that need perfectly.  This is a tinted moisturizer, so I did not expect it to cover like a foundation.  If you want more than light coverage, this is not the product for you.  On a few occasions I have put a primer on my skin before using this and I get a little more coverage that way.  The light scent is lovely and the golden tint blends with my light/medium skintone (with freckles).  I thought the Golden would be too yellow for me (I tend to wear cool colored makeup) but it was perfect.  I think maybe during the winter I might try the lighter tint.  I will definitely buy this again.…read more',\n",
       " \"I received this product complimentary in my voxbox and have had great results with it thus far. The consistency of the product makes it a little tricky getting out with nails but a little bit goes a long way. My skin is supple and smooth when I wake up which makes my makeup application seamless. when I'm done with this product I would definitely replace it.\",\n",
       " 'Great product just wish it was more affordable',\n",
       " \"This, combined with the ceramidin serum, healed the horrendous eczema on my face in a week. 'Nuff said.\",\n",
       " 'LOVE use it every day, I can not live without this! I would have to say this has to work best with combo or oily skin because it moisturizes but also keeps oil at bay.',\n",
       " \"For the first time I took the risk and bought that water cream without sample trial and my first impression was a disappointment! The cream almost feels like glue on the face, after applying does not moisture, skin feels tight. Also, the cream will not go well under foundation; if used at night - you will have to put the other cream on top otherwise the surface will be dry. For $50 you can buy products much better than that. Or at the drug store for $10 same quality. 1out of 10. doesn't work for me.…read more\",\n",
       " \"My skin was dry after traveling, and Ceramidin helped plump me up. My face was soft again in no time! It's a thicker cream, I prefer to use it in my PM routine.\",\n",
       " \"First time buying this and I I'm pretty impressed. I have had a problem with dry patches lately and this seems to help a lot. Has a pleasant smell and feels soothing on the skin. I always use this after I was my face for some moisture boost. It feels a bit Tacky at first but absorbs pretty quickly for me.\",\n",
       " 'I noticed a difference right away.  I am 77 and this is awesome.  I love the texture and the smoothness when it goes on.',\n",
       " 'I haven’t used this for a long period yet, but I’m loving it so far. I usually go without makeup at all day to day, I’m so fair that foundations are almost always visible in a way I just don’t like. I’ve wanted something light to even out my skin tone and this is very slightly tinted which is great for me. I have mild redness around my cheeks/nose and this does just enough to minimize it. Doesn’t look like I’m wearing anything, gives me SPF, and just gives me more even looking skin with some glow. I feel like I look fresh faced. I also tend to be dry so I love that this doesn’t dry me out by the end of the day. I haven’t tried it under foundation for a more polished/evening look but since it’s so moisturizing I feel it would only help a foundation lay better. The SPF is a huge plus and all other BB/CC creams I tried didn’t match my skin tone. I’m very happy I’ve finally found something minimal with a physical sunscreen!…read more',\n",
       " 'I am so glad I found this product! I have been using it for about a week now and I love it. After just the first day of using it I noticed the dryness on my face disappear as well as an evened out skin tone. (I have rosacea which normally flares up whenever I put any skin product on my face, but it didn’t with the Tatcha plumping skin softener).\\nI’m going to continue using because I can see and feel the difference! Love love love it! \\n(Hopefully it prevents my finelines and wrinkles from getting worse too.) \\n\\nI received this products as a free sample for testing.…read more',\n",
       " \"A creamy but breathable moisturizer that leaves my skin silky by morning. I discovered this through a sample and immediately fell in love. When I'm in need of a serious thirst quench I put this on in the morning as well under my make-up. Love!\",\n",
       " 'This is the best facial cream ever!',\n",
       " 'This stuff is great and worth the price tag. I tried it as a sample if got hooked. Makes my skin feel super soft and smooth. Love it!',\n",
       " 'I loved this for the first few nights but then it caused me to break out horribly on my jaw and check area. Very unusual for me to get break outs. It does feel quite greasy on the skin. I would not recommend for those with oily skin. I am 55 yrs. old and not oily and had issues with this product. Sadly, this is not for me.',\n",
       " 'This is so refreshing!!! I plan to use it a lot during the steamy summer months.',\n",
       " 'Received this from influenster and I love it so far! My skin is a lot more smooth, even, and less dull! Wish I had found this sooner!',\n",
       " 'I received this product complimentary from influenster and I am so excited I received it because it such an amazing product. It did make my face break out when I first started using it but after the first couple days I felt and saw a difference. It has such a nice smell and the texture it sooo soft and smooth it left my skin feeling so light and clean.',\n",
       " 'At first i did not understand this product! Then when i used it i noticed my skin was much smoother and even more moisturized (i have very dry skin.) it boosts other skincare so make sure you use a small amount before other products. It really works. A little pricy but i got it complementary to review and it definitely makes a huge difference!!',\n",
       " 'This product is an absolute miracle worker. I had been suffering from really dry and flaky skin because of my acne conditions and medication. I had tried a lot of moisturizers but nothing seemed to fix it. And then I came across this product and it is the only moisturizer I need to keep my skin hydrated the whole day. Thanks Dr Jart  :)',\n",
       " 'So far what I love about this product is how it makes my skin feel very soft and hydrating. I also like the fact that my skin does feel oily or feel heavy. Most creams are very thick so I could always feel the heaviness on my face. But this does not give you that effect. I received this product complimentary from Infuenster for sampling purposes only. All opinions are my own.',\n",
       " \"Incredibly hydrating, perfect for the winter! In the winter, my oily, combination skin experiences really bad dryness especially on my cheeks. When my skin begins to crack from the dryness, I put this on and overnight it's able to replenish and repair my skin from the dryness.\",\n",
       " 'I received this product free, but the review is my own.\\n\\nI loved this, but to be clear I didn’t start using it by itself - I paired it with the vitamin C serum. It went on smooth and did not bother my very sensitive skin. I’d recommend using it with another Tatcha product for full results!',\n",
       " \"The consistency is very light and easy to apply but overall this product did not blow me away. My skin felt like I had a thin layer of moisture after but it didn't last long. Overall I'm convinced there are other products out on the market in this price range that perform better.\",\n",
       " 'Gives my skin everything it needs without the alcohol that other toners have, which just dry my skin more',\n",
       " 'I have very sensitive skin...I tried all of the expensive brands that are pricier than this but I feel that this is the best! It makes my skin very soft and keeps it moisturized.',\n",
       " \"I just love this face gel so much, it leaves no greasy look or film like some lotions can, it dries fast, lasts all day for extra moisture and has helped heal my cracked dry face, any excess on my hands i've rubbed into my elbows and even they quickly started to look and feel better. if you see it at your local Sephora as a sample point bonus definitely try it, you won't regret getting the full size though.\",\n",
       " 'I have used Essence from other brands and honestly I never got the hype. They always left my skin a little sticky and I didnt notice any difference. When Influesnter sent me this to try out for free I was expecting the same.. But this product does what it says! It does hydrate- not enough to cause greasiness but enough to actually soften your skin. It also preps your skin really well for any additional steps you do after. I used a serum by Tatcha afterward and feel like it just sinks into my skin so much better. I would def recommend to anyone! Esp if you have been burned my other brands in the past!…read more',\n",
       " 'This stuff is really amazing. I received this along with the new Tatcha Violet-C Brightening serum completely complimentary in exchange for my honest review. I am very pleased with this product. It definitely helps with hydration, but it also helps make any treatment you use after work twice as well. I loved using this before the Tatcha Violet-C Brightening Serum. I definitely recommend both.',\n",
       " \"I received a small sample and instantly loved it. The tiny tube lasted a fair amount of time, and I've since bought the full sized tube. This stuff is the last layer in my routine and my skin is so supple! I absolutely love it.\",\n",
       " 'After trying out many, many moisturizers over the years including Sisley and La Mer, I decided to stick with this one. It is one of very rare moisturizers that do not break me out. It moisturizes very well without any oiliness. Even my husband loves this and is on his 4th tube. We will definitely purchase again.',\n",
       " \"Unfortunately, this just doesnt work. I love the packaging and that it absorbs quickly.  But that is about it. I've used this for a month and my wrinkles still appear the same. Not even a slight improvement.  And wth is with the fragrance? Completely unnecessary.  Sorry Kate but this is a no go.\",\n",
       " 'I went through this phase of trying out a bunch of new products to try and get rid of some acne but they all ended up freaking my face out like crazy that I got even more pimples because my face was extremely dehydrated and creating so much excess oil to compensate. I got this and started using this every morning and night and I follow with the violet C serum and a heavy moisturizer. My skin has returned back to a normal hydrated state and this serum was a huge help. It has a kind of light sake smell I would try to describe but it fades quickly upon absorption!! Theres a lot of product and the price is so worth the hydration is gives your skin. I also appreciate that this is considered a \"clean\" product at Sephora and doesn\\'t break me out. It feels so nice to put on every time and we all know how well Asian skincare is for the skin!! Although I received this as complimentary I will definitely am going to repurchase one once I run out :)…read more',\n",
       " \"This Tatcha's NEW Essence Plumping skin softener serum has really been my sunshine on a rainy day. Absolutely in love with this product.\",\n",
       " 'I was surprised with how thick this product is but it just melts into your skin! A little will definitely go a long way! I love that when you wake up your skin still feels super moisturized and plump! This is absolutely a HG in my night care routine!',\n",
       " 'I have extremely dry skin, not flaky, but face feels tight immediately after washing and need mid-day replenishment. I used this cream together with the Ceramidin Lotion, but this combination was not moisturizing enough for me unfortunately.',\n",
       " \"The first time I used the Dramatically Different Hydrating Jelly it left my skin feeling super soft and I loved how lightweight the formula felt. It's not greasy and did not add shine/oil to my skin, which is perfect for the summer months! And it wears really well under makeup. I would recommend this to anyone seeking a lightweight moisturizer or anyone with normal to oily skin will love this! I received this product complimentary for testing purposes.…read more\",\n",
       " 'I never thought I would love such a thick rich cream for my oily skin, but I was wrong! This is perfect for the long Canadian winters. I use this at night. It just really soothes and moisturizes the skin. Also, a little goes a long way.',\n",
       " \"I love this product. This is the first time I've added something like this to my daily skin routine and I'm not going back. It took a few weeks to see a significant difference but it's so worth it. Also, I have really awful migraines and the way things smell is a huge trigger for me. I'm so grateful that this product doesn't have a distinct smell! It feels refreshing on, I could not be happier with this product!!\",\n",
       " 'Let me be honest, I was not expecting this to do anything worth the price tag. I really thought this was just some glorified water. Waking up the next day after one use I was shocked. My skin felt so incredibly softer and it seemed to make my other products much more effective. I’ve been using this every day since I’m hooked!',\n",
       " 'This product is amazing, it had such a smooth buttery texture and you could tell the product is going to last a long time. I also paired it with the Genius liquid collagen. It left my face feeling moisturized and smooth. I will definitely be buying this both products in the future, they have already made my favorites list!',\n",
       " 'This product is a very good product. I would recommend it to anyone!',\n",
       " 'Best moisturizer ever!',\n",
       " \"I received this product from influenster.\\n\\nLOVE THIS ESSENCE!! If it weren't so dang expensive I would use it as my go to. It has an amazing light rice-wine like scent, and is very light but super plumping/hydrating. It works extremely well as an intermediate step in my skincare routine which is exactly what I need, maintaining proper moisture. Don't know what else to say but this is probably my favorite essence right now! And I've tried many different ones from k-beauty and american brands alike.…read more\",\n",
       " 'This is the best moisturizing cream! \\nI have very sensitive skin, and I get little bumps if I use most other moisturizers. I had a hard time finding one that works other than Vichy acne-prone line for the past 10 years, but this works!',\n",
       " 'I am new to using an “essence” of any kind, but I am very happy with this product. It effectively smooths and softens my skin, and helps to absorb all of my other products better (even the ones that aren’t Tatcha!) This used in conjunction with the Violet-C Brightening Serum have changed my face for the better, as my skin is now more even toned, smoother, softer, and noticeably more hydrated than it was before. It is a little pricey, but a little goes a loooong way (I end up using only a drop or so twice a day.) I received this and the Violet-C Brightening Serum complimentary for testing purposes, and I’m so happy that I did. I’ll definitely be buying this product when it runs out!…read more',\n",
       " 'I got the cleansing oil, eye gel, gel moisturizer,  and rose oil and have been using them for a few weeks.  I see a noticeable difference in my skin which feels and smells amazing and is more even in skin tone, brighter, and smoother.',\n",
       " 'I love this product! I feel it working soon after I apply it. It feels so fresh and smells fresh as well. The packaging is beautiful and sturdy so I don’t have to worry about it breaking when I pack it for trips. So that’s really nice. My only complaint is the bottle design. The way it dispenses is really messy and if you aren’t careful, you will waste a lot of product. The dispenser and the application are the only down sides though. \\nI received these products complimentary from Influenster!…read more',\n",
       " \"I am in LOVE with this skincare line. I've only been using it a week but notice a big difference already. My skin is hydrated, glowing and firmed. Amazing!\",\n",
       " \"I've only been using this cream for about 2 weeks and I've definitely noticed a difference in the texture of my skin! This product does a great job at adding moisture back into my skin and reducing fine lines. This cream never feels heavy or oily and is the perfect moisturizer for under make up!\",\n",
       " 'I bought this due to the high reviews and was highly disappointed, I sent it back. The smell reminds me of an \"old lady, grandma\" perfume sent. I tried it for only two days and didn\\'t notice any new glow in my skin and found it all together pointless.',\n",
       " 'I don’t have anything bad to say about this product. I like that you’re directed to splash it into your hand and press gently onto the skin. It feels lovely and refreshing after applying. I always use it straight after cleansing. I have noticed that you use much less than a regular toner. It doesn’t have much of a scent but the texture/consistency is nice and is slightly thicker than water. I’ve been using this along with the Violet-C serum and I’ve definitely noticed a visible difference in the texture and smoothness of my skin. And it does appear more radiant. It’s a great skin combo, especially for night. I’m gonna keep using it till it’s all gone for sure. It out ranks any current toner/serums I have right now. I have a couple Tatcha products and I love all of them really. I received this product complimentary.…read more',\n",
       " \"I started using this product a few weeks ago and I am so happy with the results. This beauty water absorbs fast and visibly improves hydration. Not only is it anti-aging but it is also made from pure products. Treat yourself to ESSENCE,  it is well worth it!  Love Tatcha's skin care products.\",\n",
       " 'so good for dry flaky cracked skin due to the change in weather',\n",
       " 'I love this! It definitely helps my skincare absorb into my skin better, is very refreshing and hydrating and feels amazing. It’s hydrating and easy to use and I will definitely repurchase.',\n",
       " 'Overall, I really liked this essence. I’ve only used one other before but, this one felt really nice on my skin and the odor isn’t overpowering. Using this with the Tatcha serum has definitely given my face a softer feel!',\n",
       " \"Been using this product for a few days so far so I have yet to see the results but I'm excited to try a collagen product!\\n\\nThis product was complimentary for testing purposes\",\n",
       " 'It was just like getting your faced misted with water, though it was scented. Other than that, nothing remarkable or any different than a spray water bottle.',\n",
       " 'I chose this sample size as a beauty reward, and glad I did! With just one use, my skin looks and feels more plump, smooth, and moisturized without any greasy feel. The scent is light, rose/herbal, which I like. Not a 5 star since I have only one use to go on, but I can say I really love it so far!',\n",
       " 'this lotion is so hydrating but has such a light feeling which is really nice. i can put this all over my face without being oily which is a major plus for me.',\n",
       " 'Non irritating and really softens skin.  It feels great and I look forward to using this everyday.  A little goes a long way.',\n",
       " 'This is a substantial moisturizer that really locks in moisture and protects against the cold, windy winter weather. It does not feel greasy at all despite being a slightly heavier cream. \\nI prefer to use something lighter for the summer but I definitely recommend this for the colder months of the year.',\n",
       " 'I’ve been using the Tatcha essence plumping skin softer along with the Vitamin-C serum. Combined, they’re magical! Applying everyday before bed has made my skin extra glowing, soft, smooth, with a natural radiance. Perfect for all skin types!!',\n",
       " 'great moisturizer for really dry skin, but I hate the smell.  It is a 5-star product, but unfortunately I had to take 2 points off for the terrible smell.',\n",
       " \"I usually think toners and essences are a gimmick but this works incredibly well. I have only been using this for 2 days and I have already noticed a dramatic change in the softness and texture of my skin and it truly calms my skin. For reference, I have combination, extremely sensitive, acne prone skin with rosacea. Once I apply the essence, it leaves my skin feeling soft but it dries completely and it is undetectable. I also feel like the products I use afterwards really sink into my skin compared to when I don't use this. I received this as a promo offer and will definitely be purchasing it once I finish my bottle (sorry bank account).…read more\",\n",
       " \"I feel this product is seriously misunderstood. Essence is for prepping the skin for further skincare application. When your skin is moist it absorbs your other skincare better. This unlike most alcohol and water based essences is gentle, and does in fact soften my skin. I think that the toner you use will make all the difference in how well this performs. I used Misha Tine Revolution Toner and Essence and those did absolutely nothing for me and actually made my skin a little tight. Not much but enough to notice. For me this has been worth every penny. The bottle itself is well packaged. The scent is faint and the texture may be less viscous however I have seen the difference of how well my other products go on and the absorbency has been faster and better. Personally feel it's worth it and will make this a staple of my skincare routine!…read more\",\n",
       " 'This stuff works great!',\n",
       " \"I've been using this product for almost two weeks and have already noticed such a difference in my skin! The rough patches I normally have are hardly noticeable and it feels great! I received this product complimentary for review purposes.\",\n",
       " 'I bought the light / medium color. It’s a perfect tone for my skin. So many products are too yellow for my and give my skin an odd cast or look like a mask. This product is just simply awesome! When I’m rushing to take my son off to school I put a little bit of this on and run out the door. It gives you the perfect glow without looking or feeling heavy on your skin.\\n\\nI am also a runner and am absolutely loving this product for my morning runs.. I have purchased two already.…read more',\n",
       " 'Bought this product about a two weeks ago and I have noticed  a softer skin but not a huge different ! I really want to love this product',\n",
       " 'I first got a sample of this thinking, \"oh this is just expensive water,\" but I felt an immediate difference in the texture and feel of my skin. I loved it so much, I decided to buy it. It works amazing with my other tatcha products. I was lucky that I had a discount code so I could use it on tatcha products because they\\'re pricey! I have troublesome skin and I definitely see it improving.',\n",
       " \"I love this product. It is lightweight, but provides great, long-lasting moisture. But man, the tube's paint (the actual color and lettering) flakes off and gets EVERYWHERE. They need to change this because it is beyond annoying.\",\n",
       " 'I will start this with my usual thoughts on moisturizer...I HATE THEM. I normally get so greasy and gross that i hate using a moisturizer. I got a sample of this with some reward points and i was impressed. I like that it is more of a watery/gel formula and not a cream. I used the entire sample and then purchased the full size. A Little goes a long way and the full size jar lasts forever. My skin feels very hydrated after i use this and its perfect for right before bed. Will continue to repurchase…read more',\n",
       " \"I absolutely love this moisturizer! It's a treat for my dry skin. But, I am always extremely cautious about products that come in jars. I feel a pump would be a lot more sanitary, but the moisturizer is great either way!\",\n",
       " 'Love the texture and how it feels so nice on the skin! Thank you Influenster for letting me try this beauty out!',\n",
       " \"This is the first essence I have ever used.  When I apply this I need half the amount of the Tatcha water cream because it seems to increase the absorption.  So I suppose it is worth the cost.  There's no strong smell so it's non-irritating.\",\n",
       " 'I’m a ride or die with my Body Shop Vitamin C essence. The point of an essence is to allow a better absorption of other products to sink into the skin better. I received this product from Influenster and I’ve been using it daily. It’s amazing, although I’m unsure if it’s work almost $100. I do have to say that my skin broke out during the first two uses but now my skin is totally clearing up and clearing up quickly.',\n",
       " \"People, please do your research before you write a review saying it's just water. It's not just water. Our skin is made of 70% water. The Essence is made up of 98.7% of 3 superfoods(Algae, Green Tea & rice). This is not a toner and has a different function than a toner. A toner is used to refresh the skin and to further cleanse the skin before you put on your moisturizer/serums(10% alcohol). What this does is plump and soften the skin so it can PENETRATE deeper in your skin making any moisturizer/serum or oil work twice as much than it did before. Usually moisturizers sit on the surface of the skin, this penetrates and preps the skin so that your normal treatments can work better.…read more\",\n",
       " 'Awesome.  Makes your skin feel baby soft.',\n",
       " 'Lovely on my skin and nice base for tonic and moisturizer.  Have noticed slight decrease in small wrinkles and lines.',\n",
       " 'I love Coola\\'s matte-tint mineral sunscreen but was looking for a little more coverage for fancy days, so I was excited to discover this formula.  But it sits unconvincingly on my skin and has that telltale sheen associated with \"radiance\"-creating makeup.  (I admit that as someone who prefers a matte finish, I should have paid closer attention to the product description, which boasts of radiance.) And though I\\'m light-complected, the Light/Medium is too cool for me and extinguishes my skin\\'s underlying warmth of tone.  I suspect that Golden would be too dark for me, and anyway I won\\'t try it since I don\\'t like the texture.…read more',\n",
       " 'I cannot believe that I went so long without trying this out. It has a thin consistency and really does moisturize my face all day. I highly recommend this moisturizer.',\n",
       " \"I LOVE samples but I hate them because they're always SO good and then I fall in love and have to spend so much money. Anyway, this is amazing. I use it everyday. It moisturizes and makes my skin feel so smooth. It also def plumps my skin to lessen the appearance of fine lines.  \\n \\n4 starts because of price!\",\n",
       " 'I got this product to review for free and it worked wonders on my skin! It left it baby smooth!',\n",
       " 'I received this product free as courtesy from Influenster for testing purposes. However, all my thoughts are my own. I absolutely love this essence! I have small bumps near the bottom parts of my cheeks that I have tried to get rid of so many times through different moisturizers, exfoliators, you name it. Since using this essence, although the bumps aren\\'t completely gone, they\\'ve significantly decreased (I\\'ve been using the essence for over a month). This essence immediately hydrates and plumps the skin and I find my skin so much softer after using it. I also love the bottle and the dispenser. It isn\\'t your average \"place a cotton pad over the hole and tilt the bottle\" type of essence. It has such a unique shovel-shaped dispenser that makes it so easy to just pour the essence into your hands and apply it so you don\\'t need to use a cotton pad (which soaks up so much wasted product anyways). This was really important to me since it saves product and this product is certainly not cheap!…read more',\n",
       " \"I tried this as a sample product, using it after I did a glamglow mask, which I also love, but can leave the face a little dry.\\nThis product made my face softer than I've ever felt it, extremely smooth, with no dry spots, which, for me, is close to a miracle!! Worth what the price is -- I'll just have to save up sometime soon!! I'm very impressed.\",\n",
       " 'love this product so far! Influenster sent me this along with the skin softening serum and they both work together magically. My skin feels smooth and I can already tell a difference in the completion. Thanks Tatcha!',\n",
       " 'This moisturizer is so hydrating. Perfect for winters. This made my skin so plumped and refershing the next morning.',\n",
       " \"I received this product as a free sample from Influenster but this is my honest review! I've been using this essence in combination with the vitamin C and AHA serum and it has worked wonders for my skin. My skin is very dry and I can definitely tell that this helps a lot with my dryness. My skin is so smooth and soft after using this. I think essence is the most important part of my routine so I would definitely recommend this!…read more\",\n",
       " \"I have very sensitive dry skin and this stuff is the best I've found. It moisturizes my skin without giving me breakouts or puffy eyes. Highly recommend.\",\n",
       " 'So far I’ve been using the essence plumping skin softener for probably the past two weeks. I can already tell a difference in my skin. When applying it, it literally feels like water, which is a little weird, but it seems to be working just as it should.',\n",
       " 'Really rich, but not greasy. My skin  stays moisturized all day.',\n",
       " 'Purchased after using all of a sample I received. I have very dry skin. Brought life back to my face this winter. Soft and smooth! Definitely will keep buying.',\n",
       " 'Love it. It’s definitly pricing but it makes my skin feel hydrated.',\n",
       " 'I received this product in my Influenster box and have been using for a little over a week. I have been using it nightly with the serum. It is a little difficult to get out of the bottle but goes on easily and dries quickly onto your face. I have noticed my face being smoother lately.',\n",
       " \"I am a routine girl. Every day I do the same facial routine that I've mastered nearly a year ago. So when I recieved this Waterfall Glacier Water Cream complementary for an honest review I was worried that it would mess up all the progress I've made on my skin over this past year. Plus I have the most sensitive skin that I swear breaks out just thinking about a breakout. But after reading that it contained no parabens, sulfates, or phthalates\\xa0(major irritants of my skin) I decided why not and applied this product daily for a week. After the week I noticed that my skin did NOT break out but was actually looking even more hydrated and plump! There is a ton of product in this jar and I'm excited to keep using it combined with my existing skincare routine and see if the hydration in my face improves even more. \\nI recieved this product complementary for an honest review. All opinions are mine and are not influenced in any way.…read more\",\n",
       " 'Great product! Was amazed how soft my skin felt after just one use, I think it did break me out the first few times I used it but after my body adjusted my skin is absolutely glowing! When you skip a day your dry skin does come back literally over night though',\n",
       " \"I had a sample of this and took it with me for a 10 day trip to French Polynesia. It worked so well I ordered the full size. I have OILY skin so I was a little concerned to use a BB cream all day, everyday. But I had no issues at all. I did not get burned (or even brown) despite being on boats and swimming with  sharks (I'm light olive). I use it daily now in Florida. I find now that I have a little sun (it happens) that it washes me out just a tad so I use a light bronzer with it. I hate tans with white faces. My skin feels healthier. I am still using masks and acids at night but I think this was the pampering my skin needed.…read more\",\n",
       " 'I cant go a day now without using this product. It makes my skin so plump and radiant and I always use it before makeup now. It has also strongly decreased my redness',\n",
       " 'I have been skeptical when it comes to trying an essence but since I am currently using all but one Tatcha product in my skincare routine so I wanted to try this one. I wasn’t necessarily sold on this the first use, but every time I’ve used it since it just keeps getting better. It really makes a difference with the rest of my products and it definitely leaves my skin plumped. It also has made a big difference with my redness and overall hydration. I do not have any dislikes. It’s a wonderful product!…read more',\n",
       " \"I received this product as a free sample and I can definitely say I am in LOVE. For 2019, one of my resolutions was to switch most of my skincare to be clean - fragrance free, dye free, and paraben free. I wanted to put good things into my body, from food all the way to the products I use on my skin every single day. I've been using this product for around 2 weeks, and I have many positive things to say about it. I like to apply this product with clean hands after I wash my face to restore moisture back into my skin. I love the spout that it comes with because it allows the product to seamlessly flow right into my hand, minimizing the amount of product wasted. I love the sleek packaging of this and the Violet-C Serum, they are beautiful too! I can definitely say that my skin has been looking a lot less dull and dry, especially because in the winter time those are the two problems I deal with the most. If you are looking to switch to clean beauty products, I absolutely recommend this. Although I did receive this product for free through Influenster, I can't stop raving about it and I love it so much - I will definitely be repurchasing this in the future!…read more\",\n",
       " 'Makes your skin so supple.  Easy to use and makes you feel fresh.  Beautiful packaging. Works well with the violet c serum.  I received this complimentary for testing purposes.',\n",
       " 'its alright. its like spraying water on your face. nice packaging too bad you cant bring it on the airplane to humid countries :X',\n",
       " 'Wore this twice and started seeing results. My skin looks smoother and healthier. I slathered this on one day and my husband said my skin looked so good and know it was because of this! I have to say that it is a little bit sticky but still absorbs well. It gives me the prettiest glow and that alone deserves 5 stars.',\n",
       " 'Very refreshing. Love to use this as a little touch up for my makeup, just spray it on and take my blender and set everything back in place.',\n",
       " 'Amazing for oily skin',\n",
       " 'love this--- soaks right in. The ceramides repair your skin barrier, so that it \"learns\" to develop moisture retention on its own so it actually fixes chronic dryness. so many of us over exfoliate and over peel -- this is the perfect antidote into replenishing our skin barrier.',\n",
       " 'I was searching for a moisturizer that would help hydrate my dry/sensitive skin. At the time I was also experiencing a bad eczema flare up and one of the workers recommended this product to me. This did not moisturize my skin but in fact made it worse and more irritated. Please stay away from this!',\n",
       " 'I was scared by the price but my god this is amazing. I have very dry, rough and patchy skin and this melts into my skin so quickly. I have only been using it for three days now and I have already seen a considerable difference in the texture of my skin and the brightness of it. This is a forever product for me!',\n",
       " 'This GENIUS sleeping collagen night cream from Algenist is miracle in a jar. I have combo skin and I was worried it would be too much but I wake up with the softest skin every morning. I absolutely love it. I received this jar compliments of Influenster in exchange for my honest review.',\n",
       " \"It's tiny enough for travel and it literally prevents me from over-heating in the NYC subways every morning. It's a classic spritzer that disappeared for awhile, glad it's back on the market somewhere!\",\n",
       " 'I absolutely LOVE this stuff! It’s so light and blends in with my skin perfectly. I use it as an everyday skin tint but it’s very sheer so if you’re looking for something that has a lot of coverage, then this isn’t for you. It’s also great as a base for your foundation as well! It’s pricy but the quality of the product is so worth it and it lasts forever since you only need a little amount for this stuff to work it’s magic!',\n",
       " 'I enjoyed trying this product out. For the price I’m not sure I would want to buy it all the time, but as a splurge sure.',\n",
       " 'Absolutely love this product! I am a tatcha junkie and this doesn’t disappoint. I apply 2 a day and it leaves my skin so soft and my makeup goes on flawlessly.',\n",
       " \"Really not worth the money, I used it for 3 months and didn't really see any change on my skin. I switched to Fresh essence and I'm much happier with that product.\",\n",
       " 'I never write reviews, and I truly appreciate the wonders that this product has brought to my skin. I often would experience flaky spots and in addition my oily t-zone but after trying this product. Flaky,dry spots are gone. And my skin looks brighter and feels smoother.',\n",
       " \"This is my new favorite moisturizer! I LOVE IT! It's so hydrating and smells amazing!! Even though it's a night cream, which is usually thick, this is light. It goes on easily and a little goes a long way! Not greasy at all which I love. I would definitely recommend this for all skin types, but especially if you have dry skin.\",\n",
       " 'Love it!!! Best moisturizer ever :) it feels great in my skin.',\n",
       " 'some moisturizers tend to sting my skin but this one does not. I use this nightly sometimes during the day. The tube is huge so the price is worth it and I love the product',\n",
       " 'Very refreshing, cleanses and hydrates super easy and gentle. I love the smell of it.',\n",
       " 'This product is well worth the money! I paired it with the liquid collagen nightly. After the first few nights I loved how my skin felt. I put it on at night and left it over night. The jar will last a while because it takes very little fro face, neck and chest. I received both this and the liquid collagen in my Influenster box. I love Algenist their products are great quality and you know they are going to give you results you want.',\n",
       " 'I am absolutely in love with this produce! I received it for testing purposes, but I immediately fell in love. My skin feels hydrated and glowing after using it for just a few days. It’s a little awkward to put on, but once you get the hang of it, it’s amazing. I already know I want more when it runs out!',\n",
       " 'Love this product!!! My skin has improved drastically since I received it. I apply it at night after I cleanse it. Every morning I wake up with beautiful dewy supple skin. I received this product conplimentary from Influenster for sampling purposes but all opinions are my own.',\n",
       " \"I've never been one to have super smooth skin. I didn't start using essences until a couple years ago but all the ones I tried before just felt like I was rubbing expensive water on my face with no changes. This is the first one that has done what it claimed to do. I don't need a lot of this product to cover my entire face. I just pour a few drops in my palm, rub my hands together (just enough to coat both palms) and then lightly press all over my face and neck. Once it dries, my skin is silky soft and I love it. I use this as part of a regimen with the deep polish and water cream and my skin has improved in texture over time. I rarely have any breakouts anymore and pores are reduced in appearance. While having oily skin it's nice to find a product that doesn't strip me of all oil and doesn't feel greasy or sticky. It's pricey, but it's well worth it for me. I would recommend getting a sample before to determine if the price tag is worth it for you though!…read more\",\n",
       " \"Bought this in a sample kit, wasn't even sure how to use it, but hydrating and nice! Check out my video to see my other purchases!\",\n",
       " 'It does everything a moisturizer should. Its hydrating, it gives your skin a soft, supple, almost juicy appearance (not shin-juicy as in plump). It makes my skin look airbrushed!',\n",
       " 'Love that there was no fragrance but way too sticky! Felt like rubbing glue in your face, the cream never seemed to fully soak in even when I woke up the next day.',\n",
       " \"Everyone wants throw CBD in something and thing its going to be magical. I really wanted to see some magic...but it fell short. it sets oily if you put more than a dime sized amount on. Has a good smell. I overall just couldn't justify $68 on this. I stick with IT cosmetics awesome sauce.\",\n",
       " 'Best moisturizer ever!!! I cannot express how amazing this cream is, everyone needs to try it! It is heaven inside of a tube. I will never look back to any other products. I have also seen this product on sale before so keep an eye open.',\n",
       " \"Beautiful product, it gave me a brightening effect and my skin was much softer. Great ingredients, I love this and I'll definitely purchase it again.\",\n",
       " 'This BB cream. sunscreen is amazing. I have relatively sensitive skin and this cream is not oily, but still goes over my skin really smoothly. The color is a little darker than my skin but it blends very well so there is no problem at all. This product is pricey but its worth it for me! Also, the scent is pleasant!',\n",
       " \"I am in love this product. It makes my skin so soft and I feel so refreshed using it. I use this after I've cleansed my face with the rice powder (also from Tatcha) and before I put on my moisturizer. I adore the clean, fresh smell. The manufacturer has thought of everything - the dispenser ensures that you use only what's needed.\",\n",
       " 'This is one of my new favorite skin care products! It’s so easy for your skin to absorb. I noticed my skin has become more hydrated and softer since my first time using this product! It also helps my serum absorb so much better. I have very sensitive skin and it reacted so well to the product. Highly recommend!',\n",
       " \"This keeps my skin super hydrated all year round without any stickiness or oiliness. It's a multi-working cream and my holy grail!\",\n",
       " 'I love all the argan oil products.\\r\\nA full review of multiple products can be found on my blog\\r\\nat https://beautylinz.wordpress.com',\n",
       " \"I always want to try new skincare but always end up going to SK-II. This essence does wonders for me. It makes my skin soft and helps with some of my acne. A must-try if you haven't already.\\n\\nBut you do need to give it about 1-2 wks (depending on skin condition) to see some results. Some people say it didn't work for them and it felt like water, but I think they were either using too much or not enough, and it needs to be also consistent. I use it morning and night after toner, and let it dry completely before applying anything else.…read more\",\n",
       " \"I have really dry skin; naturally winter months are rough and this cream saved my life. I mean, it smoothed out my eyes, and they were in bad shape. My face felt smoother and so hydrated. I've already purchased this three times and will continue to do so every time.\",\n",
       " 'Very nice, I really like the tingling feeling as it goes to work',\n",
       " 'I don’t think this product is worth the price but I definitely liked it. It absorbed in pretty well, and I felt like it prepped my skin for serum very well. I thought it was a bit too liquid-y, making it difficult to spread around and it really easily kind of dropped right off my face. Only other complaint is I really didn’t like the delivery method on the bottle. You pretty much were pouring it on your face, making it hard to get exactly how much you wanted and even easier to get too much and have it spill off your face. I received this product free to test but all opinions are my own.…read more',\n",
       " 'I received this product to test and I do think it is nice. It is very watery, and I honestly can’t tell if it has done anything...maybe more time will tell.',\n",
       " 'I received this free from Influenster and overall, I like it. It smoothies out my skin and gave it a great look. However, it does have a pretty strong odor for something that you are rubbing all over your face and that’s why I gave it four stars. It is a very lightweight formula that sinks in well! Would recommend.',\n",
       " 'When I began using this product I started to notice a change in my skin. It began looking more supple and smooth. I had heard about this product before and was always curious about it. It works so well!',\n",
       " 'I love this because it’s super lightweight and it gives my skin and natural looking glow..\\nI really don’t smell any fragrance coming from this BB cream and if it does it’s very light and subtle. \\n\\nAnother thing I like about this product is that it has SPF 30 and all the ingredients are good for my skin. \\n\\nCons: I really don’t have any cons besides maybe coming in more colors.. I like to get the light medium and the tan dark, so I don’t have one solid color on my face there’s contrast.…read more',\n",
       " 'I really loved how luxurious the product felt. It feels like hydration all over your skin. The scent was a bit strong for my personal preference. I received this product complementary for sampling purposes but all opinions are my own.',\n",
       " 'This product is life changing! At first glance and because I cannot lie, this product looked like plain water to me however, after researching it a bit further on the Tatcha website I decided to give it a go. And I am so happy I did! I have always enjoyed low maitenance skincare routines, and this is so easy to incorporate. You simply splash a tiny bit on your palm (has a feet spout dispenser) and press it into the skin. After continued use, I can definitely say it makes my skin so hydrated, even in tone, and as if my moisture barrier is not being compromised. Although the price is steep, it is really worth the plunge and did not make me break out. In fact, it has significantly helped in reducing breakouts and inflammation.…read more',\n",
       " 'Use a sample a few times but will be tossing the rest. Looks whitish on skin and a slight greasy residue.',\n",
       " \"I've never been one to use foundation, but I was convinced to try it out and I'm absolutely obsessed with ti!\",\n",
       " 'This was the missing link in my skincare. I wanted deep hydration and this does that. On top of that it’s a big bottle, it evens skin tone and helps with blackheads as it helps eat away at dead skin cells. Love using this alone or before any serum or moisturizer. I do use Tatchas luminous memory serum concentrate, beauty oil, rice powder, water gel, soothing Indigo recovery cream etc... love it!',\n",
       " \"This is the best product ever. I use this as a toner after cleansing my face. My face feel so soft after using this and every lotion or moisturizer goes well on my face. This beauty water help my face clean and doesn't irrigate my acne :) I've been using this non-stop since I purchased this from 20% VIB rougue sale. would definitely repurchase.\",\n",
       " 'This product actively removes the fine lines that I have on my forehead. I feel that it makes my skin more youthful with a more plump and hydrated feeling. I do not love the applicator as it makes it a little bit hard to put on the face but it is still a really great product that I highly recommend.',\n",
       " 'This product broke me out and I don’t have break out prone skin. It smells so nice and was pricey so I soldiered through and just used less, eventually just mixing a small amount in with my moisturizer. I used for a month or so, it truthfully did nothing but irritate my skin.',\n",
       " \"I love essence.  I've been using them since I went to Japan last year.  I've tried several brands from both Japan and Korea and while this one is fine, and does hydrate, it's no better than the one I picked up in the drugstore in Japan for a fraction of the price.  On the plus side, it doesn't have a strong fragrance like some of the others I have tried (fragrance can be damaging to skin).   It just seems a bit pricey for what you get, though with essence, a little goes a long way.…read more\",\n",
       " \"this product is AMAZING. I love it so much. I've been using it at night and my skin looks and feels great. it doesn't break me out or cause any irritation. wish it wasnt so pricey though.\",\n",
       " \"I have been using this every night for the last 5 months. I get hormonal, adult, cystic acne (maybe 1-2 bumps every month around the time of my period). I also have really dry skin. After about a month I stopped having to use ultra thick moisturizer for my skin at night and I am sometimes not even needing a lotion in the morning (saving me so much money!). I haven't had a breakout in maybe 2 months. I am also noticing that flaking in my T zone has gone away completely. I don't want to definitively say this serum has made all the changes I have seen because I have been making an effort to sleep more too but my skin has NEVER been this dewy and consistently problem free. I recommend this to anyone who has occasional breakouts, dull…read more\",\n",
       " \"I was given a sample of this product with a purchase I made in store. I used it the following night and it almost made me consider dropping $98 on face cream. My face had dry spots from the winter and after using this, the dryness was gone and my face felt moisturized and dewy - but in a good way. It's not heavily scented. If you have the cash to spend, this really is a great product.\",\n",
       " \"I got this as a sample & was sad it didnt work out for me. Very rarely am I sensitive to fragrance but the smell from this product was so overwhelming I had to wash it off after five minutes. I literally felt like I was choking from the smell of it. It does have a silicone texture to it & is drying on it's own.\",\n",
       " 'I did not like this product. I received it in a box for Influenster and it did not work for me. I have very oily, sensitive skin and after only using it for a day with my regular skin routine, I broke out like crazy. And as soon as I stopped using it, my face cleared up more. I do not recommend this product for people with very oily skin.',\n",
       " \"It's very sticky once you put it on and leaves a not so plesanet film on your skin once applied. very moist and watery.\",\n",
       " 'I started using this product after receiving it complimentary from Influenster, along with the Voilet C brightening serum. The Essence works great especially paired with other Tatcha serums. I used serums and moisturizers of other brands with Essence too and was surprised at how much it helped increase the effects of my existing skin care routine. My only issue with it is that I broke out the first 2 days of using it, but after my skin adjusted to the product it worked beautifully!…read more',\n",
       " 'I was reluctant to buy this because it was pricey, but after one day of using it I am hooked! It makes my skin flawless and dewy, which is hard to do because I have fine lines and extremely dry skin. Totally worth the money - I am going to stock up for life!',\n",
       " 'At first I was hesitant about shelling out $95 for “water”. I do not regret this purchase and noticed an improvement after one use. My skin is more plump, vibrant and healthy from using this twice daily, and I can feel my other skin care products working better too. I will never again go without essence in my skincare beauty regimen. Again, I know the price is a little steep, but everything in this essence is high quality, nourishing and a little bit goes a long way.…read more',\n",
       " 'Algenist Liquid Collagen - makes a real cool noise when you 1st open it. To me it smells like baby powder',\n",
       " 'Though there are 800 review that says this product is amazing, I should have looked at the bad reviews. If you are reading this and have sensitive skin...DON’T buy this product. I’m sure this works great on someone with normal skin but this product turned my face into sand paper...no exaggeration. After like the 2nd or 3rd day of use, my skin started to itch like no other and just became very rough. At first I didn’t think it was this product until I decided to read the bad reviews and noticed others had the same problem! Again if you have sensitive skin...proceed with caution.…read more',\n",
       " 'I found this after they discontinued the Hope in a Moisturizer by Philosophy. It is the only one with out chemicals and parabins. It also works great. I mix it with NARS highlight in Casablanca and my skin looks flawless and dewy. LOVE!',\n",
       " 'This is my second Tatcha product and second time using an Essence, and I would say it works - but maybe just as well as the other that I’ve used. It’s by far more beautifully packaged though. It it easy to apply and absorb. I like to pat it in, gently. It keeps my skin hydrated and it’s great for layering my other skin products.',\n",
       " 'AMAZING!!! THIS IS SO GREAT FOR WINTER!!',\n",
       " 'I received a complimentary COOLA Rosilliance Organic BB  Cream SPF 30 for testing purposes. I have freckles so hate the way foundations cover my face. This BB cream was perfect for my needs. It didn’t make my face appear washed out and it helped tone down redness I have. I loved that it left my skin with a dewy complexion and I appreciate that it contains SPF. It is non drying on my skin and I found easy to apply by patting on to my face without leaving my hands a mess. I can smell the rose in it and scent wise it’s not overpowering.…read more',\n",
       " 'This cream saved my dry, cracking skin this winter. Within a couple weeks the flaking skin and dry patches on my skin were gone. Only downside to this cream is the outside of the packaging. The packaging cracks and crumbles when the tube is almost used.',\n",
       " 'I received this product free via Influenster and I loved it from the moment I got my box. My skin is in the best state I have ever seen it and I have not looked back. My acne has reduced and my skin is so soft. My only two complains are the packing as it is difficult to dispense. It is a bit pricey, but you do get what you pay for in results.',\n",
       " 'I received this product free to try from influencer and this essence is amazing. I use it every morning and night after my toner for my skincare routine and it’s improved the texture of my skin so much. My skin is a lot tighter, plumper and smoother now and it’s a dream. I use it right before I use their brightening serum as well. It goes on super smooth and dries quickly as well but leaves your skin feeling super moisturized and soft.…read more',\n",
       " 'I got this in a vox box and was excited but a bit skeptical. I didn’t think I needed an essence in my skin care routine because I was already using a nice toner, vitamin a cream, and super nice moisturizer from Biologique Recherche. Let me tell you, this essence has upped my skin care game, especially in the winter! Love this and will be purchasing when I finish the one I got!',\n",
       " 'I absolutely love this product!',\n",
       " 'The highest praise I can give is it does NOT irritate my dry sensitive skin. Even though it clearly has fragrance (smells good imo) it does not irritate my skin at all or leave it red, and I have a problem with redness. In fact, using it with the matching serum I notice a decrease in my redness on my cheeks, so it has to be doing something right! Absorbs quick, light weight, and so hydrating. It really is great.',\n",
       " \"Great product! I use it all over. Usually I sprayit on my face after applying my power so it doesn't give such a dry/powdered look. Three bottles one for home, car and purse.\",\n",
       " \"For me, not a good product for the winter - doesn't provide enough moisture...I think it will be great for the warmer months.  Not overly fond of the smell.\",\n",
       " 'Love this! The packaging is gorgeous, the pour-spout is super convenient for application, and it just makes my skin feel so fresh and awesome.',\n",
       " 'Buy it, just do it. \\n\\nSo when I saw the price I was like is it REALLY something I need? Turns out it is! I feel fresh and plump and ready for the rest of my routine. Everything sinks in deeper and leaves me feeling that must more ready for my day',\n",
       " \"It doesn't have any effect. NOT worth the price...it's just water with fancy packaging.\",\n",
       " \"I bought this because the acne medicine my dermatologist prescribed me dried my usually normal face out. It doesn't feel like it really does anything. I still have dry patches and for almost $50 I was expecting more. It also has a really strong smell which gave me headaches.\",\n",
       " \"It's a thick night cream, but it feels more buttery or creamy rather than greasy. It makes my skin very nourished and dewy overnight. I have combo/acne-prone, so I typically stay away from heavy creams. This one hasn't given me any problems. Collagen is the first ingredient which speaks a lot! (I received this product complementary for review purposes, but all opinion are my own).\",\n",
       " \"As a mom of two boys (a toddler & 6 month old infant) I no longer have too much free time to myself, let alone the luxury of an extended skin care regimen...but after cleansing your face,  this simple 2 step process isn't very time consuming. Especially if it means achieving radiant skin during the harsh winter months which wrecks havoc on my skin.\\n\\n1] Essence just a fancy word for toner. Lol.\\n\\n It feels lightweight when applying...Fresh & refreshing to my skin. Applied w clean dry hands... loved the pouring mechanism on bottle,  no extra spillage! Just shake out what you need. \\nA splash or two is sufficient!\\n\\nAlmost immediately it feels supple & moisturized.\\nWished it could be more of a creamy  & thick moisturizer but will give it more time to see results. \\n\\nI love Japanese and Korean skin care! So very excited when I first discovered Tatcha products at Sephora ... looking forward to trying out more of their skin care line. \\n\\nComplimentary for sampling /testing & social media review purposes. @tatcha @influenster \\n\\n#voxbox\\n#tatcha\\n#iSeeVioletC\\n#VioletCandMe\\n#japaneseskincare\\n#toner \\n#beauty #skincare #buyitnow #availablenow #sephora \\n#newyearnewskincare…read more\",\n",
       " \"This product has no scent (that's good) and feels like you are patting water on your face, so at first you wonder if it's doing anything. But after 1 month of using this as s first product, morning and night, I truly can see the difference in plumpness (I'm 40). I've made no other changes to my routine so I'm attributing the difference to this essence.\",\n",
       " \"I have very dry skin so I'm really enjoying this ultra-thick cream moisturizer. You really only need the SMALLEST little bit on your index finger to cover your entire face. Also, the price point is perfect for me. I love the packaging as well. It's not affecting my acne which I'm really happy about. Seems to be easy on sensitive skin.\",\n",
       " 'I have dry skin and using this product has helped me especially during the winter.',\n",
       " 'Although this cream is a little pricey, it really works! My skin is so hydrated and feels smooth. Whenever I use it at night, my skin look brighter and seems clearer. It is a great find for the harsh winter months.',\n",
       " 'I love this stuff so much! I use it in addition to The brightening serum and.. YES.',\n",
       " 'I have been trying all kinds of moisturizers lately because I cannot find any that help with my super dry skin. I bought this and the face wash. I LOVE this. I use it after washing my face at night and before applying my makeup. This is wonderful. It has a little bit of a tingling feeling but I actually like that. It smells amazing also. This moisturizer actually made my dry skin almost completely go away. This will now be a part of my skin care routine, especially because it is the only moisturizer that has not broke me out.…read more',\n",
       " 'My sister love tatcha products, for me was just like any other regular products until she told me to try this, oh man I was Hook is like literally food for your skin, love it.',\n",
       " 'I love essences and already use them - this is some high quality stuff. It is really lightweight and absorbs quickly, and I like how cooling it feels especially in the morning. It smells so nice and I only need a little bit. The packaging, while not the most important thing to me when buying products, is beautiful and eye-catching. Easy to retrieve product! But I’m also afraid of knocking it over and wasting any of the goodness, but I’m almost sure it will spill right out based on the design of the bottle. But anyway, I truly love it. It’s lasting really long so while the price point is high, I think it’s worth it.…read more',\n",
       " \"I first bought this for ski season, but I'm wearing it daily now for the dewey glow that it leaves. It last all day without a heavy finish.\",\n",
       " \"I've been using the Genius Sleeping Collagen for about 2 weeks now and I'm in love with it! It makes my skin feel so soft and hydrated. It has a really pleasant smell. The texture is thick and buttery (almost like body butter) but still absorbs into the skin easily.\\nI received this product from Influenster in exchange for an honest review.\",\n",
       " 'I had dry, red and sensitive skin and finally I have a product that suits me.  I went into Sephora with complaints about my dry ruddy skin tone and came out with a new routine that includes an oil makeup remover, Dr. Jartt serum and ceremidin cream.  I also bought the tarte sea foundation and altogether it has drastically improved my skin.',\n",
       " 'This is a great moisturizer!  I would give it 5 stars but the perfume is kind of strong.',\n",
       " \"This is a great BB cream when you want a little bit of coverage and a lot of glow in the summer! It is very light-weight when applying it - almost watery - and it goes on smoothly and absorbs well. It does leave my face shiny, which is fine with me if I'm going to be out in the sun. It's like a nice summer glow! If I'm going to be somewhere where I want a more matte look, I just use a little powder on top of the BB cream. I love that it has SPF 30 and that it is mostly organic ingredients and cruelty-free! I also love the easy-to-use pump. Coola is such a great brand and I've love every product of theirs that I've tried.…read more\",\n",
       " 'I got a sample of this product and after a day of use my skin felt smoother and brighter. Will definitely purchase the full size for better results!',\n",
       " \"I received this as a sample. Upon seeing the shade in the bottle, I thought there was no way this would work for my skin (I'm very fair), but it actually blends very naturally. It evens out my skin tone, smells great (if you like floral scents), adds sheen (which I like), and feels light and moisturizing. I would prefer a touch more evening of tone (like redness reducing), but overall it's a very luxurious product.\",\n",
       " \"love everything about this cream. the texture is so smooth and soothing, literally feels incredible to put on my face.  I don't have particularly dry skin but it works great as a daily moisturizer, I use it under my foundation which is part of the same H20 line and they work perfectly together. tarte is one of my favourite brands because they put out consistently great products and also they're vegan and cruelty free, what more can a girl ask for…read more\",\n",
       " 'Amazing. Leaves an amazing finish and texture. I would recommend to a friend.',\n",
       " \"Psychologically, I FEEL like my skin is being plumped and dewed up. HOWEVER, in reality....not so much difference as far as I can tell. I call it my Unicorn Water because I want to believe in unicorns and love them ,but never really see 'em in real life. I think the same thing kind of goes on with this stuff. Makes you feel pretty, but it basically is overpriced spring water .\",\n",
       " 'Love love love!! The instant I put on the cream I felt my skin feels SOOOO soft.I kid you not my skin even now as I feel my face and neck it feels silky smooth!\\nI have eczema and this didn’t agitate or irritate my skin.\\nIt has a very faint scent of any generic face cream.\\nI did recieve this as a complimentary product to review from Influenster.That being said. I will be buying another one as soon as I finish this product!…read more',\n",
       " 'Love this Coola product. It feels light on my skin and I’m protecting my skin with spf 30.',\n",
       " 'Not at all impressed by this. It smelled more like a shampoo than a facial serum. Unfortunately, it also did nothing for my skin.',\n",
       " 'I am very disappointed in this product. I have never returned anything I\\'ve purchased from Sephora before however I could not get past that fishy smell. Do not believe others when they say the smell dissipates, it does not. I purchased this for prevention reasons, I mean who wants a \"turkey neck\" right, but the smell ruins it. If you like fish then you\\'ll love this product, however for the price of this be warned, it\\'s very stinky!…read more',\n",
       " \"The Beauty Elixir is a must have product. Anyone can use it. Oily skin or dry skin. I have very oily skin. Like you can cook an egg on it :) BUT the beauty elixir doesn't add any more oils, it almost matts it. Kind of weird I know since it has oils in it. It makes my skin glow. And not the normal oily skin glow. Like a beautiful radiant glow. I can't wait to use it during the summer months :)\",\n",
       " 'This product has made my skin feel so soft and smooth. I use little so a bottle lasts a long time. It has a little stinky smell but it goes away quickly. It has not made my sensitive/combination skin to break out.',\n",
       " 'I am absolutely in love with this product. I never found the need to include essence into my skin care routine but I now know. It does exactly what it says it will do. My face is normally very dull and it’s often dry where you can see the cracks and texture, BUT at the same time generates a lot of oil. This essence paired with the violet-c serum is a wonder. My face is so smooth and supple, and you can really see a difference after just a short amount of time using it. I’ve been using it for a little under 2 months and I still have more than half the bottle left after using it twice a day, daily. I also have acne problem and it’s been helping with my scars and acne issues as well.…read more',\n",
       " \"I can't get over the fact that this works amazingly for me! Now I'm upset that I'm committed to buying a $95 essence water! XD But it's seriously worth every penny!\",\n",
       " 'I really wanted this to work but after a few days it really broke me out bad and gave me more blackheads all over my nose! Also not very moisturizing for dry skin. This cream is definitely not for acne prone dry skin.',\n",
       " 'Got this as a free testing product, so far I like it soaks into the skin pretty well and left my skin feeling a little softer',\n",
       " \"The texture of this cream is so buttery. I love it. My face is usually combination but it doesn't make my t zone feel oily after application. I wake up and my face is not greasy and it feels moisturized. \\n\\nI received this product complimentary for sampling purposes but all opinions are my own.\",\n",
       " 'Smells amazing and leaves my skin super soft (not oily) over night!',\n",
       " 'I’ve searched everywhere online, and cannot find a definitive answer as to whether this brand is cruelty free. In fact, it seems they are purposely misleading by stating that some products in their line are, while not labeling other products. For instance, the description for their cleanser says, “This product is cruelty-free,” but this moisturizer does not say that in the description at all. In fact, this moisturizer says “Dermatologist Tested” in the description. It seems that because they call some products in their line cruelty free, people have assumed that the entire brand is not tested on animals. Even their web site does not say they are cruelty-free. This bothers me because I am very careful not to support brands that test on animals, but brands like this make it purposely confusing and ambiguous. It is likely the case that most of their brand is sold in China and tested on animals, but they develop a couple of US exclusive items like the cleanser that are not tested, so they can call that one product cruelty-free. If I am wrong, then state this clearly in the description for your brand and ALL products.…read more',\n",
       " 'I received this product for free as a promotion and it was absolutely amazing what a game changer for real the best products I have used!',\n",
       " \"This cream moisturizes my sensitive combination skin well without ever irritating it.  The consistency is a little thicker than other moisturizers I've tried, but it goes on easily and is absorbed quickly.  I've tried it over the (travel-sized) Ceramidin serum and will buy the full-size serum next.  Love, love, love it!\",\n",
       " \"I noticed others loving this product but I don't feel the same. First of all it's water so putting it on you lose most of the product pouring it into your hand unless you use a lot but it's way too expensive in my opinion to lose so much of it plus I didn't see any difference at all!! I like other Tatcha products but this product I just don't see the benefit.\",\n",
       " 'Goodness, where do I even begin? I’ve been trying essences left and right lately, and this one seems to perform the best. I want to go as far to say that it works better than the SK-II essence. I’ve actually seen results while using this, too. This absorbs into the skin so gently, and doesn’t leave a tacky texture. The hydration is extreme, and I feel like my skin’s texture has changed. It’s such a pure product, it’s definitely worth it. You will not be disappointed.…read more',\n",
       " 'Goes on so smooth. Smells wonderful. Works like crazy!  I am 55 and often get asked if my children are my siblings. Very expensive but worth it.  A bottle will last more than a month for me because sometimes I only use it at night. I would not hesitate to buy this if you have any wrinkles and want your skin to look smooth and even.',\n",
       " 'Love it for giving my skin some healing time. I have sensitive very fair skin and especially in dry winters this does the trick as a daily moisturizer.',\n",
       " 'Amazing, amazing, amazing! This product feels so refreshing on the skin and I can feel my other skincare products soaking into my skin more effectively. Great size and love the packaging! Definitely will repurchase. Can see a difference in my skin already',\n",
       " 'Wow! This essence is amazing! It makes your skin so hydrated and soft! It blends so well into the skin and has a very light fragrance. I use this right before applying their vitamin c serum, and the next day my skin looks hydrated and smooth! Not to mention I love their packaging! It feels so luxurious and it looks very clean! Thank you Influenster for letting me try this product!',\n",
       " 'This is a great product, and as someone who is new to the tatcha line this would be something I would purchase again! I used to use SKII and the two products are very similar, I notice that this seems to soften my face initially before completing the rest of my routine.\\n\\nI received this product free for review purposes.',\n",
       " 'This cream has my face feeling so soft that I cannot stop feeling it! I am wowedddddd.',\n",
       " \"I got Essence as a gift over the holiday. At first, I didn't quite believe that adding this 'water like' fluid to my daily routine could improve my aging skin, until two weeks later when I returned to my home town and got many compliments from neighbors who hasn't seen me for two weeks.  I was told  that my skin looks more rediant, translucent and supple.  Now, I'm convinced that this Essence is truly a 'super foo' Just like the product claims that it better helps skin, after using cleandsing oils & enzyme powder, to more effectively absorb the brightening serum & silk cream.  Mom was right; she used to say 'wet the soil first before spraying fertilizer'!…read more\",\n",
       " 'Amazing product!!! Love love love, I received this complimentary from a company and I’ve noticed results right away.',\n",
       " 'I really like the way this product makes my skin so soft and keeps it moistureized without my skin having an oily feeling. It also hasn’t made my skin breakout like most new products do to my face. I have very sensitive skin, so I was excited to find an amazing product that works well with my skin. This is perfect to use as the base on your skin before and skin routine. Just put a small amount on your palm of hand and dab softly on top your skin. I did receive this product complimentary from Tatcha and Influenster to test and review this product.…read more',\n",
       " 'I actually noticed a difference in my skin. Overnight - moisture, maintaining firmness and feels amazing. I didn\\'t even realize until other people were saying \"You look great and so well rested!\"',\n",
       " 'Wonderful product. Makes my skin nice and plump and preps it for my other skin care. I love it. Smells great too. I received this product complimentary for testing and reviewing purposes through Influenster',\n",
       " 'No more dry skin during winter. I really liked this sleeping collagen',\n",
       " 'Love, love, love this product!  I use it as a foundation.  I am 58 years old and it does not wind up in the creases of my wrinkles.  Wonderful!  Goes on smoothly.  Provides sunscreen and a bit of color.   I wear it to work and it lasts all day.',\n",
       " \"This product has quite a few claims. While I do feel like it helps with the absorption of other products and uneven skin tone, that's pretty much it. I will not be repurchasing after it is used. I can find a product that does the same for half the price. In my opinion, Tatcha does not live up to the hype for me. I purchased the whole line and then even tried other products of theirs and they broke me out, which never happens to me. Their is too much fragrance in their products.…read more\",\n",
       " 'I received The Essence complimentary from Influenster. I can’t belive I haven’t used an essence in my skin care routine before! Ever since I tried it it’s a must! It makes my skin feel very hydrated, absorbs into the skin really fast and definitely makes my skin very soft! I would definitely buy another bottle when I finish this one! Totally recommend!',\n",
       " 'The only reason I didn’t give this five stars is because it made me break out. I loved how my skin looked when using this, obviously ignoring the breakouts. It gives a sheer to medium coverage while  somehow blurring imperfections and making you look dewy and radiant. I loved this so much I kept looking for other breakout culprits. My skin is crazy sensitive and most foundations and cream moisturizers make me break out, so this shouldn’t be the norm for everyone. I sent it back with great reluctance. You should try it and see if it can make you look as healthy as it made me!!…read more',\n",
       " 'I never write a review after using a product 1 time..This is amazing!! I only put a small amount just to see how it looked, I got the light/med cause Id rather boost my mug with a nice bronzer..but anyways this gave my face seriously a PERFECT flawless canvas!! Not kidding!! Added a little more and couldn’t stop looking in the mirror at what I was seeing!! Popped a little bronzer & blush..BAM I’d be ready for my day. I will absolutely buy this again, hands down no doubt. Theres just a nice radiance/glow, not over the too just healthy happy looking skin!!! Ohhhh so happy!! Coola also makes this self-tanning serum for the face which I also love (shameless plug) gives that look like you’ve spent the day in the sun!! This is a nice line of product, will definitely be looking at other products!!…read more',\n",
       " 'Why must it be sooooo expensive? but its worth every penny. Its a very soothing, calming and hydrating magical water. I have sensitive skin and suffer from mild rosacea and it helps with my inflammation and irritated skin on days when im experimenting with new products. i have tried other essences and they dont compare to this. Its an essential that is needed and cant be skipped out on.',\n",
       " 'I highly recommend this product! After using this product I can tell a big difference in the texture of my skin.. my skin is so soft but not greasy oily feeling! I received this product for testing purposes!',\n",
       " 'I prefer a more matte look. I felt like this formula never “felt dry enough.” I ended up giving this away after a few tries.',\n",
       " \"LOVE LOVE LOVE I've tried drugstore and high end moisturizers this one by far is the best!! It doesn't break me out or feel greasy works well with my oils. I have combo oily skin but around my mouth in the winter very dry. With this moisturizer I don't have to reply throughout the day or worry about flaky skin.\",\n",
       " \"Completely obsessed with this essence & so worth the purchase. I Tried a sample & debated on purchasing it because of the price, obviously. It has truly changed my  skin for the better. Tatcha is such a beautiful brand in general and they know what they're doing!!! I highly highly recommend trying this product because you're gonna become obsessed! BUY IT! You will totally feel like future geisha :)\",\n",
       " \"Absolutely love all their products. I started out with the littles and now I purchased all the full size products. Couldn't be happier!\",\n",
       " \"I was hesitant to purchase because there were so few reviews, but I'm so glad I did.  It has a beautiful texture and color and plays perfectly well with everything I've used in combination.  I've been in the sun, no sunburn.  Smells lovely, feels lovely, looks lovely and my skin seems to love it too!!!!!\",\n",
       " \"I received this from Influenster to try and it's seriously magic. I'm not even sure what it does but somehow my skin is so smooth and soft?? I love that it feels so luxurious and I can tell my skin loves soaking it up. It's very gentle on my skin yet somehow make such a difference. I'm so glad to have this as part of my routine!\",\n",
       " \"I've been using this moisturizer morning and night for about a week, I love it. I have normal to combination skin, with some clogged pores and light oil in my t zone sometimes, so this fits perfectly in my routine. I was previously using clinique's thirst quencher daily gel moisturizer and this has a very similar texture and application, but with its anti aging properties I've already seen an evening out of redness and decreased fine lines and pores. Love the pleasant fresh scent, too! Takes very little at a time so it's well worth the expense.…read more\",\n",
       " 'I received this product complimentary for testing purposes. This essence is so great and leaves my skin feeling so smooth after each use. Easy and quick to apply. I haven’t used it long enough to tell if there has been any positive effects on my skin but I have no doubt that there will be!',\n",
       " 'This is magic. All fine lines are gone after only a minute from application to clean skin. I love it.',\n",
       " 'First of all, this product smells amazing, unlike many other products. Secondly, it works amazing. I recieved this product from Influenster. Thank you so much.',\n",
       " \"This is super great for sensitive skin!  anytime I do a stronger skincare routine, as in use AHA's or do a peel, I've been following up with everything from the Calming Line and my skin has never been happier. \\ngifted from Influenster\",\n",
       " 'I received this product complimentarily from Influenster for testing purposes. I patted it onto my skin and it absorbed very quickly. My skin felt plumper within minutes of using. It’s so hydrating and makes my skin so soft!! I have to stop myself from touching my face. I will definitely be buying this again. I’ve already told my friends about it.',\n",
       " \"A word of warning: this stuff is really thick, and the color probably won't go with many skin tones - it's kind of a pale grey (although the grey disappears on the skin). However, it leaves my skin feeling amazing (one makeup artist asked what I had on, because my skin felt so soft!) I'm very fair, so the color works for me, and I find that this has a good amount of coverage - I don't necessarily need anything on top to even myself out completely. This is the first BB cream I've found that makes me even but not oily, and feels great!…read more\",\n",
       " \"I used a sample size of this and really liked it. This is the perfect moisturizer for those colder months, or anytime at all really. It goes on super thick but blends easily. I love how it blends and feels on the skin. My skin soaks it up. It's a new favorite.\",\n",
       " 'It’s a really nice product and it feels nice on the skin. However the color light/med is a dark rose color. Maybe the Golden would’ve matched be better. It’s not working out. I’m just going to use this as a bronzing lotion on my body since I can’t return it.',\n",
       " 'I could see a difference in my skin in just a few days! It felt smooth and soft.',\n",
       " 'Good ingredients, works well! I have noticed my skin has been smoother and my skin tone is more even.',\n",
       " \"This moisturizer leaves my face feeling softer than a baby's bum. Must have.\",\n",
       " 'It seems to add some moisture, which is softening. I do not notice any \"plumping.\" Rather than wasting product in a cotton pad, I\\'ve poured it into a small spray bottle from Sally. I will gently massage after spraying.',\n",
       " 'Love this product! This is super helpful for my skin type - extremely dry. I use this product on my trouble areas: cheeks, between eyebrows, nose, and smile lines. I use a combo of Belief True Cream Moisturizing Bomb everywhere else. \\nThis product is def. worth it!',\n",
       " 'cant stop using this everyday!! my skin is dry like a desert and i use almost every Algenist product there is to keep my skin supple and moist. this is the best product ive ever perchased4. skin is moist in the morning and during the day. im on my second jar and will continue to re purchase. Algenist thanks',\n",
       " 'This is the only moisturizer that helps my dry skin in the winter! I have tried several low priced and high priced moisturizer (la mer, tacha...) and nothing stands up to this!',\n",
       " 'I love this moisturizer but I went through it too quick.',\n",
       " 'The Algenist works great on your skin at night and helps it to feel healthier and younger. I would recommend this to friends.\\n\\nPlease note that I received a sample to help facilitate this review, however, my opinions remain my own.',\n",
       " \"I really loved this product, it was light and airy. It felt very refreshing on the skin. It does have a scent, that wasn't my favorite but bearable. I love the clean sleek packaging of the product. The only issue I had was seeing how much product was coming out, there were times when I would spill. Thank you Influenster for this complementary product!\",\n",
       " 'The best moisturizer ever! My face feels naturally hydrated all day. Not oily at all. Not sticky. Everyone should try it seriously.',\n",
       " \"Love Love Love I bought this and returned it coz I though it felt dry and silicony on my dry skin but I re-bought it few months later coz I got few samples with my Sephora points and now I love it , I have to use it tho first and lay it over with my moisturizer and it's the best\",\n",
       " 'I was so happy to receive this product complimentary from Influenster. This product is perfect to use before the Violet-C Serum. Using this product really has helped my other products as well. I use this before any other skin care product, after I wash and tone my face. This product is also cruelty free. WIN WIN!',\n",
       " \"I used to tease my friends who sprayed their faces with Evian Mineral Water. It seemed like some of them were doing it for effect, and showing off. Eventually, I learned how wrong I was. One of my friends was fooling around, and sprayed Evian at me. When I went to the restroom, expecting to see smeared eye makeup, I discovered that everything look great, and that on that extremely hot humid Southern day, I happened to look almost radiant. I've been using spray mineral waters ever since, but I only use it on a limited basis, mainly on the winter days when the heat makes it really dry inside, after plane trips, and on hot humid days when my skin needs a lift. It really does make a difference.…read more\",\n",
       " \"I really can't say about the product because upon opening the box, it appeared to be used.  Sephora really has done nothing to rectify.  They sent me a mail label to mail it back, then they'll replace it.  I'm just going to go into the store and return it.  They are selling used products.  That is so gross.\",\n",
       " \"One of my favorite products for my face! I can't use day cream because it is too heavy and I sweat it off so this cooling gel is the perfect solution for me! It keeps my skin hydrated and feeling good all day long. I would highly recommend this product!\",\n",
       " 'Easy to apply, super hydrating',\n",
       " \"Used consistently for about a month and a half and did not see one ounce of difference in my skin! I hate writing this because I wanted to love it so so bad especially after spending $100 but it just didn't work :( At the time my skin was not very problematic so maybe thats why nothing was noticeable, but who knows, I'm still out a $100!!\",\n",
       " \"I got a couple of samples of this and am really impressed.  I don't know how it will work long term, but after just a few uses my skin feels really delightful.  For my normal skin I wouldn't need an additional moisturizer, but if you're on the drier side you would probably need something extra.  My skin feels plump, smooth, and hydrated after this.  I will be purchasing the full size.\",\n",
       " 'I am obsessed with this! If you love the Belif True Cream Aqua Bomb you will love this. It’s got the same light blue color, same light gel feel, and a fragrance that I almost like better. It is more like a cloud texture than the aqua bomb, and maybe less silicone-y. Still wears really well under makeup. It’s like aqua bomb’s cloud cousin!',\n",
       " 'I use this product before I put on make up in the day its not to thick and it does the trick after clensing and using undereye cream let your skin absorb product then apply makeup.Great stuff I will also use it in the pm before I go to bed with my other skin care.You cannot go wrong with this product',\n",
       " 'When I first received both the gel cream and cream I was confused because the package description is literally the same for both besides the gel cream being “hydrating” and the cream being “moisturizing”. Upon trying both products I can confidently say that the cream is the more moisturizing of the two. The cream is heavy and softening. The gel cream is lighter, cooling and plumping. I really love both but for my personal skin type I really preferred the gel cream.…read more',\n",
       " 'Feels great on the skin. Plumps and hydrates!',\n",
       " \"I love this! Love the fragrance, love the feel on my skin. refreshes my skin without making it taught. It's very pricey! Would make it a 5 except for the price.\",\n",
       " 'i absolutely love this product. I received this product complemntary with Influenster and I am so thankful I did!! . From the first use my skin was more plump and soft. It helped to soak my other products into my skin. Not to mention the look of the bottle and the box it comes in! Totally worth the price!',\n",
       " \"I've been using this for a week now. my skin has improved instantly. I'm sensitive with randomly occurring dry patches  /combination skin. I havent had a dry patch since. also my baby fine lines went away. Although I would add very little to my oily areas since it s so hydrating.\",\n",
       " \"This stuff has changed my life..and my skin! I have always hated my skin. It is very acne prone w both severely dry patches and oily areas. I've tried everything to give me gorgeous skin'including full on dermabrasion by a plastic surgeon. Nothing has worked. I started using this product about two weeks ago. Overnight my skin was transformed. It was dewy and glowing, appeared far less red and more even. My skin felt soft and supple. My dry patches had vanished and my oily areas were hardly oily at ALL. I was shocked. Immediately the compliments started pouring in-and this was after ONE night! I can not live without this product. Obv it can't take away my past acne scarring, though it does make it less noticeable. Looking at my skin now, u would never know I had acne. I have not had a breakout since I started using). I can't recommend this enough. Its worth every penny-if you're not sure, just get the rollerball to start and try!…read more\",\n",
       " 'I was so excited to try this product because of the great reviews. To be honest, I did not like the consistency of this face cream, it felt like I was using an ointment. I did not notice any moisturizing , it left me feeling greesy and it clogged my pores',\n",
       " \"I've never tried an essence before but I think this got me hooked! I was worried about the packaging and having it dispense too much product, but it is actually super easy to control how much comes out. I gently pat this onto my face and my face feels super clean and light. I can't tell if it's made any difference to the efficacy of my other skincare products, but it has definitely helped with hydration overall. I received this product free for review purposes.…read more\",\n",
       " \"I was skeptical about this (expensive) water but after one use I was sold!  It adds hydration and radiance to my skin and it plumps and firms.  I use three to four drops morning and night.  I'm obsessed!\",\n",
       " 'I am very disappointed on this especially cos I saw so many good reviews. \\n\\nIt literally didn\\'t do anything on my skin. It is almost like \"water\"... \\n\\nVery disappointed...',\n",
       " \"Love this cream! It's amazing for my mixed(oily and dry) skin. It doesn't make it oily, actually it helps matting it, but at the same time it moisturizes it perfectly! It feels different then other creams I used so far, definitely better.\",\n",
       " 'I love this. Makes my moisturizer work so much better and adds a lot of hydration on its own.',\n",
       " \"This product is amazing for the skin, the smell is very soft and calming. There is definitely a difference in my skin from what it was a few weeks ago, it made my skin brighter and helped very much with dark circles under my eyes. The other ways this product helped was to fill out whatever wrinkles a 26 year old woman would have from stress. I love this cream and if it wasn't so expensive I would get it again.\",\n",
       " 'i actually just bought this in the smallest can, just to try it out first, i have to say im impressed! and i would buy it again\\none, it is cheap\\ntwo, it doesnt brush off my make up\\nand three when my face felt oily because of the moist environment while using make up, it took the oilyness away! not all, but ur face dont feel all yucky n soggy anymore, it feels fressh!:D',\n",
       " 'I absolutely love this product. My skin feels',\n",
       " 'I really love this BB cream!! I usually do a ton of research and read reviews before I buy anything from Sephora but I bought this on a whim. I was in store and looking for a sunscreen and came across this, swatched it, and bought it. I wasn’t sure if I was going to love it but I really do. I used to have acne so I have some hyper pigmentation and redness and while this doesn’t give me full coverage (it’s a bb cream) there’s almost an ashiness or gray-ness that cuts down my redness SO MUCH. It definitely is a suuuper dewy/glowy-ness to it so I usually put a little powder on top and then it looks so fresh! \\n\\nI’ve been trying to cut back on products with unnecessary ingredients so I love the fact that it’s organic. Smells great too! I’m currently on Retin-A so having a product that has good sun protection AND isn’t drying was super important to me and this checks all the boxes! Very happy with this product :)…read more',\n",
       " 'I initially tried a sample size of this cream and really liked it! I use it to moisturize my occasional flaky areas (above my lips and around my mouth and nose). I also use it as a nighttime moisturizer. A little goes a long way! This 50mL tube will last me a long time!',\n",
       " 'I love how easy and lightweight of an application it is. It is super refreshing and I can see such a difference in the evenness of my skin. I received this product for free for testing purposes.',\n",
       " \"Good stuff for traveling onr a hot day. I'm going to be sure to take this to my friend's wedding.\",\n",
       " 'I have recently incorporated this into my daily skincare routine and I’ve been loving it. Love how plump and hydrated it makes my skin look and feel. I’m giving it 4 stars bc you don’t need it in your skincare routine, but it’s nice to have.l!',\n",
       " 'This is so drying! I put it on at night and woke up with dry, tight skin. I put it on again this morning and I can barely move my face because my skin feels so tight. Not for people with very dry skin!!!!!',\n",
       " 'I received this product for free to test and give my opinion. I have been using it for a couple of weeks now and I absolutely love it! I start off by taking off my makeup and cleaning my face. Then I apply the liquid collagen and finish with the genius sleeping collagen. My skin soaks up the moisturizer and in the morning my skin looks radiant. It smells great, the texture is wonderful.',\n",
       " 'This is my favorite moisturizer.  It absorbs quickly & makes dry skin disappear over night!',\n",
       " \"At first I was very hesitant to purchase The Essence. $95 for glorified water? After seeing the reviews I became a little more confident in my purchase, especially after seeing users say it works better than the SK-II essence because I was debating about purchasing that as well. I have very congested, dull, textured skin with small under the skin bumps (milia) from time to time. I've used Sunday Riley and Drunk Elephant for almost a year with hardly any results. I was beginning to think my skin needed some serious grade acids to help my skin to clear and finally be soft. \\nI bought The Essence along with the Camillia Oil cleanser, Enzyme Powder and Silk Cream and my skin has NEVER been this soft, clear, and balanced. I don't know if The Essence is fully to blame or if the combo of all these products was the true catalyst but regardless I'm FINALLY seeing the results I had hoped for! This is after only 1 week of use. \\nThe Essence doesn't have a smell and sinks into my skin nicely. I use it on my face, lips, neck, chest and any leftovers on my hands. My hands have gotten noticeably softer as well. A little goes a long way and the dampness helps my moisturizer spread much better as well. Overall this has been a saving grace in my skincare regimine. If you've used other lactic/glycolyc acid treatments before with no results, pick up The Essence and give it a try. I think you'll be surprised what pampering your skin instead of throwing harsh chemicals at it will do!…read more\",\n",
       " \"I have pretty bad pitted scars from having sever acne years ago and every product or acid I have tried was ineffective so I just gave up and assumed my indented scars are hopeless without laser surgery. But I decided to give this a try anyway, and I woke up with way softer skin. My scars were still there but they looked less rough. Anyone with severe acne scars know that harsh lights can be cruel to your face, and this helped a pretty decent amount with that. I use this essence every night right before my glycolic serum so maybe it's helping the serum get absorbed more? Either way, I'm curious to see if it has helped anyone else with smoothing out their acne scars!…read more\",\n",
       " \"Okay, so I've liked....and loved products before but this above anything else I've ever tried has AMAZED ME!  Yes....it has.  Simple words - it works.  You will not be disappointed.  My advice is to apply at least 2 skins to FEEL serious results. invest in this product as it seriously changes your skin care benefits.\",\n",
       " \"This essence works for me 100%, maybe it's because of how I use it. After washing my face, I put this essence on, wait a few seconds for it to dry. Then, I put my serum. Lastly, is my Tatcha Dewey luminous Mist. I got a lot of compliments about my skin after using these products together. My skin does not like cream moisturizer. Every time I try to put cream, it reacted with little bumps. My skin is dry from December -March so I use these 3 together. When the weather is warmer I don't need the Luminous Mist, instead I will use sunscreen. I LOVE Tatcha Silken Pore Perfecting sunscreen. I have large pores and it helps diminishing their appearance. The best part is I don't look like I'm wearing sunscreen. When people started asking me what did I do to my skin, what I used, then I know.. I hit the jackpot!!!!! \\nBy the way Sephora doesn't carry Tatcha Silken Pore perfecting Sunscreen :(((  \\nI HOPE Sephora will have it in the future.…read more\",\n",
       " 'Pluses:\\r\\n- No perfume\\r\\n- you can see the difference after 2 use\\r\\n\\r\\nDelta:\\r\\n- a bit expensive..\\r\\n\\r\\nOverall: Very good toner and one of my favorite so far!! My only delta is the price but you have a good 4-6 month of use if you use this on a daily basis.',\n",
       " 'This is a dream on my face! Very good moisturizer, not a crazy heavy scent - I was impressed.',\n",
       " 'Such a good sleeping mask. Skin is so calm and soft the following morning. Definitely worth the price',\n",
       " 'Love the product so far. My skin does feel soft and supple. I use before putting the Tatcha Vitamin C serum and do feel a difference in my skin. It feels moisturized and soft. The product is a little expensive but very small quantity is required every day so the bottle will last long.',\n",
       " 'I really enjoy using this cream on my face overnight! It is super hydrating and left my skin feeling moisturized and plump in the morning.  This product has a very pleasant smell and feels amazing on the skin. \\n\\nI received this product in a Voxbox free from Influenster',\n",
       " \"I liked this product! I thought the texture was great compared to other products I've used! It wasn't sticky, absorbed well and didn't make my face feel oily! It dried quickly and i was free to go about my business! My skin did feel not smooth and hydrated after using this. I didn't notice much repair but maybe over time that will change! I would recommend this product to anyone with combination skin similar to my own! *I received this sample free from Influenster to review but my opinions are my own :)…read more\",\n",
       " 'This product is amazing! The smell is soooo good. Reminds me of sweet almond oil and it is very smooth. I have been using this product for 3 weeks now and I have noticed my skin is soft and mosturized even through the day! I received this product complimentary for sampling Purposes but it is worth the buy.',\n",
       " 'Expensive? Yes! Worth it you ask?\\nI absolutely do! I seriously noticed results the very next morning after just one use! Seriously that next morning my face was extremely soft and very plumped feeling, I was in shock! Not only did my skin (face) feel this way throughout the entire day, this actually made all my skincare products go on like a dream! I knew then that this was going to be added to my everday skincare regimen. Your skincare should be an investment. Find what works for you! Beauty should start from the inside-out. Take care of your body, skin and health in general. Live your best life! Your skincare should be a priority at all ages BEFORE just covering your face in makeup.…read more',\n",
       " \"I love this product! The packaging is amazing and the cream leaves a nice glow. The shade doesn't work for me that well, I need something darker, but some powder fixes that problem for me.\",\n",
       " 'Love spraying this over my face while at the pool/on the beach. Keeps me cool and rides the salt/chemicals from my face after I come out from the ocean/pool - lotion ready!',\n",
       " 'I’ve been using this product for a week now and my skin is already so much more soft and supple. The winter can be harsh on my skin, but I’ve seen no signs of drying since I started using this product!! So far I’m obsessed!',\n",
       " 'This has quickly become my favorite essence! It adds a lot of moisture and nutrients to my skin without breaking me out. This essence has noticeably helped heal my skin/ skin barrier.',\n",
       " 'Not for me.  I did not find it moisturizing.  It does have a rather unique odor to it.  But it simply did nothing for my skin.  Very rare that I take the time to write a negative review.  Sorry.',\n",
       " 'I absolutely love this I put it on before I go to sleep \\nand I wake up with fresh glowing dewy skin',\n",
       " \"I usually don't break out that much, but recently I have because the weather and pollution...and when I saw that this launched in Korea a bit ago, I was excited to see that it's finally on Sephora! The tiger grass story is actually a well-known story in Asia and it's exciting to have a piece of that here in the states. The ingredient also comes in a tea which I love to drink since it has a lot of internal benefits for my health.\\r\\n\\r\\nAnyway, back to the product. The texture is so rich without that feeling of any heaviness and it spreads so nicely on the skin. I feel a cooling effect which is great for the breakouts I get on my cheek area. I also love, love, love the smell. I'm excited to see further results down the line and I am confident I just found my new favorite moisturizer!…read more\",\n",
       " 'I am very happy with the product. Been looking for something that works with my red skin; I typically have enlarged pores and dry flakey skin around my nose and under my eyes. \\r\\n\\r\\nI have been using this product for a few days, day and night, and I am very happy with the results so far. smells great, no irritation and leaves my skin feeling very soft. \\r\\n\\r\\nI also apply foundation and powder over this moisturizer and I do not have any issues with that. \\r\\n\\r\\nthis will last forever too! It only takes a tiny pinch to cover my whole face.…read more',\n",
       " \"I don't know what's in this because it looks like water but it works wonders. It makes my skin feel amazing after a shower. I received this free from influenster to test. The price is the only thing that turns me away from this.\",\n",
       " 'Wow this product is amazing! I had been curious about this product for a while but never purchased it because of the price tag. \\nI received this product complimentary for testing purposes, and I’m so glad cause now I think I’m hooked! It is really easy to apply, I just put a couple drops in my palm and press it into my skin all over my face, and it absorbs quickly. It has truly made my skin softer and improved my skin tone since I started using it, and I feel like my other skin care products that I use after applying the essence to my face absorb into my skin better and just work better. I love this step in my nightly routine! I pair it with the new violet-c serum, and it’s an amazing combination. I’m also not as bothered by the price now that I see how long a bottle of this lasts since I only have to use a few drops of product each night. If you’re on the fence, give it a try!!…read more',\n",
       " 'Does not make your skin oily or sticky. Very smooth and hydrating. Works great for hypoallergenic skin.',\n",
       " 'As a biochemist, I was very excited when reading this serum’s ingredient list. It’s formulated without synthetic fragrances, diethanolamine, phthalates, etc. Basically stuff I use in my lab that I don’t want on my face!! Now to the product’s efficacy: a patented trio of tea, algae, and rice made my skin feel softer, smoother, and plumper with noticeable improvement after 3 days. I found myself using less of my daily moisturizer because my skin was already hydrated. Additionally, my acne scars and skin texture were so visibly improved that my boyfriend noticed (and we girls no boys don’t notice anything!). Overall, I absolutely recommend adding this product to your skincare regime. \\n\\nNote: I received this product  complimentary for testing purposes.\\xa0I was not compensated for this post.…read more',\n",
       " 'While it does add a WEE BIT of hydration, I don’t feel that it does much for me. It could be because aging skin is not an issue for me, I’d like to see how it does on older skin. \\nI got this product complementary for testing purposes from Influenster.',\n",
       " \"The only issue I have with this is the smell. It has strong scent but it works AMAZING!! Made my skin feel better even after one use. It's a thick cream and works great for dry or even combo / oily skin.\",\n",
       " 'Smells amazing and moisturizes even better than it smells. I bought it the day I tried the sample that came with a previous purchase. It is now part of my essentials. Love love love.',\n",
       " \"I wanted to love this. it's way too greasy for me. & did nothing for my skin. used a bunch of samples  before deciding not to spend this much money on it. thank God I did\",\n",
       " 'For $114, I told myself this has to perform miracles for me to hold onto. Thats exactly what happened.\\nThe first time I used it I saw immediate results in my skin texture and clarity. Rough skin faded away and my pores were less visible. My skin was noticeably smoother and my acne scarring disappeared in just a week of using this twice a day. \\nThe packaging is elegant and I didn’t mind the spout on the bottle, just shake about 2-4 droplets into your palm and pat gently over washed, dry skin. The product should sink right into your skin and feel instantly invigorating. The quality of my skin has never been this clear, smooth, glass-like, I genuinely cant believe it to this day because I’ve never used an essence before. This product delivers quick, effective results and thats why I will keep buying this ❤️…read more',\n",
       " 'Hydration you can feel, because your skin needs water too! This stuff is amazing. I’ve added into my morning routine applying before makeup which seems to help it to last longer and gives a flawless finish. My skin feels incredible!',\n",
       " 'Absolutely love this, it made me feel like my skin was so much tighter and younger looking. This product is amazing. They nailed this product. It is a great consistent and also so does not make your skin feel oily.',\n",
       " \"Pretty moisturizing, I wasn't sure at first, but all dry spots were cleared up in 48 hours and they have not returned!!\",\n",
       " 'Absolutely amazing! Love this product!!',\n",
       " \"I used this before bed and it left my face silky soft but not feeling moisturized so I figured it would be an excellent day cream/serum as seemed to feel like the perfect primer. However, it was so drying for my skin, my foundation went clumpy and wouldn't blend. One thing to say is that it would have been perfect to go make-up free with as it leaves your skin matt and velvety.\",\n",
       " 'On the days that I feel my skin is extra dry I use this at night. Works amazing! Super hydrating and leaves your skin soft. Smells so good too',\n",
       " \"This product is such a cult classic and so refreshing. If you're still unsure at this point, just buy these little bottles and give it a try.\",\n",
       " \"I have been wanting to try this after seeing a video on Whitney Simmons' skincare routine. After testing it out for about 2 weeks, I can say that this definitely makes a difference in how my skin feels. The weather has been super harsh, so my skin hasn't been the best, but this has helped with keeping some of the moisture in my skin (it gets really dry in the winter) and keeping it soft. I did receive this to test out from Influenster, so I'm not yet 100% sure if I would shell out the cash to purchase it on my own, but I would certainly consider it around VIB sales and such! I will say, a little does go a long way, so it actually could be worth the price.…read more\",\n",
       " 'Got this product in a sample size, and it broke me out badly. However, if this ends up working for you, I must say that a little goes a long way.',\n",
       " \"The best lotion for everyday! Perfect consistency, smell, weight, moisture! I'm in love! Dr. Jart is the best\",\n",
       " 'I think this is mostly for people with normal to oily skin. I have dry skin and I did not notice a difference at all with or without applying it under a moisturizer. The moisturizer did all the work.',\n",
       " \"I have only used this product a couple of times so far, but love the way it makes my skin feel. It applies smoothly and when you wake up, your skin doesn't feel oily at all. That's the best part. I have dry skin, so this moisturizes without waking up oily. I received this product complimentary for sampling purposes from Influenster but all opinions are my own.\",\n",
       " \"This cream hydrates my skin very well. It also smells good, it and doesn't make my face oily.\",\n",
       " 'Love this stuff! Really evens out my skin while still being really light and not too much coverage. Just the right about of tint. My skin feels great and it smells great too!',\n",
       " \"I decided one day to order the little $10 trial kit from Tarte which included this product, and it's only been about two weeks and I'm already buying the full size. \\r\\nI have very sensitive skin and it's so important to me that I find a good moisturizer for the daytime that is lightweight. I already have one for night time but it's a thicker one. \\r\\n\\r\\nTarte's is so lightweight and it feels so good and refreshing on my face, and I've already recommended this product to so many people.…read more\",\n",
       " 'I haven’t noticed a single difference with adding this essence to my skincare routine. For the price there should be something?! I will definitely not be re purchasing this...',\n",
       " 'Great product. A fixer upper for tires skin and complexion.',\n",
       " 'Wow this is amazing! I used it for 2 nights and saw amazing results! I got it through Influensters program and will for sure be purchasing this product form sephora soon. My skin has never been so soft and dewy. In love!',\n",
       " 'This product is okay. It’s not very moisturising. I put it on and my skin doesn’t feel moisturised. Maybe it’s not supposed to do that, but overall I didn’t see or feel any difference.',\n",
       " 'Since I moved to a dryer climate my skin has been suffering horribly. This moisturizer is a lifesaver! I have finally found my holy grail moisturizer.',\n",
       " 'I started using this product a few weeks ago and have really liked the outcome paired with the violet-C brightening serum! The appearance is sleek and it doesn’t leave a weird residue on your face after application. Lastly, there is definitely a softening effect and I would purchase again!',\n",
       " 'This has increased the hydration in my oily skin insanely. It hasn’t broken me out and it has really made othe products sink in much better. I really do like this product and will be repurchasing it. I received this product for free in exchange for my opinion.',\n",
       " \"I'm giving this a four-star review because I definitely don't see any downsides to this product, other than the price tag. I was sent this essence by Influenster to try out with the Violet-C Brightening Serum and I noticed an overall improvement in my skin's tone and texture, but I am attributing that to the serum and not the essence. What I do like about this serum is that it's gentle enough to put on a cotton pad and wipe my whole face down with, even gently sweeping under my eyes. It is not irritating on the skin AT ALL. It feels like wiping water (except a little creamier) on my face. I've noticed that some of my makeup will also come off when I do this step so it's a great way to triple cleanse (I use micellar water to remove makeup, then wash my face, then use The Essence). The product has no smell, is gentle on my skin, interacts fine with the serum and my moisturizer, and comes with a decent amount of product in this one container. The price tag on Tatcha products is just not something I can afford, especially if I'm not seeing obvious results. Overall, I would recommend if you're looking for an essence for your routine and have the budget for this!…read more\",\n",
       " \"Very nice on, but no major difference for the cost of the product. I've been using it for a few months. Just to hard to justify without unlimited resources. Tatcha dewy mist however, I never plan to go without again.\",\n",
       " 'Love this essence! It goes on well, dries quick and makes my skin smooth and feel plump. I had never used an essence and it’s a great starter! I received the product free.',\n",
       " \"While I didn't see any changes in firmness, it definitely made my skin feel softer without being too greasy.\",\n",
       " 'This is amazing! I have not been able to find a night cream that works without irrating my skin until now! I use it with the liquid collagen and my skin looks so good when I wake up. I actually just washed my face, threw on some brows, and a serum, then went out the door today. I am so happy I got this complimentary from Influenster!',\n",
       " 'Great for blurring, helps makeup last all day. This was sent to me for free from Influenster.',\n",
       " 'I have sensitive dry skin that breaks out even more when it is dry. This cream is my go to for when my skin is freaking out. It is calming and amazingly moisturizing. It makes my skin look healthy and overall better.\\nI use it with and without the liquid and with other serums. A little goes a long way. This stuff is amazing.',\n",
       " \"Great thick moisturizer for dry skin and seems to melt into the skin. I wear this under makeup and it doesn't pill. Has been great for my transition into Retin-A territory and dealing with Canadian winter. I will repurchase as my main day and night moisturizer.\",\n",
       " 'Really thick formula, not for hot summer, but perfect for northern Canada winters. I had 5 days tester, will buy for sure for next winter. I have normal/dry skin and i am in my 40s.',\n",
       " 'I first tried this from a 10 pack sample (good for 25 nights). I was so pleased I ordered the full size. I found my skin more supple, the nasal/oral lines less prominent.',\n",
       " 'Love this cream. I like how I thought I was going to be thick but it absorbed into my skin nicely.  Would love to continue buying this as my night cream .',\n",
       " 'I received this product free through influencer, and I am hooked! Tatcha is a new favorite brand. My skin feels so hydrated after using this and the violet-c serum it is amazing! It makes my skin feel healthy and look glowing. Everything about this product is luxious even the packaging. I would highly recommend this!',\n",
       " 'I tried every product that came in this package deal. My biggest issue was the smell. Although the products felt great on my skin and did not cause an eczema flare or irritate my skin, I could simply not get over the smell of what I can only explain as pure dirt. It has an earthy dirt like smell that was very offputting to me. Other wise the feel and workability of the products were great. Please note I did recieve this product free for testing purposes.…read more',\n",
       " 'Really helped my dehydrated combo skin get back to calm peaceful state. Skin looked soft and supple. This product is great for at night. It works well under make up but I did notice my face looked a little shinier than usual after a work day. If you over apply excess product will pile up, a little goes a long way.',\n",
       " 'I am in love with this cream, it perfectly matches my skin tone. I use it daily in the morning. It is super easy to use, just take a small pearl-size amount',\n",
       " 'I USE THIS DAILY EVER SINCE I BOUGHT IT, I WAS STRUGGLING WITH REALLY DRY SKIN DURING SUMMER',\n",
       " 'I use all of the belief products and I absolutely love them! After trying every thing out there including Rodan & Fields, belif has been groundbreaking for my skin! I use the facial wash, true cream aqua bomb, moisturizing bomb and sleeping mask! I absolutely love every single one! My skin is now super moisturized and soft, I get so many compliments, deff recommend.',\n",
       " \"I think this product definitely helped fade away my acne scars, discoloration and hyperpigmentation. There isn't really much of a scent to it. It is not drying and does not break me out at all. My skin is normal to combination. I think my skin transformed for the better after a few days of use. I use it 2x a day. Even though the price tag hurts my soul, I know I'll be repurchasing. I would rather die than go back to how my skin was before (it was baaaaad).…read more\",\n",
       " 'makes my skin feeel unbelieveable soft',\n",
       " \"Tatcha vs SKII. I chose Tatcha because it's cruelty free. However, the price is a little steep for my wallet as I've found better alternatives at my local health food store. None the less this one is still is my favorite beauty water/toner.\",\n",
       " \"I received a sample. This product isn't getting absorbed very well into the skin and leaves something like a film on the skin.\",\n",
       " 'Leave my skin super soft and moisture. This is my second bottle.',\n",
       " \"Use it only for night! As it does wonders for reparative products, but could be drying if you wear make up on top of it. First time using an essence, and can see the results!\\nA little goes a long way and it really fells like putting water on your face, absorbs quickly, but once you put on your other products you'll see the difference, I've noticed that it speeds up the healing process of acne or getting rid of it with acn-e products.…read more\",\n",
       " \"This is my holy grail evening moisturizer. My skin had been dehydrated for a long time and this product turned it around in less than a month. It also lasts forever - in six months I haven't even used half a tube yet.\",\n",
       " 'Wow this product is so luxurious. From the packaging to the ingredients, this is clearly a well made product. My skin feels very tight and smooth within moments of applying this product. I loved receiving this complimentary item from Influenster',\n",
       " 'I have been using this for a few nights wow!!!! This product feels amazing smells amazing! I added the liquid collagen before  moistozer it has help my very dry skin so much my face gets so dry during the winter I have tried so many creams this one is my favorite! I would definitely recoond this prouduct if you have dry skin',\n",
       " 'absolutely one of the best creams I have ever used.  I recommend this to a lot of clients.',\n",
       " 'This really helped my dry skin.  A little goes a long way.  I am wondering if that paired with the lotion would be even better.  Within two days I lost the patches of flaking skin and my face looked less red.',\n",
       " \"I have very sensitive skin and allergies, so I'm always a bit apprehensive to try out new products. Last winter, my skin was very dry and dull and I was stuck in a beauty rut. I found this product by chance, and I'm so glad I did!! It totally revitalized my skin. Now I am hooked! No break outs, not too oily, very moisturizing, and I can wear it with or without makeup. LOVE Clinique and LOVE this product.\",\n",
       " \"I have sensitive combination skin on the dryer side and this is an absolute holy grail moisturizer for me. I've also used CeraVe on my skin but Ceramidin is definitely worth the price.  Not only does it soothe dryness but it builds upon skin's quality and strength over time.\",\n",
       " 'Very easy to apply and leaves no residue whatsoever. Skin feels smooth and healthy after application. I have incredibly sensitive skin and have had zero issues using this product, which is a massive win.',\n",
       " 'I received this complimentary in my VoxBox and I can’t get enough of it!! It’s so light on my skin. I’m usually prone to breakouts, but this doesn’t break me out. It makes my skin so smooth and I will definitely be trying more Tatcha products!',\n",
       " \"This cream is amazing! It is so smooth and creamy without being heavy. It's light fragrance is unexplainably amazing. I received this product for sampling purposes but my opinions are most definitely my own.\",\n",
       " 'Algenist sleep collagen and serum are simply amazing. I can feel and see a difference in just a week!',\n",
       " 'I am used to BB creams looking like foundation once applied. This is much lighter; it definitely has a tinted moisturizer look and feel to it. The Light/Medium shade isn’t quite light enough for me, but it did protect my skin well. I was able to spend hours outside and not get burned.',\n",
       " 'Love this product! First time trying an essence. I have acne prone, oily skin that is also very sensitive and this does not break me out. I swear that in the few days that I have been using this I have noticed improved texture and very soft skin. Great addition to my skincare regime.',\n",
       " \"love this stuff!!! it definitely primes my face for best absorption of all my other tatcha products.  makes my skin feel supple and hydrated even before applying the other stuff. I love thus stuff and even though it's expensive, a few drops go a long way. I still have well over half a bottle and I use it twice a day and have used it for about 3 months. definitely worth it!!\",\n",
       " 'This has become the single most important thing in my skincare routine! TBH, At first I thought this was just water. An “essence” so I put it in my lineup after toning and serums. Read the instructions on tatcha’s website and this essence is to come after cleansing and BEFORE any other steps. Oh man was I missing out!! I now use this directly before Dr. Jart ceramidin toner and the results are amazing. As someone who has struggled with dermatitis and dry skin peeling around my chin area for years, I can confidentially say this is worth the price over and over. It makes everything else super effective. I’ll be purchasing the entire tatcha line as I save up $$.…read more',\n",
       " 'This product was just okay..nothing special..felt like it dried my skin as well :(',\n",
       " \"I use this every morning, it's lightweight and does not oil up my face. Works great keeping my skin moisturized. There are no issues wearing it under my make up.\",\n",
       " 'Changed my skin. I am super dry in the winter and my skin loved this product. I had dry cracking skin around my nose and chin. This was magic for me, worth the spend. Feels so amazing and my skin is glowing through my makeup.',\n",
       " \"I have been using the product for 5 nights and I am impressed how my skin is more luminous and moisturized. I'm 40 years old. After cleaning and tonico, I apply the liquid collagen and then the Genius. The texture is dense and the smell very pleasant. The next day my skin dawns radiant. I'm loving.\\nI received this product for testing purposes by Influenster.\",\n",
       " 'First off, the smell is so pleasant and does not break my face out! It is so lightweight and it minimized the appearance of my pores! I am not a makeup person and this is now my perfect product because it color corrected my face and it did match my skin tone! Light coverage but with a little concealer it is awesome for non makeup people that don’t have time for a lot of effort!!! Leaving one star off because it doesn’t cover up redness of acne scars but I’m hoping to find something to help that itself…read more',\n",
       " 'I received this product free for testing and I wasn’t really sure what it was supposed to do. Honestly after using it nightly for 4 weeks I still haven’t really noticed a big difference in my complexion, but it hasn’t worsened my skin at all either. I do like the way it feels and maybe it is helping moisturize my skin.',\n",
       " 'I’m a huge fan of tea tree oils especially with my acne prone skin. I used this for about a week and noticed the break outs starting to clear up and scars starting to fade away. My skin usually purges with tea tree just cause it’s helping get rid of the build up my skin has. I did receive this product complimentary for sampling purpose. I will definitely be buying this after I finish.',\n",
       " \"This tatcha essences feels amazing  ! it's not super sticky and dries fast. Makes my skin feels so soft and works great with the violet - c serum  . I've been using this products for about 2 weeks now and have noticed a difference In the darkness in my acne scars they seem to be getting lighter and my skin is so soft !my acne prone sensitive skin is ok with it as well ! which is huge! I never find products that work for my skin .  I've found the best time to apply this serum is at night time after I've washed my face , I lightly pat it all over as the instructions say to !  I absolutely love this and am so glad I received this complimentary gift to try !…read more\",\n",
       " \"I received a sample of this and really liked it! It has a gel like texture that's absorbed quickly, leaving the skin feeling very smooth. (it does contain silicone so kinda works like a primer) I usually have pretty oily t-zone and this is great at keeping the oil at bay! It has a pretty heavy chemical scent but goes away after it sets. And I wish it has a shorter ingredients list!\",\n",
       " 'I love it! I used it the maracuja oil and my  face does not feel dry anymore! It was difficult for me to find cream for my skin because my skin is very sensitive but this one works thanks Sephora and Tarte!',\n",
       " \"I received the tarte H2O moisturizer deluxe sample and I am so glad that I did. I like to mix it with my Clinique foundation especially during these cold months to make a sort of BB cream to help make my skin look dewy rather than ashy. I never thought that it would help make my skin so well hydrated with no reaction to my sensitive whatsoever. The fact that it's hypoallergenic is a huge plus for me especially because even though I have sensitive skin, I still do like to use things that are scented nicely (this has kind of a citrus kind of scent to it). I am so happy with it that I purchased the full-size version of this fantastic moisturizer. I very much recommend those with sensitive skin to give this moisturizer a try!…read more\",\n",
       " \"I spent almost a year looking for a rich but lightweight moisturizer to combat newly dry skin, and Ceramidin cream is the winner! A little goes a long way, it hydrates like crazy, and doesn't make me shiny. It smells great, too. A tube lasts me about a month (my BF may sneak some from time to time). Only complaint: I don't love the metal tube, but I can live with it!\",\n",
       " \"This product is light. I really like it cause I want coverage but not cakey coverage, and it was perfect. I am an eyeliner, mascara and go type of girl. Most foundations smother my skin and this is so light feeling it's something I can use on a daily basis to cover up the small flaws on my skin. For someone with full blown acne or serious break out issues this isn't going to do the job.\",\n",
       " 'Moisturizing and repairing! My skin was so dry and nothing was helping. Adding this under my moisturizer did the trick!',\n",
       " 'This toner is amazing! I love how it smells and how it feels on your skin. A definite must have in your cleansing routine!',\n",
       " \"I received this from Influenster to try for free. I gave it to my mom since she has more mature skin. She uses it every night and has said that she can really tell a difference in the plumpness of her skin. There's not much a scent, very faint. The texture is super light and creamy. Not sure she would repurchase at this price, but goodness it has spoiled her.\",\n",
       " 'Been using this for about a week now, I love the way it makes my skin feel!!! It moisturizes while also brightening my skin, it feels amazing! This came in my voxbox and I am so glad it did, I will definitely be purchasing this, and I recommend it to anyone with combination or dry skin, it’s seriously the best! Can’t wait to see what my skin looks like after a month of using this product!',\n",
       " 'Very thick and greasy. It caused me acne. It did soften my skin. Would recommend to someone with dry skin.',\n",
       " \"I received this as a deluxe sample and I am buying the full sized one I love this product so much! it isn't greasy and doesn't leave a residue on the skin. it has an almost watery consistency but on the skin it is a very dry moisturizer, it will not make oily skin worse and it great for oily skin. my skin drinks this up! its great for oily skin in the winter time and feel great.\",\n",
       " 'I was reluctant to try this product at first but when I first got a mini sample of this from the sephora promos, it was amazing and actually helped with my acne a lot! It feels really soothing and smells very organic!',\n",
       " 'I like this product bc you don’t have to use too much! It makes your skin soft and smooth and the design of the bottle is nice and easy to use to get product out! Would recommend. However a little pricey.',\n",
       " '11/10 would recommend if it wasn’t so expensive. i got a sample size from a sample bag that my cousin gave me & its very moisturizing & hydrating to the skin. good for normal/combination skin!!',\n",
       " 'I guess I should have read the summary of ingredients here before sampling Sichuan Pepper. Ouch!  It is listed as a fruit extract.  Too bad.  Sounded like it had potential until I tried it.',\n",
       " 'I love this product! It makes my skin feel so hydrated and flawless before and after i apply my makeup. I will more certainly purchase this again. I know many people complain about the smell, but I am an esthetician and love the way it feels and does for my skin vs the smell. The smell goes away after a few minutes.',\n",
       " 'Dont sleep on this stuff! Its amazing. Fixes dry skin completely',\n",
       " 'Smells amazing, just enough coverage, non greasy and spf!',\n",
       " \"I received a sample and fell in love! This takes the place of a glowing primer, bb, highlighter, and powder. It makes you actually look lit from within without trying. Feels natural and has spf! Unfortunately, I'm too pale for Light/Medium. If a Fair/Light shade comes out I will be buying.\",\n",
       " 'Lovely smell, not at all abrasive. Not sure if its really doing anything but it smells and feels nice.',\n",
       " 'Got this as a trail from Influenster and i ! In love with it.  Makes my skin feel smooth and hydrated without feeling  greasy. Will Be using it all the time and highly recommend it for combination skin.',\n",
       " 'OMGGG this is absolutely amazing perfection for anyone normal to dry I am officially obsessed!!!!!',\n",
       " \"first off- the smell is horrible. like soap from your high school bathroom. second- after 4 days my skin is red and blotchy (I'm normally a very pale person ). it's so embarrassing how bad my face looks.\",\n",
       " 'This is a truly amazing product well worth the price and a large size. Instant results.',\n",
       " \"This is definitely a worthy buy. This is best used after cleansing the face in the morning and at night. It provides such a nice, water-like layer of moisture before packing on sunscreen, leave-on masks, or creams. I've used the rice polish, then applied the Violet-C face mask, and finally ended with Essence and Water Cream-- that combo has cleared up my skin and calmed down some crazy redness.\",\n",
       " 'Loveeee this thick cool cream',\n",
       " \"This is moisturizing, but I just can't handle the packaging. The writing on the tube flakes off after a few weeks, so I'm left with white flakes all over my hands when I go to squeeze some out. Not worth it.\",\n",
       " \"Love this moisturizer! Hydrates wonderfully without leaving an oily film, and a tiny bit goes a long way! Good for sensitive, dry skin that can get oily, doesn't cause breakouts.\",\n",
       " 'The skin around my eyes looks much less crepe-y in less than a week.',\n",
       " \"Great to Add extra care to my skincare routine. I was skeptical at first as it kind of looks like water but it came through for me and about a week after using I could see w better complexion and feels more smooth. I love the packaging and design of the bottle too.  I just dump a small amount on my palm and pat all over my face after I've already applied toner. I didn't see a difference at first but then I noticed my skin was just so radiant and smooth! Great especially when combined with vitamin c toner, \\nI received free for testing purposes.…read more\",\n",
       " 'This night cream is really very thick and intensely moisturizing, which is a huge plus because I live in the high desert of Utah.  I put it on about a half hour before I go to bed and when I wake up the next day my face still feels like it is being moisturized by the cream. It also has a pleasant light vanill smell. I received this free from influenstert to review and I will for sure keep using it and repurchase.',\n",
       " 'Omg! I was a little skeptical but I think this product truly does work! I trust tatcha’s quality and ingredients and innovation. I love that the packaging is beautiful too. The price may seem hefty but you’re getting a lot of product. I feel my skin is looking a lot brighter. This product was gifted to me in exchange for a honest review.',\n",
       " 'Super moisturizing but not oily at all!',\n",
       " 'It is the stickiest moisturizer I have ever used. It’s like insanely sticky.....like real sticky. For HOURS it stayed like that, and woke up broken out. It’s a no from me!',\n",
       " 'love the way it makes my skin feel! super hydrating and smells really nice',\n",
       " 'This product is literally amazing! I am 25 and using it for preventative purposed on my chest, neck and face, and although pricey I can already see a difference in my skin after using it every evening before a moisturizer! I have very very sensitive skin and have used other kate Somerville products, and highly recommend this one!',\n",
       " \"I received this product as a free complementary gift from Influenster. The packaging on this is so beautiful and looks so high end. You only need to pour it over in your hands once and then pat it in and it covers my whole face and some of my neck. It's super light and hydrating without the heaviness of a moisturizer. I apply it every morning after I cleanse my skin and it makes my foundation look flawless! I'm prone to breakouts and I have never had an issue with this product breaking me out, which is a HUGE PLUS! It is a little expensive, and more than I'd probably ever spend but I do really love it and I'm going to be super tempted to purchase another bottle once I run out. If you're looking for a super lightweight moisturizer for your skin, this is it. I recommend it! Every tacha product I've tried, I've loved. What a great brand!…read more\",\n",
       " 'Loved this product! I have oily skin and it didn’t make me oily at all! I let it set into my skin before doing my makeup and my makeup lasted all day! After two weeks of using it I noticed a huge difference in my skin! I had wayyy less breakouts and more even skin tone! I also use it along with the face wash. Would recommend:)',\n",
       " 'I can feel the moisture melting into my skin from the moment I apply it at night. The only thing better than how it feel when I put it on is how soft and glowibg my skin is in the morning!',\n",
       " 'Love this product! I apply it at night and my skin thanks me the next morning! Hello hydration! My small forehead lines seem less pronounced and I imagine I will see even more of an improvement with time. Glad I found this before winter!',\n",
       " 'Right off the bat I want to say that the packaging is beautiful.. I love the quality of the product and first impression made me feel the results are going to be worth the money. I love the idea of the pour spout as you can control how much product you use. It comes out like water, so I’d suggest pouring into your palm rather than on your fingertips, like you would a cream or cleanser, to prevent losing product. Now I have been using it for about three days and so far I have noticed that it absorbs quickly into your skin, it feels light and refreshing, and putting it on just make you feel like your doing your skin a favor and treating it well. I have a problem with dry spots, and this has already helped with that. I’d recommend this to anybody to has felt defeated on the hunt for good skin care.. *I have received this product for free or complimentary for testing purposes.…read more',\n",
       " \"This is a perfect, soothing balm-type moisturizer.  It is perfect in the winter, or to calm irritation. I went a little nuts with acids and retinol, and this (along with the Ceramidin Liquid) really helped heal my skin. Definitely something I'll keep on hand at all times!\",\n",
       " 'I would have to disagree with the other comments that claimed this clogged their pores. This moisturizer is super hydrating and light. I wear it under my foundation daily. A little product goes a long way so perhaps they applied too much! This is a staple in my skin care routine!',\n",
       " 'When I first tried it at the store over the makeup a couple of times I loved it. I felt my skin plump immediately. I got very excited to purchase the full bottle especially since it is so pricey. But now I use it at night after cleaning my face before the creams as per instructions and I am not finding any difference. I feel like I wasted a lot of money. May be I am not doing it right. I will try over makeup again for a few days.…read more',\n",
       " 'I was so impressed by the texture and creaminess, and the SMELL! So amazing. Pairing it with the liquid collagen drops as well (seen in pic!). Definitely not as oily as other products I tried which is great for overnight wear. Love it!',\n",
       " \"I received a sample and kept it for a while. I decided to try it out because my skin is super dry! To my surprise it mad my skin look glowing and dewy! I loved it! I'm going to purchase the full size even though it's pricey but well worth it!\",\n",
       " \"Soothes and moisturizers my dry skin--a little goes a long way. I prefer my face products unscented, but this isn't offensive.\",\n",
       " 'Broke me out and had a weird texture. It looked like it had separated and felt chunky.',\n",
       " \"I can't say enough great things about this cream. I'm obsessed with how well it hydrates and moisturizes. It's not greasy at all and has a pleasant rosey smell.  A little goes a long way. I have super dry skin in the winter and dry-combo skin in the summer. I would recommend this to everyone. Might be a little heavy for those with oily skin. I'd get a sample first in case you have oily skin.\",\n",
       " \"Bought this because every YouTuber rants and raves about it. I think it somewhat lives up to the hype. I use it as my day time moisturizer and it wears great under makeup. However, it is not SUPER moisturizing and very light weight (which is why I use for day time so I don't get super oily after wearing makeup all day). I am dry/combination acne prone and using this (along with other skin care items) has really helped clear up my complexion. I use both the Drink of H2O moisturizer and the Rainforest of the Sea face wash (which I love!!!). The moisturizer does kind of burn when I first put it on after washing my face, but that subsides after 15-20 seconds. It feels tacky when you first put it on but dries down nicely. If you are dry or combination, I would use a heavier night time moisturizer and this as a day time moisturizer.…read more\",\n",
       " \"Doesn't work well to cover up, but gives great color and melts into my skin! Doesn't look like you're wearing anything at all. Love this stuff!\",\n",
       " \"I wanted to really like this product. The color match was perfect, it has wonderful coverage and didn't irritate my skin. The reason why I passed on it was within an hour, my skin was so oily and greasy that I had to wash it all off. I have combo to dry skin and it was the most oily I have ever seen.\",\n",
       " 'i thought this product was nice but i didnt really see any kind of difference',\n",
       " 'After using an entire bottle of this religiously I don’t feel like there were any benefits.  It didn’t do anything bad to my skin but for the money I expected to see some results even if it just more hydrated skin. I will say I did purchase this item and ran out in Sept so it did last a long time.',\n",
       " 'This stuff is amazing!!!',\n",
       " 'Does nothing for your skin. It broke me out and made my skin more dry.',\n",
       " \"Perfect for the winter and absolutely moisturizing! A must have, it's my new favorite moisturizer\",\n",
       " \"This serum could not have come at a better time. I'm in the Midwest, and winters are dry and stormy here. My skin is dry/normal, so I really enjoyed this serum giving my skin a fighting chance. I've noticed that this keeps me hydrated well enough, that I've had no actual issues this winter. It's very light weight, and a little really goes a loooong way. I've been using this for around a month, and my skin does have a noticeable plumpness to it. This may be magic water! I received this product complimentary for testing purposes…read more\",\n",
       " \"I wasn't so sure about this product when I first recieved it. I thought it was going to be like other products and leave my face oily. However, I was wrong. I could tell a huge differance the first time using it. I love how soft it made my skin! It became my nightly routine. I have very sensitive skin and it didn't bother me what so ever. You won't regret this product!\",\n",
       " 'The scent is very soft, and the actual cream itself feels thick but sinks into the skin really quickly. I love it for the night time due to the Ceramide in it.',\n",
       " 'Beautiful packaging. Feels like a high quality product. Instantly moisturises without feeling greasy. Smells nice. Only complaints: lid is sort of hard to manage, doesn’t do a good job moisturising anywhere that isn’t face or neck.',\n",
       " \"I recieved this as a complimentary gift to review and holy balls! Just after a couple of uses my skin feels so good, so smooth, hydrated, it didn't feel sticky or gross. It didn't make my other products pill up. I can't wait to see what my skin looks like in a few weeks!\",\n",
       " \"I have used quite a few of EL's products and this is the first one that I dislike to the core... I got it as a gift for an online purchase, and surprisingly found it balls up with pretty much everything, even the toner from the same brand. Since it is a gift, there is nothing I can do but I just want to put it out there so people can be aware of this. Btw I am 30yo and have combo skin.\",\n",
       " 'I carry in my purse when the weather is hot & muggy. It gives me refreshing & uplifting break',\n",
       " 'I have never used anything like this product! I like that it absorbs into the skin really fast and I does make my skin prepped well for other products to go on top. I am very oily and I feel this make my skin hydrated and not greasy. I use it with the violet C serum.',\n",
       " \"The texture of the cream is very nice. It's thick and mosturizes really well. My skin absorbed it really well. The smell of the cream is neutral. It doesn't have a strong scent. I liked it but I gave it 3 stars because I didn't really see any difference in my skin appearance.\",\n",
       " \"I received this as a sample and was so impressed. I have very dry skin and tend to get dry, blotchy patches on my face. I put this on and the next day the dry, blotchy patches were gone. Other reviewers have mentioned that it can be sticky, and I'll admit that it is upon first application, but if you have really dry skin like I do, it's worth it.\",\n",
       " 'I have been using this for about 20 years as I have sensitive skin and whenever I feel that tingling or itchy sensation coming on, I spray my face liberally and the cooling, moisture really helps. I also think the minerals take away the sensitivity and blotchy redness.\\nUse it to set make up or spray before applying moisturizer or creams and it locks in the moisture.',\n",
       " \"Pure Gold and worth the money, trust me. You need this. Love that it has minimal ingredients too. I'm a huge skincare junkie and while I don't need everything to be purely organic, I do like when products lean on the simple side with minimal ingredients and no harmful chemicals.\",\n",
       " 'Excellent product for dry patchy or red irritated skin. Heals almost overnight!',\n",
       " 'No break outs. I actually used it after my laser treatments and worked fine. I love using this product as it made the overall skin texture so much smoother. My esthetician noticed the difference too.',\n",
       " 'Great for sensitive skin!',\n",
       " \"Love this product it's good for you skin, has sunscreen in it looks good alone or as a primer. I give it time to sink into my skin before applying foundation. If using it alone it is buildable. It don't get yucky or dried up in fine lines and make them worse like a lot of makeup does. If you have uneven skin tone or age spots  you will still need to conceal them. I apply coola first give it a little time then put a concealer on age spots and dark circles. But as with everything you have to try and see what works for you our skin changes so much as we age. Get a sample, that little sample had me hooked, on days when I don't want to worry with my face I can just apply Coola some cheek color, lip color and  eyeliner with minimal effort I look and feel better, as we age less is more. Good luck hope this works for you.…read more\",\n",
       " 'Smell and texture are amazing. It goes on really nice and smooth. The coverage is light. But buildable.',\n",
       " \"Not sure where all the great reviews are coming from? This left my skin drier than it was before I started using it. I have dry/flaky, sensitive, acne prone skin and this did nothing for me. It also felt so greasy while it was on my face but didn't moisturize at all. It's being returned!\",\n",
       " 'Just like Botox....but cheaper. \\nLess is more with this product! \\nApply in areas you really need that boost of hydration and plumping and BOOM....fine lines are gone!',\n",
       " 'This saved my dry skin!!!',\n",
       " \"Thought it wouldn't be worth the price point but I was pleasantly surprised! Product will last longer than I expected it to for sure. Only a few drops and you can really feel it go to work, allows other products you have to sink in further and work better. I did receive a sample for free, but will be repurchasing with my own money when I run out\",\n",
       " 'I have sensitive combination skin. The initial application did leave me blotchy, but less than the usual as when I use new products. And upon waking up in the morning my skin looked fine again. The dry spots on my cheekbones are still dry though. Perhaps it will get better as I keep using it. The scent is nice if you like orange sherbet, and I love how lightweight it feels. I received this product complimentary for sampling purposes but all opinions are my own.…read more',\n",
       " 'I get so many compliments on my skin when I wear this! It gives me a gorgeous dewy glow. It doesn’t have enough coverage for when I have break-outs, but otherwise I love it.',\n",
       " 'I love this so much. Thank goodness I received a sample so I knew how amazing it was. I am 39yo and have minimal forehead lines and wrinkles around my eyes. My mom is 70 and has deep eye lines. This has greatly helped us both not mention give our skin moisture. we use it every night before bed. Totally worth the money. It only takes a little product so it will last quite awhile.',\n",
       " \"Skincare is my weakness and I have spent so much many on so many different products. This essence could very well be my all time favourite though!! My skin has never been so soft and smooth. And although I use a salycilic acid and a vitamin c powder to help with acne and hyperpigmentation, I believe this essence is helping with the effectiveness of those products. It's super pricey but I think this essence is worth it. I will definitely repurchase.…read more\",\n",
       " \"This stuff improves the texture and softness of my skin.  Compared to the number of other creams/serums I've spent money on and saw no results; this is one of the best.  I think it loses efficacy over time and will probably switch it up.\",\n",
       " 'I got this from Influenster and I’m so hooked. I love tatcha products to begin with but I don’t know if I can live without them anymore. My skin is so hydrated and it makes all of my serums absorb so much easier. I could feel the difference in one use and saw a difference within a week. Would definitely recommend.',\n",
       " 'This is by far the best moisturizer that I have used in a long time! I have a combination skin with dry patches around lips. This cream is very emollient, but gets fully absorbed after a short while. Skin feels plump and fully moisturized, pores look smaller. I love the light botanical scent.',\n",
       " 'I was not impressed at all by anything in this skincare line.',\n",
       " 'I received The Essence complimentary to test and I love it! The texture is almost water like, and it leaves my skin plump and glowing. The bottle is so big, and I love that it will last a while since it is pricey. My only complaint is the bottle is a little strange, you have to sprinkle the product on to your hand, I wish it had a pump.',\n",
       " \"broke me out really bad. i had high hopes but it wasn't for me.\",\n",
       " 'I have sensitive skin, combo, but mostly dry. My skin loves this product! Feels hydrated and plump! Easy to put on, a low maintenance persons dream',\n",
       " 'I love how the product doesn’t make my skin feel sticky like other products do. Also love that it has no smell! Perfect for my oily skin.',\n",
       " \"I've been using this twice a day for a few weeks now. While I seem to use less moisturizer when applying after the essence, I have not noticed any difference with my skin being softer or more hydrated. I love that it has no smell, but sometimes I feel like I'm just patting water onto my face lol\",\n",
       " 'This moisturizer is just OK. I received a free sample that I used three nights in a row before bed. It was light weight which i enjoy, but it made my skin look oily (which most moisturizers do, but i wouldn\\'t wear this one in the day time). In the morning my skin looked good, and I never got any extra breakouts or anything from using this. I would purchase it if it was drugstore but $47 is too much for something that is \"okay\"…read more',\n",
       " 'I really wanted to love this, but the smell is so strong and does not go away.  It was not pleasant.',\n",
       " \"I didn't think it was necessary but I love Tatcha so I tried it. And oh my, I fell in love - really hard. I use it after toner and I notice that the products I apply after this gets absorbed. It feels weird - I use less products now. I used to layer my moisturer thrice but now I only have to layer once.\",\n",
       " 'Unfortunately it was not what I was hoping for. This to me is the consistency of a serum, not a moisturizer/serum combined.',\n",
       " \"This is by far the best moisturizer I've used! It absorbs fast, and isn't greasy at all.\",\n",
       " 'I immediately noticed a difference in the tone and texture of my skin after using this product! It felt so soft, full and plump. Thank you tatcha! I received this product complimentary for review purposes but I will definitely buy!',\n",
       " 'This product is AMAZING!!! My skin looked so radiant and youthful the first time I tried it. I used it overnight and the next day my skin felt so soft and look refreshed. I highly recommend this product.',\n",
       " \"I've had such a problem with dry skin this winter, and this has saved me. I have mild acne in my t zone and chin; this does not upset it. Love how soft my skin feels! A little goes a long way too\",\n",
       " \"I received this product for free from Influenster, and while i already had a good moisturizer, I was surprised at how gentle yet effective this product was. During winter break, I was at home in NorCal, and my skin became super dry and flaky despite me moisturizing it everyday. When I started using this product, I noticed results in one day- my skin returned to its previously hydrated and healthy state! i was shocked at how effective it was, and how it didn't make me break out. After using it for three weeks, I've noticed that it is still very gentle despite my skin being sometimes problematic due to period hormones and what not, and that the overall texture of my skin has improved and become very soft. This is definitely my go-to moisturizer now, and I would recommend it for any skin type because of its gentleness!…read more\",\n",
       " 'I really like the way this made my skin look and feel, and the ingredients are awesome.  I just wish they had a larger shade range because the lightest still makes my face look too dark for my body.',\n",
       " 'I haven’t been a big fan of Smashbox until I tried this! It’s so refreshingand my face has actually started clearing up since using this!',\n",
       " \"I wanted to like this, I was looking for a light weight gel-like moisturizer and even though it went on smoothly my skin never really felt hydrated. I haven't used it enough but it also felt like my pores were clogged after using.\",\n",
       " 'Great moisturizer, makes my skin very soft. Has a light citrusy scent that I like. A little goes a long way, so this tube will last you for a while.',\n",
       " \"Pricey; decent, but not great. I don't feel like it does a whole lot besides moisturize, and there are a plethora of essences out there with added benefits both at and below this price point.\\n\\nIf you aren't using anything at the moment and don't mind the splurge, this is a good, safe place to start. If you're willing to do a bit more research, you can definitely find better.\",\n",
       " 'This BB cream is very expensive and gives very little coverage. That said, it does not irritate my skin, I like the ingredients, and it does help blur my skin and make it look smoother. This will not cover imperfections.',\n",
       " 'This is a great refresher for dehydrated skin and a great make-up setter. I buy them in bulk and use them every day - keeping one in my purse or travel gear always.',\n",
       " 'I received this product complementary from Influenster and have been using it every day since I recieved it. I find it difficult to get the product from the bottle to my face since it is just liquid. However once I do get it on I notice that my face feels a bit smoother and more mattified. Over many days of use you can see subtle differences in texture of your skin like it becoming softer and a bit less oily. The only thing that gets me is the price of the product, I wish it was cheaper but there is a lot of product in the bottle. Overall a great product that I would recommend if you have the extra cash for it.…read more',\n",
       " \"Received a sample and had high hopes for it. I couldn't get past the fragrance from it. It's just way too strong that I had to wash it off.\",\n",
       " \"This is a must have moisturizer for anyone with oily skin. I normally tap my finger into the product and it's enough to cover my whole face, a little goes a long way. Not only does it help keep my makeup more matte throughout the day, but it keeps my skin so hydrated! I've gone through two containers and recently just purchased a third. I follow the Korean 10-step skincare routine and nights where I do everything (including exfoliating and a sheet mask) I'll use a little bit more than usual for an extra burst of hydration.…read more\",\n",
       " \"I absolutely love this stuff. I love the ingredients and what it does for my skin. I use it day and night before my other serums and moisturizers. It makes my skin look plump and feel soft and smooth. If it wasn't so expensive, I'd keep using it.\",\n",
       " \"I started using this at night after exfoliation and before serums and creams. It does exactly what it claims to do and have changed the texture of my skin along with the softness! It is pricey but you definitely won't find another essence water with a beatable price especially for the quality!\",\n",
       " \"I cannot rave enough about this product!!!! It's plumps out even deep wrinkles after 1 use! I'm blown away!! This instantly became one of must-have products!!!\",\n",
       " \"Whenever I wear this moisturizer at night I always wake up the next morning with the softest skin ever. I've also noticed an overall smoothness to my skin! I received this product complimentary for testing purposes but I would definitely buy this myself when I run out!\",\n",
       " 'Made my skin feel so soft and firm. Easy to use and feels nice in my skin. *I received a free sample. All opinions are my own.',\n",
       " '***This review is cross-posted for all the products mentioned below. \\n\\nIve only tried a few of all the amazing moisturizers, but I’ve decided to write a review rating them. \\n\\nDay-time:\\nJosie Maran face butter\\nClinique moisture surge gel\\nPTR cloud drench gel\\nDE B-Hydra gel\\n\\nNighttime:\\nClinique dramatically different lotion\\nPTR cloud drench gel\\nJosie Maran face butter\\n\\nFor both day-time and nighttime, the clear winners were the Clinique products. I was shocked since they’re much cheaper than the others. \\n\\nI used each product for one full week to make a good comparison. \\n\\nI would rate them like this:\\nDay:\\n1st and WAY above the rest—Clinique moisture surge gel\\n2nd—Josie face butter \\n3rd—the PTR and DE were exactly the same for my skin. I honestly didn’t see or feel much of a difference. \\n\\nNight:\\n1st—Clinique dramatically different lotion\\n2nd—Josie Face butter\\n3rd—PTR…read more',\n",
       " \"I picked this up as part of a sampler pack of face oils. I've never used face oils before but my skin is very dry so I though they would help. I was amazed at how hydrating these oils were but not heavy or oily at all. They are super refreshing, smell great and really work. I noticed an immediate change in the texture of my skin (so smooth!), color (no more splotches!) and glow (luminous!). I would recommend this to someone of any skin type.…read more\",\n",
       " 'Skin definitely plumper since using and I believe it is helping other products absorb more efficiently. I was on the fence about using an essence, only using when I received as a reward, but I do notice the difference when using and as a new Tatcha user, I am pleased with this and will repurchase. Really happy with this brand.',\n",
       " 'Big fan of this product especially the applicator. I figured many customers would put it in their hand and then apply but I found that tilting it directly on my face let me spread it better. This product has a refreshingly, dry application that doesn’t trap grease or dirt as it soaks in. If you’re looking for something that feels great to add to your routine, give this on a shot! I received this product free through influenster but I will likely buy again…read more',\n",
       " \"Reliable moisturizer, reasonably priced, especially great if recovering from over exfoliating. I always keep a tube handy even if I don't use it every day.\",\n",
       " 'Absolutely amazing!! Cleared up my skin & it’s not the softest it has ever been!',\n",
       " 'Absolutely my favorite face cream. I have really dry sensitive skin and it works amazing and keeps me super hydrated. Good tip I use it with the Elizabeth Arden ceramide capsules and they are the perfect match for waking up with super soft skin!!!',\n",
       " 'This stuff is amazing!! I cannot live without it!!',\n",
       " \"I love this stuff! It makes my dry skin look healthy and radiant. It doesn't have high coverage but even outs skin and helped my skin look smooth. Best bb cream I've tried and I've tried a lot. Perfect for summer!\",\n",
       " 'This stuff is amazing. I am 35 with fine lines and wrinkles on my forehead and this stuff takes off ten years. I already ordered a back up bottle because I am sold on this stuff. I used Ester Lauder Perfectionist serum before this and have seen much better results with this.',\n",
       " 'Broke out the next day!',\n",
       " 'Expensive? Yes. Worth it? Also yes!\\nI really didn’t think this could live up to its claims, but it really does seem to be making a difference (been using it a couple weeks so far). My skin is noticeably plumper, firmer, more taut. If I hadn’t seen the results for myself I wouldn’t have believed it. Since you use only a little bit, morning and evening, one bottle should last quite some time.',\n",
       " 'This is one of my favorite products. I was skeptical at first being that this product came in three odd shades. I chose light / medium since I’m neither light but not quite medium. I’m thrilled. I apply it every morning after my moisturizer and it gives me a sheer, dewy, blurred look. I love it. It looks like I’m wearing nothing yet it blends and hides any slight imperfections. I just apply mascara and a lip balm and I’m done. Love love love.…read more',\n",
       " 'If you have oily and sensitive skin like me, this is the moisturizer for you. My skin not only feels hydrated, but when I use this on top of topical acne medication, it also feels like it helps the healing process. I mix this in with the Kevyn Aucoin Sensual Skin Enhancer during the the day and it wears amazingly as a foundation.',\n",
       " \"Yes, it is super expensive and Yes it is worth every penny. I did purchase several products from Tatcha but this is the only one I will buy again. It works instantly, my skin feels so much softer and i can't stop touching it :). The moment I started to use this product in my routine, my skin is getting better and better every day. Thank you Tatcha for this miracle.\",\n",
       " \"I love, love, love this moisturizer. If you have dry skin it is truly amazing what this does for your skin. It really feels like my skin drinks in this moisturizer and I just can't resist touching my face after applying it, it's just so soft!\",\n",
       " 'I am an older woman with dry skin and I live in an arid climate.  This cream is super moisturizing and the moisture stays for hours.  It broke out my skin a little bit the first few days but my skin adjusted quickly. I would recommend this cream for super dry skin like mine.',\n",
       " 'I love this product and would recommend it to anyone!! I don’t even have to use a moisturiser on my face when I use this because it leaves my skin feeling so soft and hydrated. I have used this for only about a week and have already seen a difference in my skin’s brightness and smoothness. Great product!!',\n",
       " 'I received this product just two days ago and I already really like it. For the price this product works very well to hydrate your skin. Unfortunately for me my skin is rather oily and it made my skin too hydrated. It has a pleasant smell and feel on the skin. It just did not work for me personally due to my skin type. I received this product complimentary from Influenster. All opinions and reviews are my own.',\n",
       " \"I absolutely love it so far I have only been using for aboit a week and I'm noticing such a positive difference in my face it looks more glowing and it's so much softer and smooth can't wait to continue using it to see more improvement to my face! I received this product for free in exchange for mt honest opinion\",\n",
       " 'I absolutely LOVE LOVE LOVE this!! I have used this for about 2 weeks now and my skin looks and feels healthier than ever before. I use it alone or as a base for my foundation and it just works wonders on my face. I got a sample for my mom to try, she has extremely sensitive skin and she is so much in love with it that she purchased 2 full size ones. Her skin has also made a huge improvement and has not broken out since using it.…read more',\n",
       " 'I love Perricone MD. After using another skin care line for two years, I noticed that my skin had lost its glow. While people usually think I\\'m 10 to 15 years younger than I am, I wasn\\'t getting as many mistakes. My Sephora consultant offered a variety of products to try, including two Perricone MD. The first time I used them, my skin immediately responded. My husband noticed the \"glow\" that same day. Luckily, I had a birthday a day later. He went to Sephora to buy everything I needed. Perricone MD products are the best I\\'ve ever used.\\n\\nAs the Sephora consultant eventually put it, my husband was a salesperson\\'s dream, since he came home with just about everything Perricone MD, some of which turned out to be redundant. I want to take a moment of your time to recount an experience I had with the Sephora staff regarding my husband\\'s purchases because the Sephora staff was extremely honest, even though they risked losing a fairly large sale. I wasn\\'t quite sure which products should be used in what order, and when. After consulting with my Sephora consultant, who then consulted with other Sephora members, I was told to contact Perricone MD directly. I really appreciate that the Sephora staff didn\\'t try to answer questions they were unsure of, but instead, had me phone the actual source. In my opinion, this is a huge plus for the entire staff at Sephora, who were all honest enough to admit they didn\\'t know the answer to a few of my questions. This speaks very highly of Sephora\\'s ethics and honesty, in general. They could have made up something, they could have guessed or they might have even sold me more product. Instead, they chose to take the high road, directed me to Perricone, and told me to return anything in excess of what Perricone staff thought I should have. Very few stores are this honest these days.\\n\\nMy skin looks great. Here\\'s the products and schedule:\\n\\nI alternate cleansers, using The Nutritive Cleanser (more calming), and the Citrus Facial Wash (for humid days). Both are effective gentle cleaners, easily removing environmental pollutants. The Citrus Facial Wash seems stronger, and probably cleanses pore more thoroughly. If you\\'re only getting one cleanser, go for The Nutritive.\\n\\nSerum Prep firms the skin, and readies it for the next step. Cold Plasma follows, and offers a boost to the effectiveness of the products which follow. Sometimes, I substitute Firming Facial Toner (day) or Pore Minimizer (night, and shake well) for the Serum Prep. Both work to minimize pores, especially in hot humid weather. The Intensive Pore Minimizer and the Advanced Face Firming Activator can be purchased in The Power Couple Set, so you can save $50 when you buy both. If you\\'re only buying one of them, I\\'d recommend the Intensive Pore Minimizer since I think its results are superior.\\n\\nFor firming, sometimes I use High Potency Amine Complex (day) and HP Evening Repair (night), using them at the appropriate times on the same day for the best results. On the days I use the High Potency treatments, I also spot treat with Neuropeptide Facial Cream around the corners of my mouth to help prevent lines from forming. I top this with a Perricone Moisturizer.\\n\\nFor skin miracles, I can\\'t say enough good about the Acyl-Glutathione, which is truly amazing. My skin perks right up and radiates a nice healthy glow. It looks younger, tighter, and firmer, and all around better. I use this following the other products, or even alone. It\\'s wonderful. A little goes a very long way, so a jar should last months. I had a tiny squint line by my nose and it disappeared the first time I used it.\\n\\nI\\'ve chosen Face Finishing Moisturizer, which absorbs quickly and leaves my skin soft and glowing. My skin looks and feels well hydrated.\\n\\nI also use the Neck Cream occasionally, and just added the Cold Plasma Sub-D which immediately firmed up my jaw line. I saw results the very first time I used it.\\n\\nFor my eyes, I first use the Vitamin C Ester Eye Serum. A little of this goes a very long way. Vitamin C encourages cell renewal. I then alternate between High Potency Eye Life and High Potency Eye Treatment, followed by Neuropeptide Eye Contour, which is designed to combat lines, and puffiness. While I didn\\'t have any specific problems with the skin around my eyes before starting this, the area around my eyes looks better, perhaps lifted, and definitely younger. I\\'m very pleased with these products. The Potency Eye Lift and the Vitamin C Ester Eye Serum are currently available in the Eye Lift Synergy Set. You save $50 buying them together.\\n\\nAll totaled, this might seem like a somewhat expensive proposition. When broken down, it doesn\\'t really cost as much as one might think. However, it\\'s worth saving for, since the condition of the skin on our faces is important and something we can partially control. Every single one of these products should last for months, and compared to other brands, given the limited amounts of products necessary to achieve great results, compared to cost, is not as expensive as it might first appear. While the Acyl-Glutathione looks to be fairly expensive, I\\'ve been using it for a few weeks now, and can barely see a dent in the contents in the jar. The Vitamin C serum will probably last a year, as will some of the other products. The only product I use a lot of is The Serum Toner, and that\\'s because it\\'s applied to a cotton pad before use.\\n\\nI thought my skin was in excellent condition, but after using these products, it looks much better. These are the best products I\\'ve ever used, and the results come quickly. I recommend everything reviewed above. There\\'s nothing better.…read more',\n",
       " \"This is another Tatcha product I wish I wasn't in love with. I can't imagine being without it. I'm not all that frugal with it either, I splash it over face, neck, and upper body. Thankfully a bottle seems to last me a long time, even using it this way, and I just stock up during sales... I think I'm on my third full-size bottle now. It's truly wonderful... just what I need after washing my face, so that it doesn't have that tight feeling, and it feels like this refreshing splash of nutrients that really does seem to make a difference to the appearance and feel of my aging skin. I also feel like all my The Ordinary serums soak in so much better and are more effective as a result of this first step after washing my face (with Tatcha's Rice Polish). Won't ever go without this as long as they sell it :)…read more\",\n",
       " 'This product feels amazing and definitely helps other skincare soak into your skin more! The packaging is beautiful and the stuff feels amazing on your face!',\n",
       " 'its amazing! i love it',\n",
       " \"I used this product religiously, it doesn't work. It's been two months and have not seen a difference.\",\n",
       " 'Great hydrating moisturizer',\n",
       " 'This product is a little bit pricier than I usual go for but after I used it I realized it was definitely worth the money! As you apply it you can feel how soft it’s going to make your skin. I felt more refreshed and rejuvenated after using this product!',\n",
       " \"So I got this as a sample and have been using it for several days now. I really didn't notice a difference in wrinkles the first time I used it. I only have one fine line across my forehead, but as I kept using this, the line has become harder to see. It's crazy! I love this stuff! I know this says 2 in 1, but I use this as a serum and then add an additional moisturizer because it is winter and my skin is dry.\",\n",
       " 'This is amazing product, smell amazing, there is a difference in 1 week!!! Its so easy to use, affordable, and beautiful Packaging.  [product:tatcha-the-essence] I received this product complimentary for review purposes.',\n",
       " 'Amazing !! I have very oily skin on my T zone and after couple of our wearing make up I look super oily , but this cream is just holy grail! I can have my make up for 7+ hours and look like I just apply my foundation! Everybody with oily skin should try it !!',\n",
       " \"I have acne prone skin , so I use alot of medicated soaps which keeps my skin a bit more dry than the average person. Ive been using this cream every morning and night (for the last month), it is amazing. It's light, non-greasy and you don't need a lot.\",\n",
       " 'This has totally enhanced my skincare regimen. I have very dry skin and none of my face moisturizers have seemed to work well until I added this step first before putting on my moisturizer.',\n",
       " \"I found it. This is just the best cream I've ever used. Makes my skin so happy. It's rich but not too rich, smells fresh but not overpowering, you only need a tiny amount for your whole face, and it absorbs quickly. No stinging, the texture is just perfect, and I layer it with a serum every night. Just perfect.\",\n",
       " 'So hydrating and calming for dry skin. Really repairs dehydrated skin. Smells good',\n",
       " \"I received this product for free for testing purposes from Influenster. At first I thought that this was my new must-have product in my skincare routine, but the more I used it, the less I loved it. I also received the Violet-C serum and I felt that once I started using these products, my skin began to break out more. I have never had an issue with acne before. I have very dry skin and live in a very dry climate, so I was hoping that it would be more hydrating, smooth out my skin, and provide radiance. I feel like it didn't to any of those. There is no scent to this product which I found disappointing.…read more\",\n",
       " \"I barely have to use any nightly.  I've noticed a difference in my skin and wrinkles.  I'd definitely be buying this again.\",\n",
       " 'I was having issues with dry winter skin, this product is amazing!  It quickly made my skin soft and moisturized in no time at all!',\n",
       " 'I recently tried this and think it’s a little too sheer to provide a lot of coverage but it worked really well as a primer for more fuller coverage products. It didn’t break up my foundation and I like knowing I have even more sun protection',\n",
       " 'i love this product. it gives me that natural covarage. use it as a primer and foundation.',\n",
       " \"I have very dry skin, and this cream layered with the Ceramidin Liquid is the best combo I've tried so far-\",\n",
       " 'This product is seriously so amazing. It looks like micellar water which caught me off guard at first. When I first put it in my hands I was nervous I was going to get it everywhere because of the consistency BUT I didn’t and it absorbed right into my skin. I’ve been using this in the morning with dermalogica’s biolumin-c serum and then at night with the new Tatcha violet-c serum and my skin is definitely softer and feels much more hydrated, which I love since my skin gets slightly dryer in the winter. I have oily combo skin and this hasn’t made me any more oily and this hasn’t broken me out at all. I can’t wait to see how my skin looks once I finish the bottle! I did receive this complimentary for testing purposes!…read more',\n",
       " 'I love this product - I have been making an effort to use cleaner ingredients in my skincare and this hits the mark! It is most definitely a radiant finish, which I prefer, because it is my opinion that matte face makeup is very aging. Love the spf and the ingredients.',\n",
       " \"I live in Colorado and with the dryness here, finding a moisturizing product that truly worked was super difficult... until I started using Ceramidin cream. I've been using it for 1 1/2 years and I absolutely love it. I have sensitive skin and I've never had any issues with it. Also nice is that a small amount of product goes a long way, so the tube lasts for a while.\",\n",
       " \"Love this! I used this with the lotion for Fall, Winter and Spring. Works wonder! I used just the lotion for summer. \\n\\nDuring that time of the month, I'll use tiger grass serum and cream to treat my hormonal acnes. I love how they dried up acne almost instantly. \\n\\nI'm in love with Dr Jart!\",\n",
       " 'For the price, I expected it to rock my socks (69$ with tax) but its just OK. Packaging is terrible (why not a flip cap instead of that clunky screw top???) Smells medicinal, feels silicony. Its a good hydrator, but certainly not worth 69$',\n",
       " 'This product is the absolute best. I recommend. I have oily skin and I can say this product works miracles!',\n",
       " \"Best night moisturizer I've ever used. After 2 weeks, my skin feels a very noticeable difference! Love how thick the cream is but how light it feels on my skin! And the smell is perfect\",\n",
       " \"If you can shell out $95 for a bottle of fermented water ...good for you! ...and me. \\n\\nYes an essence feels great on the skin. They should help with hydration and allows the next products to better absorb into the skin. \\n\\nAs for this Tatcha essence, I can't say I see or feel a different in my skin texture (softness, firmness, plumpness, etc). I can't tell whether or not this actually helps the next products penetrate my skin better. After I cleanse and tone, I splash a couple of drops into my hand and press into my skin. For a 5 oz bottle, $95 isn't bad. I probably will not repurchase. Again, this feels nice and luxurious on the skin! How can I justify $95 of fermented water... \\n\\nI’ve tried almost all of Tatcha products, all amazing and luxurious. However I feel this product is completely unnecessary. \\n\\nI've tried a cheaper essence from Blithe (or even Fresh) that completely changed my opinion of this step. I'd rather spend my money on an essence that has a little more substance. To give a little insight, rice water is big in asian cultures. i've grown up knowing the benefits of rice water on skin and hair. in china, there's a village of women that wash their hair in rice wate and they are known to have strong long beutiful hair. amazing!!…read more\",\n",
       " 'I love this moisturizer!! It literally has the consistency of butter, which u was a little worried about but omg is it amazing. My skin felt so soft in the morning and it did not break me out at all nor did I wake up looking like a grease ball. Totally recommend. I received this product complimentary for testing however all opinions are my own.',\n",
       " 'I have been incorporating The Essence in my morning and evening Tatcha ritual.\\nIn just one month this miracle \"water\" and 7 second applying time, have pumped up my skin, made it glow and evened out my skin tone. I love it!!!',\n",
       " 'I love this Essence. It feels light like water but, it has so much positive benefits for the skin.This essence provides my skin with the right amount of hydration and leaves my skin feeling nice and plump. I received this for free by Influenster for testing purposes but, my opinions are honest and I would repurchase this.\\xa0',\n",
       " 'I believe this is my first review on Sephoras website because this product has truly worked wonders on my skin. I live in California and our \"winter\" has been much colder than what I am used to, that couples with my skin getting drier as I get older, it\\'s been a nightmare. I had tried face creams, serums, oils, you name it and finally a sephora employee recommended I add an essence to my routine. I was VERY skeptical because the price on this is hefty but after just a few days of using it and changing NOTHING ELSE in my skincare routine, I noticed my skin finally stopped flaking and peeling and the redness around my nose decreased significantly. I will definitely repurchase.…read more',\n",
       " 'I received this product for free for testing purposes and HOLY COW! It was super easy to apply and my skin drank this product right up! My skin looks and feels more hydrated and softer than ever before! I WILL buy this product after my test bottle runs out. My favorite part about this beauty brand is that IT’S CRUELITY FREE! I also really love the packaging! THANK YOU TATCHA!',\n",
       " 'Wow, I got a free sample of this with a recent order, which I will get many uses out of, and my skin looks amazing when I wake up. It feels velvety soft and has a luminous glow. It has a faint fragrance but I feel that it dissipates quickly. I am splurging on the full size when my sample runs out!',\n",
       " '- cooling, light, buildable gel texture\\r\\n- sheer bb that works well on cool skin tone\\r\\n- mineral spf\\r\\n- other nice ingredients\\r\\n- I LOVE THIS',\n",
       " 'I will be honest I did some changes in my skin, but this is by no means a moisturizer,. I used it as a serum, because it is not moisturizing at all.  glad I got it on sale, would not spend the full retail on this product',\n",
       " \"LOVE this hydro gel! I recieve it complimentary from Laniege and influenster for testing as part of a vox box and am so glad I got to try this! This gel is really hydrating to skin, especially if you have really dry itchy skins in some areas, it gives such great relief! The packaging is really beautiful and is durable for the life of this product. It is glass and comes with a spatula to get the product out. They really thought of it all to go with a great working product. I would say if you have normal or oily skin, don't use this one daily, it is super hydrating after all! I received this product complimentary for review purposes.…read more\",\n",
       " 'Expensive but worth it. Tatcha’s vitamin C serum didn’t work for me, but this essence is amazing!',\n",
       " 'Love how this reacts on my skin. It definitely makes your face look great',\n",
       " 'This is way to thick greasy for my 53 year young face. Way over priced did nothing but break me out which I never break out. Do not recommend. Save your money',\n",
       " 'I love this stuff- I received a sample and started using it on my frown lines and noticed a difference right away!',\n",
       " \"Probably the most hydrating cream I've used. Locks in moisture as well as other serums that I apply beforehand.\",\n",
       " \"I have dry skin and this is a good moisturizer it soaks right into the skin, but I feel like I have to use a lot to make my skin actually moisturized. I did not repurchase because I need more moisture but this is great to put under makeup because it doesn't leave skin oily or greasy.\",\n",
       " \"I recently purchased the Estée Lauder micro essence and was happy with it. Then I received a sample of this, and wow! Much more hydrating and I swear it's helping even my skin tone. I've only been using it 4-5 days and I'm in love. I've already returned the micro essence and ordered this instead.\",\n",
       " 'This cream is amazing! It worked wonderful on my sensitive skin and did not have an overwhelming fragrance. This cream does wonders to prep your skin for makeup application. The formula feels smooth, luxurious and high quality. It does not clog pores and makes your skin feel balanced. I received this product complementary for testing purposes and all opinions are my own.',\n",
       " 'I have only been using this product for a couple night, and I already love it.',\n",
       " 'Love this moisturizer!',\n",
       " 'I primarily use this product at nighttime after toning but before serums as I find that to be the most effective. I love the green tint the avocado gives to the product, it brightens the under eye while minimizing redness in this areas. I have very redness-prone skin to I like to bring this down just on the tops of my cheeks where I have a good amount of redness, and it helps immensely the next morning. When I wake up in the morning, my skin is glowing like it never has before. I highly recommended this product.…read more',\n",
       " 'This product is kind of useless and doesn\\'t feel satisfying to use at all. It isn\\'t very cooling, tugs at the under eye area, and isn\\'t smooth on the skin. It also feels rather tacky and sticky after applying. I feel like it would be more \"cooling\" after sticking it in the fridge but... you could say that about any product. Honestly, this felt like a waste of money and I regret spending even on this mini size!',\n",
       " \"The second I put this on my face I lit up like a chandelier. I stepped outside and got into my car and my face was SO SHINY. Don't know who would look good in this but it certainly isn't me.\",\n",
       " \"Paired this with the ceramidin lotion and I'm in love! Super dry skin and eczema. This is hydrating yet doesn't leave a residue!\",\n",
       " 'My skin is extremely dry and sensitive. I alternate between using  a combo of Ceramidin Cream with Ceramidin Liquid, and Ceramidin Oil Balm with Ceramidin Liquid for the colder months. I have tried SO many creams, oils, serums - but this is the only thing that keeps my face moisturized throughout the day. Also it does not leave your skin with a sticky feeling. LOVE IT!',\n",
       " 'hands down the best mostiurizer I use this with their cicapair and my skin has bumps and red sports and scares, after three days using both products in the evening and at night  my scares are getting lighter',\n",
       " \"I am on my 5th tube of this miracle stuff! I have uber sensitive, combo, acne prone skin. I use this in the evenings 2-3 times a week. I find it really does help repair the skin barrier and it's not pore clogging or too much moisture. A little goes a long way. The texture took a few days to get used to when I first purchased, I was very scared it would be too rich. But it balances my skin perfectly.\",\n",
       " 'I wanted this for a while but the price was high for me so I decided to just dive in and get. This is now a must have in my skin care wowwww. I feel and see a difference especially with my night time skin care. Right after toning I dab this on my face while it’s still we apply my biossance squalane vitamin c rose oil ad I was amazed as how quick it absorbed the oil the next morning you’ll see a difference. This is food for the skin. I’ve been using it morning and night for 2 1/2 weeks I think. Also I have combo/oily skin.…read more',\n",
       " 'I have received several compliments wearing this.',\n",
       " \"Really great product, love that it's a gel and water based so my skin doesn't break out the way it would from a heavy cream. My skin feels really nice after using it, and does a nice job hydrating.\",\n",
       " 'I used this, along with Ceramidin Liquid, during the drier months when it gets super windy in Southern California. This was an excellent product. It blends in quickly and left my skin feeling soft. I wish this had an SPF version, and then I probably would have stuck with it past the first tube. (I still use Ceramidin Liquid)',\n",
       " 'I’ve been using this product now for a few weeks. I’m not great at using it consistently, but I truly feel as though I can tell a difference even after a few uses. I’ve been using this in combination with the Violet-C Brigtening Serum, which I received both for free for testing purposes (through Influenster). While this is a pricey product, it seems well worth it. You get a lot of product and don’t have to use a lot to see results. Ideally I would like to purchase this in the future, when I can alott the money to do so. But overall, I recommend this product if you’re looking for smooth, plump, bouncy skin.…read more',\n",
       " 'I have heard about the Tatcha brand a lot from watching beauty gurus in YouTube, but I never actually experienced this brand until now. It was a little weird trying to get the product out because it has a little spout for the opening and it is liquid so I really didn’t know how to apply it correctly. I just put it on my hands and then applied to the face. When putting it on it give your skin a tacky feeling, so it maybe could work as a primer. After a few uses, you can definitely feel your face becoming softer and just looking more luxurious overall. This is an expensive brand, but is totally worth it if you’re willing to pay! I received Tatcha The Essence for free for testing purposes.…read more',\n",
       " \"I have dry skin and no lotion ever seemed to work for me. I watched a Desi Perkins video and she was talking about this and her skin was glowing so I gave it a try. Not only does it keep my skin hydrated, but it cleared up my skin!!! When I'm breaking out, it is almost always because I stop using this. So worth the money.\",\n",
       " 'As a working mom of 4 children I don’t have a lot of time to dedicate to skin care routines so I’m always looking for something that works but doesn’t break the budget. I had given up on finding an affordable moisturizer made my skin look and feel hydrated and helped with fine lines. Then I received a complimentary sample of High Potency Classics: Hyaluronic Intensive Moisturizer from Perricone MD to test and review. This lightweight, silky gel made my skin feel soft and look radiant! Since I started using it a few weeks ago I’ve received quite a few compliments about my skin!…read more',\n",
       " 'This product is amazing! After using it for 10 days I have seen a difference in my skin. Before using this my skin was very textured',\n",
       " \"This is the only cream i can use. i have extremely dry skin and i'm only 17 years old so i needed something that won't irritate my skin and will be light weight. i have the sun screen that goes with this. it it truly amazing. i would recommend 1000/1000\",\n",
       " 'I wasn’t sure how effective rice water would be.  But I was impressed with this products results.  Not only instantly softens the skin also created a smoother surface over time.',\n",
       " \"I bought this to help with dryness and texture around chin and forehead, which is especially bad during the winter. I've used this for a week and noticed that after a few hours those areas would feel dry and tight again... Not what I expected.\",\n",
       " 'Now I get all the hype about Korean products! Wonderful moisturizer, absorbs quickly and lightweight.. I have combination skin and this is probably what I have been looking for!!',\n",
       " 'I’m giving this a 5 star review because I’ve never used a Tatcha product I didn’t love! I’ll be writing another one because all I see are pictures of 22 year olds that have skin that definitely doesn’t need this kind of product yet. I’m a firm believer in starting great skin care when you hit 15 to 18 but for me to believe a 20 year old has great skin at that age using Tatcha products is hard to believe. When I was 20 my skin was flawless and I rarely wore make up. Didn’t need to. These girls pics remind me of the miracle skin products showing 15 year olds on ads.…read more',\n",
       " 'This beauty water really does the trick! After cleansing my face, I will use this to remove any dirt or makeup that was left behind and it makes me wonder if I need a new cleanser after seeing how much is on my cotton pad. The only down side is it is very drying. I apply moisturizer immediately after wiping my face down with this. I am going to try another toner without alcohol to see if its less drying.',\n",
       " \"I've been using this for a few weeks and I love this stuff! I have fair, freckled, acne-prone skin. At first, the medium beige color of the cream frightened me, but it blends PERFECTLY into my skin. It evens out my skin tone wonderfully and even covers blemishes and some red acne scarring pretty well. It wears well through the day and I don't find that I'm extremely shiny by the end of the day. I can't say that I've noticed it improving the overall state of my skin, but that's fine since it makes it look lovely when it's on. The only down side to this product is the pump, which sometimes gets clogged with air and makes the product spurt out before you get a good pump (so be careful!)…read more\",\n",
       " 'Good for dry skin, I really enjoy this product. I do not use it everyday but I have used it enough to think it really does a good job at hydrating dry skin! Bought this and the aqua bomb (which I like equally) but have been gravitating towards that one before makeup and then using this Dr. Jart Cream before bed. 10/10!',\n",
       " 'This is the best product. It does exactly what it claims. My skin is so soft after using. Yes the price is high but i will buy it again and again',\n",
       " 'This product definitely made a change in my skin, almost overnight. It is definitely thicker than your average moisturizer, but a little goes a long way (good bang for buck).',\n",
       " 'I love this product. It is so easy to use but really packs a punch with your skin. I have very oily and acne prone skin. This product does not cause break outs and really adds the extra hydration my skin needs. I will never stop using this product!',\n",
       " 'I love this product! I feel like it moisturizes without making my skin have an oily film. I love how easily it goes on and how refreshed it makes you feel! I received this complimentary, but it is definitely worth buying!',\n",
       " 'I LOVE THIS.  i’ve tried and sampled “essence’s” before but I never really understood how it could be vital to my skincare routine, but I really love using this.  It’s so lightweight and dries quickly ... and the bottle makes pouring it out easy and a lot less messy than you’d think.  I also love that the spout prevents it from spilling, since if it’s possible to spill something, I totally will.  this is a great lightweight item that offers toning & hydration in one lightweight, fast-drying, non-sticky formula.…read more',\n",
       " 'me and my mom both love this product made for all ages! you will see a difference if you keep using it',\n",
       " 'This item is a soft clear liquid. Use a dime sized amount in the palm of your hand for your face and neck, DO NOT RUB HANDS TOGETHER JUST PAT LIGHTLY TO SPREAD PRODUCT. It takes about 3 minutes for it to be fully absorbed into the skin. No tacky residue.This item is used after my Son',\n",
       " 'I received this product for free via influenster for reviewing purposes, and oh my, this is a gem, it smoothes my skin to perfection, leaves pores less visible and its very moisturizing but doesnt leave my face oily.',\n",
       " \"I was so glad when I received this product to test! I was looking for an overnight sleeping and restorative product and this is AMAZING. When I awake, my skin looks not just smoothed, but younger!!! The ONLY thing I'll say (4 stars) is the product works TWICE AS GOOD with the Algenist Liquid Collagen! Ah, now THAT'S MAGICALLY GORGEOUS SKIN IN THE MORNING.\",\n",
       " \"Received a number of compliments from my extended family about my skin on Thanksgiving. I gave kudos to Dr. Jart. I have fair skin, so the one shade works for me just fine. The light coverage AND that high SPF is exactly what I've been looking for. Haven't tried any other BB creams, but don't feel I need to. :)\",\n",
       " 'This product is amazing. I love how it makes my skin feel.',\n",
       " 'I have owned this for about 8 months (the bottle lasts forever) and liked it, but could have lived without it. But then I was researching what to do about my dehydrated skin that was freaking out after a long winter and came across the \"7 skins\" Korean method of using essence - I used a small amount of essence and patted it into my face and repeated 7 times in a row. Amazed! My skin was visibly plump and bouncy and glowing. I\\'ve been doing the 7 layers a couple times a week and on other days I only do about 3 layers. I know it sounds like a waste of product but give it a try if you want instant hydration and visible results.…read more',\n",
       " 'I was very happy about the results of this product. I received it as a complimentary gift and used it for two weeks straight. My skin was noticeably more supple and plump and bright as a result of it. I think I need to keep using it for even more results. The texture is nice as well. I would repurchase!',\n",
       " 'I didn’t initially understand this whole essence trend. I had been trained traditionally to understand that a toner was something you did before hydrating and after cleansing. But I was interested to learn that historically toners were used to put back into the skin what a cleanser or soap would strip from the skin. The essence is not a toner. But it definitely allows my creams to perform better and absorb u to the skin. The packaging is very interesting. At first I was like ... huh? But if you turn it over, the one drop that comes out is sufficient to pat into your entire face. I wait a short time for it to absorb and then move onto cream. Big fan and won’t ever apply moisturizers again without the essence first.…read more',\n",
       " 'I received this plus the liquid collagen complimentary but all opinions are definitely my own!! Im in love with these. I have dry/ combo skin and these love my skin!! Definitely a must have!! #algenist #algenistxinfluenster #contest #complimentary @algenist @Influenster',\n",
       " 'I received this product for free from influenster. I’ve been using it with the tatcha brightening c serum and my skin had felt so soft after using it for a couple of days! There isn’t a heavy or greasy feeling which I really appreciate and no overwhelming smell! Good product!',\n",
       " \"This is pretty and gives a nice natural light coverage. It's great for the summer when you need SPF outside and don't want to look and feel like you have a heavy foundation. The issue, and why I only gave this 3 stars, is that it is shiny when applied and requires a powder finish. I use an Hourglass dim light powder and am pleased with the overall result, but the combination required for the is pricey if you don't already have a powder that will work.…read more\",\n",
       " \"This moisturizer makes my skin feel amazing. It's cooling, smells wonderful, & the best way to describe it is like your skin drank a glass of water. Highly recommend!\",\n",
       " \"This is by far my favorite moisturizer. It spreads really nicely on the skin, so you don't need to use a lot (I can get my entire face and neck with one pump)! The consistency is also perfect because it absorbs quickly and doesn't leave my face feeling greasy. I even use it on parts of my scalp that get especially dry and it keeps it from flaking, and it doesn't mess up my hair.\",\n",
       " 'I am in my early 30s and this product makes my skin feels so nice and i think it has help to reduce the appearance of pores. It is expensive but i use it daily twice and it last for 5 months.',\n",
       " \"Great moisturizer for dehyrated skin.  It's very hydrating with a pleasant scent.  I'm on the second purchase and will continue to repurchase!\",\n",
       " 'I had such high hopes for this. It instantly irritated my skin so badly. I tried it twice, and both times, about 5 minutes later, my skin was red and very irritated. It also made my oily skin even more oily, but is “suitable for all skin types.” I also tried it on my lips, and the hydration lasted, but it made my lips very textured.',\n",
       " \"This is my second bottle of this stuff - it's the best mineral sunscreen with tint I have ever used. I used the medium/dark and I have a light/medium olive skin tone (but prefer a tanned glow). This product has a very dewy glow - it is light-medium coverage. I like wearing this because it feels like a drink for my skin and is extremely breathable (unlike other tinted sunscreens that can feel like a mask). I have worn this poolside , hiking, and in other situations where a heavy duty sunscreen would be called for but this is all I had. It protected me (and gave me that extra glow!) in all those situations. I LOVE this product. Thank you coola.…read more\",\n",
       " \"I don't review much but this stuff is great.  I can see how some people think it isn't doing much but it has helped immensely with my dry skin. I am trying to use a Retina and I can hardly apply it without getting dry peeling skin, even skipping days.  With this I have applied the Retina almost daily and I haven't had any peeling or flaking when using this at the same time, in addition to normal winter dry skin I usually get.  I have never used an essence so maybe there is cheaper stuff that is just as good.  I will probably look into it because this is quite pricy.  But this is worth the price for now, at least for me.  And I'm pretty sure this is the most I've ever spent on a skin care product!…read more\",\n",
       " 'This is nice. I have never used a essence before because I’ve always used a toner. But I tried this a couple times before Applying any serums or makeup & I love it. It makes my skin feel super soft and tones my pores.',\n",
       " 'Nope. I have used essences before and this one does nothing for my dry textured skin except give me tiny little bumps all over my face. Mad I wasted my money on this when I could’ve just gotten another product that works.',\n",
       " \"This product is great for anyone with super dry skin and really helps skin retain moisture. It also helped even out my complexion. It's really lightweight but effective and isn't oily at all when applied. Love it!\",\n",
       " \"I don't really have wrinkles but the lines that I do have VANISHED after 1 use. I only had a sample and it blew my mind. Honestly may buy the full size for how amazing this product worked so quickly\",\n",
       " 'I use a variety of products. Love the primer and silk cream of this line. \\n This item has No perfume smell, not sticky, absorbs very quickly, I can definitely feel a difference in the hydration of my skin. \\nI have combo skin, oily T zone, dry everywhere else. This feels like water and I was very skeptical, but after a few days I can feel a difference in my skin, it no longer feels tight or itchy on my cheeks at the end of the day and I don’t look dry.…read more',\n",
       " 'Have repurchased several times. Hands down my favorite moisturizer for cold months. Hydrates like a dream. Absorbs well. My skin looks plump and healthy when I use it.  Smells amazing. Perfect for my normal but easily congested skin.',\n",
       " 'First and foremost...WOW. I have very combination skin and I’ve never been able to find a moisturizer that hydrates my skin while making it look matte and clean in the process. This bad boy DID THAT! Not only is the feel of this moisturizer night, but it works overnight. It’s only been a couple of days since I first used it and my texture is gone! It’s also helped a lot of my acne go away. 10/10 reccomend this product. I received it for free for testing purposes and as an honest consumer, I would recommend this to anyone who wants hydration, matte finish moisturizer, tightening of pores, remove texture, and help acne!…read more',\n",
       " 'This is my favorite moisturizer of all time. It is thick but does not make me feel sweaty. I live the texture, the smell and the effect. I love the Cerimidin line in general, but this with the liquid is a dream.',\n",
       " 'I have really dry but acne prone skin. I have tried most moisturizers, and my skin would just not hydrate, but it would get a little greasy and break out. This in the other hand works PERFECT!!!',\n",
       " 'LOVE this product.  Purchased on a recommendation from Caroline Hirons and it is a great, hydrating moisturizer.',\n",
       " 'Love this!!!!!This buttery night cream, made with vegan plant collagen, provides intense nourishment for more hydrated, radiant skin.',\n",
       " \"I have combination skin and have tried many BB creams - I love the convenience of a BB cream (SPF + some coverage)! I think this BB cream is a solid choice -- just enough coverage plus a little glow factor that is perfect for the summer! I didn't experience any breakouts when using this product - though to be fair I don't tend to break out with BB creams that I've tried (Boscia, Dr. Jart, Smashbox). The only thing that I don't love about this is the scent. I tend to be more sensitive to scents in beauty products, but if you like rose scented things, you will love this! Overall, I think this is a great everyday BB cream, especially for summer! It's convenient, provides light coverage and is easy to apply. Thumbs up!…read more\",\n",
       " 'As someone with an oily T-zone and super flaky skin everywhere else, this moisturizer has truly saved my life. Personally, I enjoy using this the most during the dry winter months, but lately I have resorted to using small amounts of this cream before bed. I recommend using this moisturizer if you frequently use acne treatments, as the Ceramidin Cream can deposit back much needed moisture!',\n",
       " 'Fabulous!! COOLA makes me feel amazing! I never leave the house without this BB cream on. I love makeup and looking flawless but some days I don’t feel like getting all made up. I use the BB cream and voilà I look and feel awesome. People constantly remark about my beautiful skin and I owe it all to COOLA! \\nThis BB cream goes on light and sheer with just enough tint to make my skin look flawless. It is sheer but has a dewy finish that makes my skin look youthful and glowing. It’s not oily at all and has a lovely soft scent. On days when I put a whole face on I start with COOLA organic day dream primer, then the organic BB cream and follow with foundation, blush etc. \\nWether I am only wearing BB cream or all of my makeup people ALWAYS remark about my skin. You will be so happy and feel so good with this BB cream!…read more',\n",
       " \"This is HG item for me . Perfect for before make up and even for the night time !!! I have very sensitive skin so I usually only use cerave for my face but after I met this ? Omg . I don't worry about my dry and sensitive skin anymore . And it doesn't leave greasy sticky wierd feeling at all !!!!! If you are hastating it's worth to try!!! They have small size of trial set for cream and liquid ! That's how I start to love this !!!!\",\n",
       " \"Ok at first, I thought it would be a cream. I opened it and proceeded to use it and it was just like water. Clear and no scent. I patted it into my skin. And surprisingly, it made my skin feel youthful after I washed my face. My skin was soft. I really like it. Didn't burn or anything.\",\n",
       " 'Hands down the best cream I have ever used. It worked wonders on my sensitive, dry skin.',\n",
       " 'I love this! I was worried about this product leaving a greasy film over my face but it didn’t! It absorbed almost immediately and left my skin feeling fresh and moisturized. I also have very sensitive skin and eczema on my face and it wasn’t irritating at all.',\n",
       " 'Love this! I tried to rate it a 5 but it would not let me',\n",
       " \"This moisturizer is one of the best I have ever tried and I have tried many... I have oily skin but then get really dry around the mouth and nose area and on top of my eyebrow nothing would work.. since I've been using this cream my skin feels so silky smooth and well hydrated so that when I put on my make up those dry patches are nice with moisture I don't think I'll ever go back this is my moisturizer I love it\",\n",
       " 'I received this amazing product complimentary and decided to give it a try. I have super dry skin and was instantly in love with the liquid collagen and this cream. The cream is super thick and luxurious, but goes on easy and leaves skin smooth. You can tell an immediate difference when you wake up in the morning!',\n",
       " \"This formula has been created for over 100 years!!! of course it's great. one thing I don't like is the packaging, although it's a new packaging that celebrates this product, the top creates problems like leaking.\",\n",
       " \"omg so far I love it......I did not know how much it cost and to be able to get this as a free product I am very impressed .....I've been using it for 1 weeks and I love the way it makes my skin feel #influenster #voxbox\",\n",
       " \"I'm a 65 year old recently moved from Texas to Southern California.  While enjoying the beautiful weather here in So Cal, I started noticing my skin changes caused by the exposure to the dry air and sunlight. I first added Vitamin E oil to my skincare regiment, but did not notice improvements until I began trying Essence.  What a life savor, now I'm back to my daily walks and weekend hiking!! Thank you TATCHA, for another wonderful product!…read more\",\n",
       " 'Love, love, love this product! My one improvement would be the packaging itself including a pump or easier system to dispensing. I have used this product in combination with the new Violet C Serum and love the results. I will use this product immediately after washing my face, or after rinsing my face before applying make up in the morning for added softness to the skin. I love the amount of product you receive making this higher priced product a better value! I received this product to test and review from Tatcha and Influenster.…read more',\n",
       " 'Best thing that ever happened to my skin. It is a bit expensive tho so be sure to exhaust all options for first',\n",
       " \"I have sensitive skin and was having an extremely dry/flaky moment. I tried this cream and was instantly hooked! My skin feels so baby soft and refreshed. Soaks into skin and doesn't feel heavy. Part of my daily routine!\",\n",
       " 'I received this free through my influencer box. I really like this product, I find it to be very similar to SKII’s essence, which is much pricier. As far as long term effects I will have to continue use to see how it stands up against SKII',\n",
       " \"This moisturizer and collagen is so smoothing. I love the way it feels on my skin. One of the only times I use moisturizer (sad to say) is at night and I like ones that don't make my skin feel oily. And this one is just right. I will be interested to see what it does in the following days!\",\n",
       " \"I am in my late 20s and, while I don't have many wrinkles, this serum has helped the bags under my eyes tremendously. It has also eliminated the breakouts I was having on my chin. I will continue spending the extra money on this.\",\n",
       " 'This is a great base for my skincare. I use it morning and night before I use my typical creams and serums. I love how hydrated it makes my skin feel!',\n",
       " \"I loved the water consistency of this product! My skin really did drink it right up and my skin became noticeably softer over a few weeks of use. It's also an easy product to layer into any skincare regimen. Thank you Influenster!\",\n",
       " \"I use this on top of my retinol at night. makes my skin feel soft and smooth. it's not super moisturizing but hydrates enough.\",\n",
       " 'I love this product! It goes on just like water- no smell, no slime, and sinks right into my skin. I waited a full month to review because I wanted to see the full effects. It has definitely lessened my wrinkles on my forehead noticeably. I received this as a free sample but the opinion is my own :)',\n",
       " 'I received this product complimentary from Influenster for my review. I have been using the product for almost two months and overall am happy with the results that I am seeing on my skin I can say that I have noticed that my other products are more effective and that my skin is brighter, smoother, and less prone to breakouts. My favorite effect has been that makeup and foundation has appeared so much more natural and smooth since using this product. I am giving four stars instead of five because I do not like the spout that is on the bottle. Application is awkward and I feel like I either am uncomfortable or being extremely wasteful when attempting to pour and distribute the product. I feel that a pump or dropper would allow for a much simpler application process. I haven’t spilled the bottle yet, but could see that as a potential scenario with the current “pour” bottle topper.…read more',\n",
       " 'My new favourite cream to treat my eczema and super dry skin. I like the scent and it keeps a moisture layer on my skin like no other. Just wish there was a bigger size or it was a bit cheaper because I finished my tube in just over a week. Definitely recommend if you are looking for long lasting moisture !',\n",
       " 'Absolutely love the texture.  Very thick and smooth, sinks into the skin nicely. Really not too keen on the smell though, not a total deal breaker but noticeable.',\n",
       " \"This was a bit on the pricey side but in a moment of consumer weakness I purchased it. At first I didn't think it covered well as it went on so light compared to other BB creams I used. It wasn't until I thought I lost this stuff and returned to my old BB creams that I realized how great this product actually is. My skin looks flawless using this alone. My face does not dry out and if I fall asleep without washing my face, my skin doesn't break out.…read more\",\n",
       " 'Good cream, used it as a sample. Absorbs well into my sensitive skin but I would rather use it during winter time. Does not solve my redness problem, which stops me from buying it (quite pricey)',\n",
       " 'Recieved this as a complimentary product from influenster! I love how this product makes my skin feel and it’s very gentle on the skin.',\n",
       " 'I received this product complimentary for testing purposes. I had heard of the brand before, but never really thought of buying it. Now I am obsessed. I put this on every morning and every night before I go to bed and it makes my skin feel AMAZING. Truly a great product, I highly recommend buying it!',\n",
       " 'This essence was my first attempt at incorporating an essence into my skin care routine and I was very surprised how my skin has responded. This essence has hydrated the skin and my skin has been much softer since using this. I have been using the essence in combination with the Tatcha Vitamin C Serum. This essence is very easy to apply whether with a beauty tool or with hands. I received this as complimentary from Influenster as a testing purpose.…read more',\n",
       " 'This cream is a completely different texture than other moisturizers and really helped to seal in other products overnight. It completely banished my dry patches and has changed the way makeup sits on my skin in the morning after use. I really recommend this product to use over serums at night.',\n",
       " \"I love this for sealing in my water based moisturizer before bed. Works amazingly. My skin feels great without a heavy or greasy feeling that so many other moisturizers can leave. It is also matte. It has a slightly medicinal scent, but it isn't very strong and dissipates quickly. Lasts a very, very long time. A little bit goes a long way.\",\n",
       " \"I NEVER write reviews for products, but this product has just been so AMAZING for my combination, acne-prone skin. I have eczema and really bad dry patches in the winter, and when I pat this on my face and all over those areas, the dry patches just go away. My face looks radiant, plump, and hydrated from within. I highly, highly recommend this if you've been suffering from dry patches and dull skin. This product does not break me out. I also got this product free to test out.…read more\",\n",
       " 'I received this In the mail, thanks to Influenster. My skin type is normal/dry and I was skeptical of this at first , due to fragrance reasons. But after trying it out the first night , it gave my skin a boost of hydration right away. It didn’t feel sticky or greasy',\n",
       " 'The mist felt very good on my skin. I used it after applying my moisturizer, and it gave it a really nice glow.',\n",
       " \"I don't know what it does, but I can't live without it.  The best impulse purchase I've made, and a new standard.\\r\\nSmells amazing.\",\n",
       " 'Algenist GENIUS Sleeping Collagen is super creamy and a perfect addition to your nighttime skincare routine.  Absolutely love it!',\n",
       " 'Very nice moisturizer, smells and feels nice. But has very high price.',\n",
       " 'I am a huge Josie Maran Argan Oil fan so naturally I had to buy this and I am so happy I did!!! This is basically the 100% Pure Argan Oil air whipped with hyaluronic acid, watermelon extract and aloe. Seriously the ingredients are so bomb. Since using it my skin feels so freaking smooth! The finish is like a soft focus filter and my skin is looking soooo healthy. You can use it as an eye treatment too which is awesome.…read more',\n",
       " 'this stuff instantly makes my skin feel PLUMP and firm without feeling tight from dryness. its so smooth and just calming! best one ive ever used!',\n",
       " 'I received this from influenster. I’ve used used this a couple times but I think my skin looks brighter already. I have sensitive skin and have had no problems. I received this product complimentary for review purposes.',\n",
       " \"Love this BB cream more than any I've tried. Goes on smooth, good coverage, and very light on the skin.\",\n",
       " 'Great for dry skin, smooths and retains moisture.',\n",
       " 'This product is another product that I don’t personally feel is good for those with Oily skin (like myself.) it smells great and seemed to do what it said but I also think it made my skin oilier than it already is. I received this item complimentary for an honest, and unbiased review.',\n",
       " 'This night cream smells amazing! The smooth consistency and the light fragrance were also a plus. On the first night I was surprised how hydrated it left my skin without feeling or looking greasy.  As I continued to you the night cream I noticed that the \"mommy\" bags under my eyes seemed to fade and the texture of my skin greatly improved. This feels like a luxury item for sure!',\n",
       " \"This is probably a good moisturizer for younger skin. I am 50+ and found that it really didn't do the trick as a nighttime moisturizer.\",\n",
       " 'I absolutely love this product. I received it free for testing',\n",
       " 'I just bought it and love it! Used it with the Dermal Quench Liquid Lift!',\n",
       " 'I received this cream along with the liquid collagen absolutely free from Influenster to try out! I have been cleansing my face, then applying the liquid collagen before applying the cream. The cream has a faint, but good smell. It fells nice on my shin, not to hydrating, but not drying or anything! Also it leaves my shin looking very luminous in the morning! I feel like I have also seen a difference in my pores!',\n",
       " 'Excellent essence. Makes my skin feel smoother and softer. I definitely love this stuff but I hate the bottle. I feel like that tilted nob thing is just weird. So far I haven’t found a bottle I like, at least not for essence. Anyways great stuff, worth the money and I saw texture change in a week!',\n",
       " \"i thought i reviewd this, but sephora says otherwise, so here i go. i will never ever stop using this product. my skin has changed drastically. i applied it maniacly, so just one sprit does not do it for me. i use it at night after cleaning and before my cream and in the morning after my serum and before my day cream. then i applied my make up and i cannot tell you with the right words how increidbly soft and dewy and healthy and renewd my skin feels afterwards. my make up sets perfectly. i don't use it anymore after my foundation for i realized it makes me look a little childish and i prefer not to accentuate that aspect of my face; in other words, it makes you super lively, which is great but dangerous if you have my rounded cheeks! i would buy again and again. i have to admit that i feel tempted by jurlique's mists, but so far i have reamined faithful.…read more\",\n",
       " 'The Essence by Tatcha was a treat to use. It has a controlled rubber spout that made it easy to pour directly onto my face. The essence wasn’t too liquify and spread evenly on my skin. It wasn’t tacky or greasy feeling and felt like a good base for the Vitamin C serum. Overall, I felt my skin looked brighter after use and I would recommend. I received this complimentary product in exchange for my opinions.',\n",
       " 'So moisturizing, loved it.',\n",
       " 'This product is amazing! I have super dry skin and especially in the winter time. I would use this in my night time routine and feel hydrated in the morning! \\n*I received this product complimentary from Influenster*',\n",
       " 'Tried several other brands and the colors did not work with me. Most were quite drying for my aging & pregnant skin. I think the color worked well because it had very little yellow undertones.',\n",
       " \"Wow, I'm a huge fan of this moisturizer. I'm used to facial sunscreens that are either super heavy feeling or those cheap spray-on kinds from the drug store, and this was worlds away from either of those! It's super light, and it actually feels like you're putting something GOOD onto your skin instead of feeling claustrophobic or at all suffocating. My skin stays feeling good all day after using it in the morning. I just feel a lot fresher, but without any oily qualities, so that's a huge plus to using this product. It doesn't make me overly shiny or anything. But there's definitely a noticeable improvement in my skin when I use this!\\n\\nAnd the smell! Some of the other reviews have mentioned that it barely has a smell, but I actually was really, really drawn to the smell! I'm used to more coconut-y smells for things with SPF, but this smell was absolutely delightful. I received this product for free from Influenster, but I'm absolutely going to continue using it once the bottle runs out.…read more\",\n",
       " 'I use this almost every night before bed, makes my skin super soft and improves texture.',\n",
       " 'Pro: it actually does what it claims \\n\\nCons: expensive- that’s it',\n",
       " \"I've enjoyed using this product.  It's nice and thick and has a very pleasant scent and makes my skin feel nice and soft when I wake up in the morning.\",\n",
       " 'Skin feels smooth. Never used any of Algenist products before. Felt a little itchy in the beginning tho.',\n",
       " 'There’s way better products out there this price point or lower. Only reason it’s not a one star is because the product does what it says it will do... but the price point is way too high for what it is',\n",
       " 'best base/primer I ever use!!!',\n",
       " 'I did not see any difference after using this for 2 weeks. Maybe my poors looked a tad smaller but nothing really else. Not worth the price.',\n",
       " 'This stuff is literally the best skincare product I have EVER used it made my skin smooother, more radiant, helped with blemishes and redness, non-drying, made my pores look better too just phenonmenal product',\n",
       " \"Very light coverage,  but evens out skin tone. I have very fair slightly dry skin. Most other foundations look like crap on my nose and forehead. This was great. I don't wear a lot of makeup normally,  so this was perfect. \\nThis is moisturizing and smells great\",\n",
       " \"This cream was a nice consistency and went on smoothly. Had a strange smell to it but nothing that didn't fade after a few minutes or that was overpowering. I ultimately returned it as it did not work for my dry skin.\",\n",
       " 'I’m not breakout prone, but this product broke me out. I’ve used this products a few times and every morning after use, I will have new pimples formed over night.',\n",
       " \"Not 100% sure how I feel about this product. I've been using it for quite some time and I haven't really noticed any crazy results. What turns me off is that for some reason, it's randomly started doing this weird foaming thing. When I put it on my face it leaves little foamy marks that I have to wipe off. Not sure why that's happening because it didn't before. Probably won't repurchase without looking at other alternatives first.…read more\",\n",
       " 'This is by far my favorite product like this! My skin feels so soft and looks amazing after using it. I would highly recommend this.',\n",
       " 'I think this product is up there in the best list, however it is a bit on the expensive side. It leaves your skin very soft and something that my skin really like!',\n",
       " \"This was a wonderful product. It gave me a great base to apply moisturizer and other products too but I would not pay so much for a result I could get from other drugstore skincare products. I really loved the results of this but can't justify it for the price! If you have the budget, I recommend. I was sent this by influenster.\",\n",
       " 'During the winter my skin gets really dry. I visited a Sephora and a skincare specialist told me she is using this right now (along with the toner, which I will be going back to get). I have to say I am more than happy with this product. Keep in mind it is a product for seriously dry skin. You have to be very dry to use this or else you can look a bit oily or shiny.',\n",
       " \"I got the sample of this as one of my free samples when I placed an order one time, and I fell in love. I eventually bought the full size and I know it's going to last me a very very long time. I have combo skin and this works just perfectly with my LUSH Cosmetics cleansers.\",\n",
       " 'I love using this after washing my face, it’s really light weight on the face and  smells like nature.',\n",
       " \"I love this moisturizer for drier climates and for winter! I have oily skin but I start flaking and getting fine wrinkles when the air is super dry. This cream fixes that almost immediately! I've been using it very sparingly too so its lasted me for 4 months and I'm only halfway through.\",\n",
       " 'This is such a toss-up for me. The color is absolutely perfect for my skin tone (I got the light/med), as others have noted, it is kind of a grey-ish rose color...so it matches me perfectly. I also like the glass bottle and the fact that it is mostly organic and cruelty free...but the coverage is pretty sparse/thin. It doesn\\'t really do anything to help even out my skin tone (or cover up sun damage/acne scars). It\\'s a bit thin and translucent. For the price, I\\'d expect a lot more from this. It\\'ll be good for those \"no makeup\" makeup days, but if you want it to perform I have found that it works pretty well if you mix it with a foundation that you find to be too cake/strong so they can even each other out. But for $52 I expect a product to be able to stand alone. I won\\'t return it, but I will never repurchase.…read more',\n",
       " \"I wanted to love this cream because the reviews are amazing. Unforunatley I am one of the unlucky few who can't use this. Every since I purchased it I have experienced painful clogged pores and dry skin. I will not purchase again after I finish the tube.\",\n",
       " 'I will recommend this creme to all my friends - make skin tender',\n",
       " 'I love this cream. It is very moisturizing and soothing. Great for winter, probably would be to heavy for the summer time.',\n",
       " 'Like the feel but not sure it really improves anything.',\n",
       " 'I wanted to try this because of all the good reviews but it did nothing for me at all.',\n",
       " 'Love how this feels on my skin and causes no breakouts on me. I use it along with the serum.',\n",
       " 'I live in Denver - born',\n",
       " \"I received this beauty in a Voxbox a few weeks ago, and I don't think my skincare routine will ever live without an essence ever again! At first, it seemed like such a simple, yet confusing product but I made sure to use this before my Violet C serum every night. Both products are very watery and absorb super fast. The only way I can describe the effects of this is that is perked up my skin! My skin just felt happier, just a bit better than usual and that makes me happy. Thanks to reaching these other reviews I'm going to try using this before my toner instead of after next. TL;DR - Everyone should have this in their skincare vault!…read more\",\n",
       " \"This is a very light coverage product, but it just makes your skin look beautiful. Also, I have super sensitive skin and everything, especially foundations and tinted moisturizers, break me out. This doesn't.\",\n",
       " 'I am very familiar with the usage of essences especially when used in an Asian inspired skin care routine. So I have experienced other brands essences, such as SK-II (which is amazing but not AS amazing as this) and Seishedo’s Eudermine Essence (also incredibly skin softening and less expensive) but this wins i\\nThe permanent spot in my Extensive 8- 11 step skin care routine. \\nI feel like I misjudged how well serums,hydrators, treatments or masks worked prior to using this! Because as everyone has said an Essence is basically like using hypothetical skin beautifying steroids!! Which means you have to do all the work (I.e. applying the right product for the desired result and doing it consistently and accurately) but it makes everything you do 10x more effective and stronger and result producing. \\n  I would literally buy stock in this.\\n  \\n**** because i needed a smaller travel size for multiple different reasons and because Sephora didn’t carry a travel/mini size- I went to the Tatcha website and found a smaller version. But you will have to pay for shipping without the benefit of free sample gifts like you get when purchasing from Here... even though the 3 free samples rarely show up anymore and when they do- they’re not what I chose..…read more',\n",
       " 'Got this a sample, and I was surprised by how good it was for plumping and moisturizing. I might buy the full size to see long term results.',\n",
       " 'I just love it!!!! I feel a wonderful sensation and I use in summer and winter.Also turn makeup even and you can take in fligth, is perfect !!!',\n",
       " 'This works for me but the effects are pretty temporary. I like it as a primer more than a night moisturizer or serum. I really dislike the packaging.',\n",
       " 'The gist:\\n- The rose scent is a little overwhelming. \\n- It does nice things for my skin and is very breathable. I find I am falling back on it at times when other things break me out. \\n- It has virtually no tint/coverage, so I’m not even sure why they have shades. \\n- It’s very dewy/glittery and I always have to wear powder over it or my skin can look strange and shiny. \\n\\nThis is basically a transparent natural sunscreen capitalizing on the name BB. It’s ok and definitely overpriced. I will keep using it but will likely not repurchase.…read more',\n",
       " 'I was excited to buy this until I saw they are NOT cruelty free. Big no in my book. Do better Dr Jart. Sephora you could also do better and not carry bad brands until they clean it up.',\n",
       " 'Great for sensitive skin.',\n",
       " 'Rich wonderful face cream. I am loving this product, I have been using at night time mostly. Smells amazing, would love to try the other products in this same line.',\n",
       " 'This product is amazing! Started seeing a difference in only 2 consecutive days of using it. It tightens the skin and I can definitely feel and notice a difference!',\n",
       " \"I'm 31 and I already look you get than I am. I just loved how the Algenist Genuis Sleeping Collagen just made my face feel and look. It felt so moisturized, soft and gave me a youthful looking face. I highly recommend it. The smell is pleasant as well, the cream is not to thick and spread out nicely.\",\n",
       " 'For this being a BB cream, the coverage is non-existent to very sheer.  For the SPF aspect, I love it!  I have dry skin and this doesn’t dry me out.  But it’s very dewy, so combo or oily skinned people, this may be too much without adding some powder to tone it down.  But the dewy-ness works for my skin.  I also love the packaging but I can’t travel with it.  I’m terrified it’ll break! So I have a separate spf product for that.  Wish it came in a tube and more coverage, and I’d be set.  I recommend for SPF reasons.…read more',\n",
       " \"When I bought this spray, I originally used it like how people would use MACs Fix+. This was cheaper and it is pretty nice. I found myself last summer putting it in my purse as like a refreshening spray and to do like touch ups. I would use this as a finishing spray: to make all the makeup (like the powder) non cakey and kind of just seal everything together. Lately, I've been using it as my toner as well. I'd just spray it - concentrating on any dry parts of my skin and let it absorb into my skin. before it tries completely, I put on my moisturizer and it works GREAT! love this stuff!…read more\",\n",
       " 'This product is amazing!! Last night was the first night I used it and I woke up to my skin feeling so smooth! My makeup went on perfect!',\n",
       " \"Lightweight but intensely moisturizing, this is the only cream I've found that's able to prevent dry, scaly skin in winter and not make me oily in the summer. Excellent!\",\n",
       " '*****Please read my review for the CERAMIDIN LIQUID ****\\nI have been searching a moisturized cream for my combination dry skins. I spent $$$$ on cheap and expensive products, but nothing has worked for me until I found this.\\n\\nI use extra of this in the morning before my BB cream. WOW, I am glowing!!!\\n\\nThank you Dr. Jart.',\n",
       " 'Received a deluxe sample of this. I was worried it might be too harsh for my rosacea prone and sensitive skin, but instead it cleared my skin up and proved to be very beneficial.  I used a thin layer underneath my thick moisturizer because I have dry skin. Worked wonders. I am getting a full size next order I make here for those reasons alone.',\n",
       " 'This stuff is fantastic!! I use it in the morning in pairing with the Ceramidin Liquid serum. It is gentle, has a nice subtle smell, is super hydrating without being sticky. I have a very expensive face oil that I use in the evenings - often I will use these instead lately because I love how they make my face feel and think they are just as effective!',\n",
       " \"I absolutely love this product, I use if everyday right before I apply my makeup and it makes my skin so soft and the makeup applies great on top. This doesn't make my skin oily or anything, I will definitely be buying this again in the future.\",\n",
       " \"This stuff is AWESOME. This baby, has saved my skin from dry patches with my combination skin, even with my oil areas it doesn't make anymore oily than my skin already is! when I ran out of this stuff and was too broke to repurchase this, I used others I had and did not keep my skin hydrated and plump at all, my make up always dried up real bad on my dry patches. This is the only moisturizer I will use !\",\n",
       " 'Recieved this as a sample from voxbox, don’t know how I ever lived before this product!! Definitely going to invest in more tatcha very soon!!',\n",
       " 'I received this product for free from Influenster and Tatcha and was so excited to try it but also a little weary. I have very sensitive and acne prone skin, it’s combination of super oily but dry and flakey make an new product a whole trial and error situation. So in order to give this and the Violet C a fair chance, I’ve read how to use it and stuck to a routine of using it. After a few days I was already starting to notice a difference in my flakeyness, texture of my skin and over all glow. All beautiful things! My makeup goes on smoothly without clingy to dry patches and on other parts it has me glowing without being an oily mess! I really love this product and will be coming back to it again and again because my skin just feels and looks happier and healthier! This product I thought would just be another astringent like most other skin samples but it wasn’t. There was no pain or irritation to the skin and there was such a noticeable difference in my complexion…read more',\n",
       " 'I received this product complimentary, along with the vitamin C product and I LOVE IT. I’ve been on acne medication for the past while and still had some acne spots that wouldn’t clear up. Ever since I started using this stuff my skin has never looked better. I was honestly super skeptical at first but now I love it. I have much better skin and when I put the product on I don’t feel like I’m putting all this heavy product on which I love. I also have oily skin and that doesn’t seem to affect the way the product works at all.…read more',\n",
       " \"I have acne prone, sensitive, combination dry skin. I absolutely love this cream. It provides moisture without being heavy or causing acne. It's extremely calming and improves texture of skin with only a few uses. I highly recommend and will continue to use long term. I use this with the Tiger Grass Cream in the day. No problems, just beautiful skin.\",\n",
       " \"I received this product about 3 weeks ago for testing purposes and I was so excited. I have always heard great things about Tatcha so I was excited to try out a few products. The texture of product is almost water like. The way it comes out is a little weird. You kind of have to shake the bottle so I wish that was a little different. I was a little unsure if I should be using a pad or just my fingers to apply. I used my fingers as I felt like the pad would absorb so much product and that has been working for me. Despite those minor details, I love this product! I love that its scent free and super clean ingredients as that is something super important to me. I feel like this has really helped to soften any little fine lines on my face and I really do think it helps to plump it up a bit! The product is non irritating and in combination with my Tatcha Serum, I have really seen the effects of these products. My skin looks and feels great. Lastly, I love how big the bottle is as I know it will last me some time. You definitely get your money's worth!…read more\",\n",
       " 'I put it on right after the shower, use the mist & then apply makeup. Holds well and doesnt give me an oily feeling.',\n",
       " \"A little goes a long way! Product is smooth, smells wonderful, quickly fixes dry skin and isn't greasy.  It is a great night cream!\",\n",
       " 'I have extremely sensitive skin and have been looking for a good moisturizer for awhile. This is the best one yet! I tried a sample and was hooked. I had to get the full size. This is definitely worth the price, a little goes a long way. My skin is clearing up and healing. This is a great all around moisturizer!',\n",
       " \"I'm glad this product doesn't make my face oily or chalky. Yes the texture of the essence is hard to describe, it does remind me of light rice water. My face gets extremely oily and sweaty , instead of putting moisturizer I just pad it on my face and add my ice cream. You have to give time to your face to adjust to the product!\",\n",
       " 'This product has been a game changer for my skin this winter. I have found that by implementing this into my skin care routine all of my other products have become more effective. I love that it is all clean ingredients too! Overall this is definitely something I am not going to be able to live without because I feel like my skin just loves it! I received this product complimentary for testing purposes.',\n",
       " 'I love this cream! I have extremely dry skin and am always looking for a good moisturizer. This stuff has saved my skin this winter! I no longer have any dry patches, AND my skin doesnt feel greasy from a heavy moisturizer!',\n",
       " \"OK, so, I don't really use essences or this type of product typically because they feel gimmicky and like a probably unnecessary extra step in my skincare routine. BUT! Omg, after I cleanse and pat a little bit of this stuff on my face (a little goes a long way!), I swear all my other products just go on smoother and sink in deeper. It actually does what it says it will. Full disclosure, I received this product complimentary for testing purposes, but when this bottle eventually runs out I will rebuy. So worth it.…read more\",\n",
       " \"I was expecting to have a super hydrating moisturizer to the point where I was worried it would be TOO much, however that's not what I got. My skin in a little of everything. My t-zone is my breakout area, but sometimes it's only and other times dry. The rest of my face is just normal. I like feeling like my face has been moisturized, which it does feel like that when I apply it to my face, but afterwards when it dries,I don't feel my skin soaking it. I kind of feel I have a glue-like residue on my face. It leaves it sticky, which I guess helps any makeup product stick to the face, but I don't wear makeup everyday so it doesn't help me in that sense. It does it's basic job, but this is not a winter moisturizer for me when my skin is the most driest.…read more\",\n",
       " 'I went to two Sephoras before finding a shop that carried it. The first one ran out it was so popular. I have oily/normal skin. I use this after my First Aid Beauty Foaming Cleanser to normalize and refresh the skin as a toner. It really is the best on the market. My skin tone has never been better since I started using this.',\n",
       " 'I love Tatcha as a brand!  I just can’t get on the whole “Essence” bandwagon. I’ve tried SK as well.  It seems like quite a lot of money for these products without a Big Bang for your buck.  This is definitely a better value than SK but I prefer other Tatcha products.',\n",
       " 'This was part of my sample box I received and I love it. It’s just what my dull, winter skin needed. The effect is noticeable, a little pricey, but you can absolutely tell that it works.',\n",
       " 'I’ll start by saying that I have pretty dry skin that’s extremely sensitive to exfoliation. Any time I use a scrub of any kind I break out. My skin is also very fair (think w2 from true match) with redness around the cheeks and nose.\\nI was thrilled when sephora started carrying this because I’d been wanting to try it for quite some time and was seriously considering ordering it from the skII website. I’d heard wonderful things about it and bought it almost as soon as sephora started carrying it. I used it for months and actually just recently stopped using it and I’m sorry to say that I didn’t experience any results. And I mean any. I didn’t find it to be hydrating and it did nothing as far as reducing redness, whitening, or brightening my skin. Now that being said I also didn’t have any negative reaction. It didn’t cause my skin to break out or dry out.\\n\\nWhile I won’t be buying this product again, I will be buying the facial treatment clear lotion again. It acts like a toner but didn’t irritate my skin the way other toners do.…read more',\n",
       " '*I received this product for free for testing purposes*\\n\\nIt is a little difficult to apply but my skin has felt a lot softer and more moisturizer since using this. I have also noticed that my serums do a much better job when I use this before!\\n\\nMy best advice on how to apply is to pour it onto your finger tips (each time you tip the bottle, a limited amount comes out) and use that to apply to each section of your face to ensure it all gets covered!…read more',\n",
       " 'Great product and it made my face so smooth.',\n",
       " 'I do think this product helps keep my skin moisturized, but my cheap Cerave moisturizer does a great job at a fraction of the price. The one thing it really helps with is the dry skin under my nose that flares up in the winter. I received this product as part of an Influenster box for free.',\n",
       " \"slowly, but surely tatcha products have taken over most of my routine. (in no specific order)I use the rice polish, face oil, cleanser, primer, and night concentrate. the only item I thought was a miss was the eye cream, it was so thick that it didn't seem to absorb right. I get compliments on my skin 70% of days.\",\n",
       " 'This product makes my skin feel super hydrated. The packaging is beautiful and easy to use. After application, the product absorbs quickly and the skin feels much softer. I enjoy the idea that this product can work with any skin care product and not just products made by Tatcha. Overall a great product to add to your daily skin care routine.',\n",
       " 'This stuff is strong! It loses 1 star for me because it’s too strong for my skin. I wake up with extremely dry flakey skin after using this, no matter what I put on top. It does brighten and resurface very effectively just be aware of the strength. I received this product complimentary for review purposes.',\n",
       " \"I love the consistency of this cream. I wanted it for times when my skin feels really dry, as a supplement to my other moisturizers. But, I find myself reaching for it in the morning and at night time. I love it. It's got an inoffensive perfume and feels so think and moisturizing when you apply it.\",\n",
       " 'This product is amazing!! I can see results after one week of use!',\n",
       " 'I received this product complimentary. I have been using for almost 2 weeks in combination with the brightening serum. I have found that my skin looks brighter and fresher. I find myself not needing to apply makeup for day to day errands. \\n\\nThis product is very light...almost like water and absorbs into skin nicely without dryness or oily feel. I absolutely love the package and the pour spout design is unique and also allows for the perfect amount of product.…read more',\n",
       " 'looks darker in the bottle, i got the lite/medium.   but completely disappears without a residue.  i use it over my moisturizer. yep great product.',\n",
       " 'Received this product complimentary in my influenster vox box and have been using this product for a week and love it! I use it in my daily skin care routine and so far have no complaints. I love pairing this product with my tatcha setting spray for a more healthy, moisturized dewy look on days I don’t feel like caking in too much makeup (especially in the winter).',\n",
       " \"I'm pretty sure this is the first time I'm writing a review for a skin product because that's how amazing I think it is. No matter what I've used in the past, nothing helped with how rough my skin felt. On top of that it's a combination of dry and oily, and probably sensitive because I get breakouts here and there. But thissss is a life changer. I splurged on it, but I'm glad it was worth my money because it actually smoothed out my skin a lot. Now I'm not as self conscious when my boyfriend touches my face because I feel more confident that it's how a girl's skin should feel - smooth and soft like a baby's butt!\\n\\nIf you're iffy about the price, know that it'll be worth your money. Of course it varies from person to person, but I think that if it worked on my stubborn skin it will work on many others.…read more\",\n",
       " \"Combination Skin - put to the test after a dry feel of sun. My skin really felt hydrated after one use and after two times per week with a sample in combination with a repair cream - my skin woes were gone, from acne scabs, odd blemishes, I wish I could've taken pictures. For the price I don't see me using this everyday but more so twice a month.\",\n",
       " 'I absolutely love this cleansing water! I use it day and night on my combination skin...',\n",
       " \"I really like this cream, it's my favorite so far out of everything I've tried. Doesn't clog my pores, is hydrating without feeling greasy, is a good prep for the skin before makeup also soothed and healed irritation caused by other products I tried\",\n",
       " 'Good for what it was advertised as- a simple cooling balm.  I had higher hopes.... thinking it might be a bit more hydrating.  Not bad for a quick “extra layer”.',\n",
       " 'I received this amazing moisturizer free and complimentary from Influenster in my Hydrazen Lancome VoxBox. I love how it melts into the skin and has rose water. It’s very light weight my skin felt so dewey and hydrated. My skin felt refreshed without feeling greasy or oily. It smells phenomenal! When I run out of this I’m going to purchase a bigger size. It’s definitely a great moisturizer to add to my skin care regimen.…read more',\n",
       " 'Really improved my skin overall',\n",
       " 'Although pricey, this essence packs a punch. I used it with tatchas Violet c serum as well as several other products and serums and it defiantly helps everything abosorb into my skin. You only need a few drops so the bottle should last several months. I received this item complimentary from Influenster and so happy I did as it might not have been something I would have tried otherwise!',\n",
       " 'It only took about a week to see results. I love the texture and when I put it on it feels as though it sinks into my skin instead of just layering ontop of it. My pores appear smaller, texture of my skin is smoother and my skin has a shine that is in no way oil now. Will definitely keep this in my beauty routine from now on.',\n",
       " 'Im not generally a fan of gel moisturizers but I was very happy with this. Fast absorbing, lightweight but still very hydrating. Has a wonderful fresh scent that just makes you feel happy inside. My skin was very happy with this.',\n",
       " \"I've been using this Genius Sleeping Collagen for about 2 weeks now and I love it! After I wash\",\n",
       " 'This stuff is the smoothest, buttery deliciousness of my dreams. My thirsty skin is officially quenched. Got this full sized product from influster and i feel blessed.',\n",
       " \"I got this in my play box. I opened the play box at the post office and my husband and I thought someone had pulled up after running over a skunk. When I opened the bottle at home the skunky smell was so strong it made me gag. I threw it away. I don't know if the product smells that bad or if its just the packaging, but I was not risking it. I am an animal control officer and during spring and summer I get skunk sprayed several times. That is bad enough, so I'm not about to risk having that smell on my face.…read more\",\n",
       " 'I received the trial size and woke up with very plump skin. My skin normally dries out overnight even with a heavy night cream but this prevents that from happening.',\n",
       " 'I’ve been using this product consistently for about 6 weeks, so I feel like I have a good grasp on the way it works. I have quite oily skin but also deal with dry patches and eczema. I’ve been wearing this under my makeup and I feel it has greatly reduced my dry patches and increased my overall hydration. I don’t think my makeup looks good without this anymore. I highly recommend this to all of my fellow combo skin humans out there.…read more',\n",
       " \"I finished a bottle of this a while ago and was very not impressed. I bought it because I had heard so many good things about it, even from my mom. However, at least for me, this product didn't deliver what it had claimed. The product would not sink into my skin, and I would get itchy, sudden outbreaks of red patches around 20 minutes after application. Hydration and soothing effects? Not on me. I admit that I have problematic skin, and some other products had given me those patches too, but it's just more frustrating when CLINIQUE is known for its gentleness. Have nothing against this brand, but for sure will not re-purchase this product.…read more\",\n",
       " \"Dr. Jart really knows skincare!   The Ceramidin Cream is like a miracle worker when my skin needs that extra moisture - It is lightweight, but it packs a powerful hydrating punch!  I also really love that it doesn't contain Parabens, Sulfates or Phthalates!\",\n",
       " \"I love the essence! so fast absorbing and you don't need to use much. very easy to use and so far one of my favrites\",\n",
       " 'I thought this was very moisturizing and a lovely touch after washing my face. It feels luxurious and the packaging is beautiful. It doesn’t cause my acne prone skin to break out, which is great. I received this complimentary from Influenster to test and review.',\n",
       " 'The product feels good on the skin. Would recommend people to use. I still need to test out for a little longer to see.  But I used it with serum together \\n\\nI received as complimentary',\n",
       " 'I have PCOS so my skin is no where near perfect but this product is a life changer for sure! It adds hydration and coverage! My skin is glowing after i put this on and it it so light weight. This is all i wear on a daily basis and I will NEVER go back!',\n",
       " 'I used too many chemical exfoliants and needless to say - my skin was not happy with me. It was inflamed, red and flakey all over. I bought this product looking for something with ceramides and my skin was transformed overnight. So moisturizing but not heavy or sticky. Highly recommend!',\n",
       " 'Amazing, so light and hydrating. Got a sample first and after the first use I had to go buy the full size. Love how it makes my skin feel. Its light enough to use around my eye area as well. Wish they would come out with a body version',\n",
       " \"I received this product as a gift a bit ago from Influenster to use with the violet-c brightening serum and just after 3 days I can really tell the difference! As a person with sensative skin I was so pleased that this didn't feel or act harshly like a normal toner. My skin is brighter, plumper, and i almost feel ready to ditch my foundation!\",\n",
       " \"I have very sensitive, combination skin. EVERYTHING makes me break out. Therefore, it's hard to find a moisture cream that helps with aging skin, doesn't make me too oily, or break out. However, this does the trick! I use this under my base make-up as well as as a night cream.\",\n",
       " \"This is my new favorite lotion. Most negative reviews say it doesn't absorb quickly and it makes you break out. The only reason that happens is because they use too much. After I wash my face at night, I use only a pea sized amount before I go to bed. When I wake up, my skin looks amazing. I do not recommend using too much or your face will look greasy. I also do not recommend using it under makeup, it will make your skin look oily.…read more\",\n",
       " 'This is lush and comforting. You need the thinnest of layers, which feel cooling and plush. This gets really overpowering if you try to slather it on. The scent is mildly sweet and comforting without being cloying. My skin does feel bouncer and seems to take makeup smoother the next morning.',\n",
       " '#NAME?',\n",
       " 'One of my best purchases! I have noticed a big difference in my skin with the combination of this my serum and moisturizer!! I fell like it really does help absorb everything better! Good investment!!',\n",
       " 'I love the texture and the richness of this face cream. It keeps my skin supple and smooth.',\n",
       " 'This stuff is a miracle worker. I know its not meant for acne but it literally started clearing my adult cystic acne overnight. I am so happy I found this. I cant live without it now.',\n",
       " \"I'm only giving it 4 stars because I have only used the sample I received in the Hydration Pack. I loved this - I don't recall a lingering or odd smell. I got about 4 uses out of my sample and noticed immediate results. Can't say I'm going to spend this kind of money to actually own it though :(\",\n",
       " 'Omg all I can say is hydration, hydration, hydration. It quenches your thirsty skin and keeps your face feeling cool and clean.',\n",
       " \"This product was exceptional. It helped retain moisture in my skin without feeling greasy or heavy. It's been cold this winter and my face hasn't exhibited signs of dryness or dullness. I even put away my moisturizer and replaced it with this product because of its enriching effects. Would highly recommend.\",\n",
       " \"I have used this for over a year. When I try other products, my skin doesn't look and feel as dewy.  I use this with the serum.  Together they leave my skin soft and more plump than it is without them.\",\n",
       " 'Great anti aging product!',\n",
       " 'I have used A LOT of different moisturizer in my life, trying to fight the dryness of my skin, some of them did the job for a  couple of hours, but this one does it for the whole day, and I actually feel my skin getting better and better.',\n",
       " 'So first off, the packaging is so luxurious and fancy. I couldn’t even believe it! I was thrown off that it was a liquid. It comes out super easy and is very easy to apply. Absorbs super quickly and with no residue. Very faint scent, which is super awesome if you’re sensitive. Super excited I got to test it for free!',\n",
       " 'So super oily feeling and it never absorbs just gets on pillowcases and everywhere else.  I immediately noticed tons of blackheads a day after I first tried it and then again almost a week later when trying it a second time.  I also have a huge pimple developing now as well.  No thanks theres much better products to choose from that dont do this.',\n",
       " \"Matte finish with SPF 30, AND it really sets make up for the day! Easy to apply throughout the day for continued sun protection; though, doesn't need it for resetting. Once it sets make up, it's set for the day. I buy 2 at a time - one for my purse, one for my vanity. The sprayer needs rinsing after use, or it gets sticky.\",\n",
       " 'I received this complimentary product from Influenster to test and review!\\n\\nFirst impression:\\nPackaging is very simple, nice, and elegant. Upon opening it, the interior packaging is so luxurious and well thought out! I love that the packaging features a pull tab to help you transit the bottle out of the box. I love that they include a rice paper tape to show that’s it hasn’t been tampered with. The bottle feels lux and looks great on your vanity.\\n\\nFirst Impression Upon Use\\nWOW is all I can say, Tatcha really nailed the design of the bottle and thought of everything! I love their nozzle that drips the essence out and onto your hands. It doesn’t waste any product and makes dispensing it mess free! Other essences I’ve used such as SKII and Time Revolution doesn’t have it, and now I really wish they would! After patting the essence onto my face I feel it instantly softening my skin.\\n\\nAfter a week of use\\nMy skin is so much more plump, hydrated, and soft! I paired this with the Tatcha Vitamin C serum as well and oh my god my face is really just glowing! I religiously have a day and night skincare routine that I follow as well and typically use Deciem’s The Ordinary. I feel like I don’t get as quick of results as with Tatcha and that’s amazing! I highly recommend this product, it is on the pricier side but it is def worth it! Unboxing is also quite the experience. Great job Tatcha!…read more',\n",
       " \"This essence is sooo beautiful. It instantly made my skin plump and bouncy, and gave me a soft glow. \\n\\nIf you're looking for an essence that multitasks or will make changes long-term, I'm not sure this is worth the price. However, it does exactly what it promises. I'd highly recommend it if you're looking for some serious hydration!!\\n\\nI was super lucky to receive this #complimentary from Influenster.\",\n",
       " '4.5 Stars. Amazing product, a holy grail moisturizer, but I feel the price point should hover nearer the $65 mark.',\n",
       " 'Great for combination skin!',\n",
       " 'Great product! It goes on smooth and is very hydrating. It smells nice and fresh but not too strong. I got this as a sample but these are my own thoughts on review.',\n",
       " 'This product is amazing.',\n",
       " 'Not a day my face is dry!!! Keeps it moisturized all day. You just need very little, it does not dry your face or irritate. Very good formula!',\n",
       " \"My skin was dehydrated after a long trip to the southwest and this stuff healed me. It feels so soothing and moisturizing on the skin but didn't break me out at all. I wish I had gotten the serum too and will try it next time. Excellent winter moisturizer or for after a mask.\",\n",
       " \"I recieved this product complimentary for sampling purposes. I have been using it for a few weeks now (even got my boyfriend using it) and so far I dont see a huge change in the plumpness of my skin or fine lines but I do see improvement in the radiance. I also love that a little product goes a LONG way so you really get your money's worth! It also smells amazing\",\n",
       " 'This product really made a difference in my skin! It was a new product so it did break me out for the first 2 days, but after 2 weeks I really saw some great results! My skin was so much smoother and brighter! I would totally recommend this product!',\n",
       " \"It's really good moisturizer for morning but it does not give enough moisture for the night. But it's great under make up and it hydrates your skin pretty well. Overall good enough :)\",\n",
       " 'Not sure what this is like on a regular basis, but I have always loved the ceramidin gel cream and I am very sad that they are trying to streamline their collection. I found that their ceramidin oil was way too oily and didnt absorb into my skin, and this one I remember was was too thick on the skin and left a residue. The gel cream would rub in beautifully.',\n",
       " 'I received this complementary product from Influenster not too long ago. This product leaves your face feeling hydrated but not sticky. It is the perfect first step for skincare. There is no harsh smell. I am super sensitive to certain smells and chemicals, but Tatcha products contain many natural ingredients, making them much easier on the skin. I would absolutely recommend this products and purchase on my own again.…read more',\n",
       " 'I love love this cream! I was worried that it would be heavy on my skin but it glides like butter and when I woke up in the morning, my skin is smooth like baby butt and fuller. This is great for colder weather. I used this at night after my toner and after Liquid Collagen serum. I got this from Influenster but all opinions are my own. I would definetely recommend this.',\n",
       " \"I had been breaking out this winter and I had no idea why. I went for a facial and she said my face was extremely dry and recommended I use a water serum, but the one she suggested was $150+. This product saved my face and didn't break the bank. It keeps my face hydrated and it's super light.\",\n",
       " \"One of the few moisturizers that don't break me out.  It seems like it's improved the look of my skin (on 2nd bottle of it now). It's expensive but I haven't found a better alternative.\",\n",
       " 'this is my lifesaver! my skin has dry patches once in a while, I usually use multiple serum, oil, lotion, cream to fix my dry patches so my makeup stays together and not crack... So far, this is the first product that successfully cured my dry patched skin. Now it shows out of stock???!!! Definitely will stock two extras when it s available hopefully soon.',\n",
       " \". . . tinted moisturizer I've ever used. Completely smooth texture.\",\n",
       " \"I wanted to like this product. I like the consistency and the subtle scent and I feel like it did a good job of making my skin feel dewy. However, soy is a trigger for my skin and it made me breakout. If that's not a problem for you, go for it!\",\n",
       " 'I received Algenist Genius Sleeping Collagen complimentary, but that does not change my opinion in any way on how I feel about it. I like the thick creamy consistency, the scent is nice, and I like how my skin felt super hydrated with a glow!',\n",
       " \"I received the deluxe sample of this because I have always wanted to try Tatcha. I didn't expect much, but the past two nights that I have used this my skin has never looked better. It dries very quickly so I have to pat it into my skin as soon as the essence pours into my hand. I use a serum, followed by my nighttime moisturizer and in the morning my skin is glowing and soft. I normally use the Pixi Glowing Tonic but since I switched it out with this, I have noticed a much better improvement in the morning. You also don't have to use much to see results. The deluxe sample looks like it's going to at least last me a week. Which is good, considering as soon as I can get it I will end up buying the full size.…read more\",\n",
       " \"I have been using this along with the ceramidin serum. I think my skin has improved overall. No irritation or breakouts. I would recommend trying if you can't seem to find the right moisturizer.\",\n",
       " \"This has become my new holy grail moisturiser. It's AMAZING. I've been using it for about a month in the morning and at night and I've noticed that it's definitely helping the redness in my nose\",\n",
       " 'I am so excited to keep trying this out! I used it for the first time tonight and I already love it! Thank you Influenster for gifting me this product for free!![product:tatcha-the-essence] I received this product complimentary for review purposes.',\n",
       " 'This cream feels (and smells) so luxurious and soothing. My skin is very dry and dehydrated but this entire line has changed it for the better. I like to layer it, using the Ceramidin liquid first and in the winter a light layer of the oil balm after, only at night.',\n",
       " \"I don't ever write reviews but this product is a solid 11/10! Eczema unfortunately runs in my family. I had it as a baby but it came back and was concentrated on my chin. This product is good for all concerns regarding dryness and irritation.\",\n",
       " 'It is so rich and amazing!!! Is makes my skin feel smooth and moisturized without feeling greasy!!! A little goes a long way! Love love love!!!! #AlgenistXInfluenster',\n",
       " \"My skin was dehydrated and dry from chilly weather. I started using this with the liquid (which is a serum) and I saw results almost immediately. I use this combo at night with a facial oil and I wake up with baby soft, plump skin. Couldn't be more pleased. I have sensitive skin and this is soothing. In fact, my redness has disappeared! This is my holy grail moisturizer!\",\n",
       " 'I used to use the SK-II essence and wanted to try something different as I find the SK-II to possess an odd smell. Although I love that SK-II protects your skin from pollutants in the air, I find that Tatcha\\'s essence makes my skin softer and more plump. If I could combine the two of these essences I would because Tatcha\\'s doesn\\'t give my face that kind of \"fix\" in the morning where SK-II\\'s will brighten it and diminish the dark circles a bit. But I do love this essence and don\\'t mind the latter.…read more',\n",
       " \"Feels refreshing and awakens my skin for my moisturizer to work even better. Love the fact that it has natural ingredients and doesn't contain alcohol. A little is all you need to put in your hands to pat on your face and forehead.\",\n",
       " 'I am currently getting facial treatments which leave my skin extremely dry, flaky and I needed a product that could not only moisturize, but also give me sun protection. I walked into Sephora and saw this product displayed. I tried it on from the try bottle and it was the perfect product that I needed to fit my everyday use. I use it all day when I need it and it leaves my skin beautiful with a natural look without the patchy discolored look. I love this product and I recommend it to all my co-workers who ask what I am using.…read more',\n",
       " \"Up until about 2 years ago, I didn't moisturize my skin because I didn't realize how much it would help. I just thought my skin was how it was and moisturizers always made me break out. I've tried one of the Sephora brand moisturizers (my skin really hated that), I tried the Organics line for sensitive skin (that also broke me out and leaves my skin feeling oily the entire day).\\r\\n\\r\\nI tried this product with my points on a whim last month, and I am so so so pleased! It is amazing. I use it every night after I wash my face and every morning after I wash my face. It smells great, it feels so smooth going over my skin and I rub it down my neck a little ways too.\\r\\n\\r\\nFor me personally, it absorbs very quickly. I am able to immediately start putting on makeup for the day. After I wake up in the morning my skin doesn't feel oily and it's so soft from being soaked up all night.\\r\\n\\r\\nI didn't notice my skin breaking out after I started using this at all. I'm not saying it cleared my skin either, but perhaps the fact I found a moisturizer that worked and actually used it every day has helped since I have had no notable brake outs.\\r\\n\\r\\nLove, Love, Love. I cannot say enough great things about this. I'm planning to buy the larger size soon!…read more\",\n",
       " 'I wanna try this on it’s own, but from my first impression, I would always say a good skincare is the way to go, and this is a really good quality product',\n",
       " 'I received this in an influenster voxbox,it was a complimentary product sent to me! I love all tatcha products so I was not surprised that I fall in love with this product so quick! Love love love it! This product like all of them products works immediately at least for my skin!',\n",
       " 'I use a pump with my hair balm when I style my curly hair and its amazing!!! Helps with frizziness so much :) Also wonderful mixed with or after moisturizer!!!',\n",
       " 'This has changed my nighttime routine. It goes on so buttery and smooth and I wake up to softer and more supple skin. I have noticed a difference in the way my makeup applies and I have less noticeable lines under my eyes. This is definitely a holy grail for me. \\n\\nI received this product free for testing purposes but all opinions are my own',\n",
       " \"This gel lotion is amazing!! My face looks and feels great. I've used it every morning and night. It does just what it says. My face is hydrated, not oily. Smooth, silky, soft.\",\n",
       " 'Super clean and hydrating. Love the texture. As soon as I put it on my skin feels so hydrated and lovely. No sticky awkward residue, only clean feeling. A little goes a long way. Apply to face and neck once daily and I feel a difference just after two weeks of using. Use in combination with oils and eye cream.',\n",
       " 'i bought the trial pack and this was in it. i love it. i use it in my daily face moisturizing routine in the morning. im running out so i need to get more soon. haha',\n",
       " 'I have dry skin that becomes extremely dehydrated during winter times, and my friend has oily acne-prone skin. I have olive-toned warm light skin and she has warm tone medium skin. BOTH of us LOVE this product - it’s moisturizing to the perfect extent that could benefit different skin types, it adjusts to different skin colors, and it even has a decent coverage for work/school days. Also it has a great texture that doesn’t ball up on top of my The Ordinary moisturzer (other users of it could testify the kinda awful spreadity of it) and it’s a perfect base of my foundation. This is definitely the best sunscreen I encountered this year and I’ve used A LOT. I will repurchase this one for sure.…read more',\n",
       " 'I love any sort of skin care product.. so I am constantly testing out different moisturizers. However, I seem to keep coming back to this guy. Not too thick/creamy, but not too thin. Perfect texture to keep my face free of extra oil that can trigger acne for me.',\n",
       " 'I love this! It has a very nice smell and texture that leaves your skin feeling glowy, but not oily. It helps so much with my dark circles!',\n",
       " 'The BEST. My skin has stopped being oily and is hydrated and rarely breaks out any more. I love the whole line!',\n",
       " \"This stuff is amazing!! I think it's a must have! I know it's really expensive but a little goes a long way!\",\n",
       " \"I'm in my late 20's with oily-combo/acne prone skin. This essence is a miracle worker and a definite MUST HAVE product if you have a similar skin type. It softens the skin so that the products that you use after it absorb better and work more effectively. I've been using it for about a month, and it's definitely making a huge difference with my skin! I rarely get a new breakout now, and my skin looks plumper than it did before I started using it. I use it as the third step in my night time skincare routine; after cleansing and toning. I follow it with an acne serum, an anti-aging serum, a benzoyl peroxide lotion, and a moisturizer. Tatcha products are always worth the hype and this one is no exception! Yes, it's pricey, but the results are 100% worth it. I'll absolutely be re-purchasing!…read more\",\n",
       " 'I have to admit, to stick to a skincare routine I need products that are super quick and easy to use. The Essence is exactly that! I love everything from the quality of the packaging to the speedy results I saw. Plus, a little goes a long way - two drops of this stuff and your skin will love you! I received this product complementary from Tatcha and Influenster for testing purposes.',\n",
       " \"My wallet is devastated that I cannot do without this product. I've tried finding other essences that my skin likes as much as this (Fresh, Neogen, etc) and while they are great...this is better. I use this after toner and the fresh vit c mist and before serums/moisturizer. \\nI find that while using this essence my skin tends to be brighter and clearer than when I do without, and I have less dryness as well. Also this product lasts 6  months with twice daily use which makes the price a little more palatable.…read more\",\n",
       " 'I did not notice any results from this, probably because I already use a 100% sodium hyaluronate serum from Soko Glam (by The Plant Base) that only costs $23. Skip the fillers and expensive brand name',\n",
       " 'I have been using this product for two months. I was worried the color would not match my skin tone, but it blends perfectly. I use a little Bare Minerals Mineral Veil to set it. My skin is soft and smooth. My skin does get a bit oily by the end of the day, but otherwise I am completely satisfied with this product. I will definitely buy it again.',\n",
       " 'This is such an amazing product! I got it in my Influenster Vox Box I use it every other night, and it has made my skin very even and smooth.',\n",
       " 'This product is very watery and can be difficult to apply but don’t let that fool you this stuff is amazing. My dry skin instantly soaks it up and looks hydrated and smooth before even continuing with the rest of my skincare routine. It has worked so well to hydrate and plump my skin the my pores are almost nonexistent. This has become my new holy grail of skincare and I can’t recommend this product enough.…read more',\n",
       " 'My first time writing a product review on Sephora because I love this essence so much! This essence is very unique because It contains no alcohol in it. I used to use Sk-** but now this Tatcha essence is better because it has no alcohol and I love it. If you love skin care and truly want to improve your skin, you have to take time to finish or use the product for awhile before writing a negative on a very good product like this. This is a very honest review from a cosmetologist licensed.…read more',\n",
       " 'Use it every morning.  It is great for a dry face.',\n",
       " \"I absolutely LOVE this! I never was a believer in skin softener but this has changed my opinion! def a great way to hydrate your face after washing and it immediately absorbs and preps your skin for your serum! The packaging is beautiful and it's so easy to apply! No cotton pads needed!  This was given to me as a complimentary trial through Influenster and I cannot wait to purchase more! HIGHLY Recommended!…read more\",\n",
       " 'The Essence comes in a minimalist and high quality packaging. I use it once nightly as part of a skincare routine, and I noticed my skin become more soft with one use! There’s a lot of product that should last 2-4 months depending on how generously you apply. It absorbs quickly into the skin, almost instantly. I would say that it feels almost a little sticky, not in an unpleasant way, but it feels like it really is absorbing. The idea of The Essence is that it makes the tougher, outer layer of your skin softer, so that additional product you apply afterwards can penetrate more deep. I’ve been pretty pleased with this product, and I like it more than I expected to. ***I recieved this product for free for complimentary testing*** but I think this product, and other Tatcha products, is something I’d like to return to in the future since I think you’re getting bang for your buck. I’ve tried other skin care products that definitely didn’t have much of a noticeable effect. Also, Tatcha as a brand is focused on high quality ingredients and supporting education for girls, which is respectable. I can’t comment on the full validity of their philanthropic mission, but it’s nice to see that at the very least their mission promotes education, which is more than what other skin care companies do.…read more',\n",
       " 'this is that product that will save your skin',\n",
       " 'Really nice product..the packaging is beautiful, it is not greasy it is absorbed quickly',\n",
       " 'I actually received this a month ago from influenster as a complimentary item and have been using it for the past month. I wanted to wait and see if there were any results, because these types of products typically take over the course of several days before they truly make any difference. The first thing I’ve noticed when I first opened was how luxurious the packaging was. It felt incredibly nice in my hands and it was pleasant to look at. Upon trying the product, the scent was wonderful. It wasn’t too strong or overbearing, it was the right balance of fragrant. Applying it on my face, the product wasn’t too heavy, which is what I like! I normally stay away from heavy products because they make my face feel... well, heavy. After a month, I can happily say that the Essence Pumping skin softener works wonders. My face has never felt healthier and plumper; my mom has been using it along with me and she says it’s wonderful. I would recommend this product to anyone, though the price, I might shy away from. I received this product complimentary for review purposes.…read more',\n",
       " \"At first I really liked this moisturizer, I got a sample of it and it made me want to purchase the full size container but upon extended use I find that it actually will dry my skin out, so now I have more dry patches and flaking. I don't know why this stopped working..will not repurchase.\",\n",
       " 'Works so well!! Just recently switched to mostly tatcha products, and this was one of them. Had finished my giant SK-II bottle a while ago and didn’t want to spend that money on it again. Saw this tatcha essence was highly recommended amongst their products when I was looking to switch so I went for it. I didn’t realize its function was so similar to SK-II’s!! At first I didn’t really understand what this essence was for until I looked at the ingredients to see there’s fermented ingredients. No wonder this works so well! Feel like it’s better than SK-II for me in that it really does help the following skincare products to absorb much better and makes the skin soft as advertised. Though texture-wise this essence isn’t as watery as SK-II, it does absorb a lot faster than SK-II for me, so I have to pat it in quicker. The spout does make it easier to pour out the appropriate amount. This essence is pricey, but still more affordable than SK-II. Been using it for a few weeks now, and it really helps even skin texture, makes it softer and other skincare absorb much better. Feel like it helps with my monthly breakouts too. Great stuff!!…read more',\n",
       " 'I love this, my skin looks amazing\\nsince I used!!',\n",
       " 'I would like to say that I received this product complimentary to test and review from influenster. I love this product so much! My skin just drank it right up and felt so soft and so smooth after and I feel like it definitely enhanced any product I applied afterwards. It’s very expensive but it’s so worth it if you are a skincare obsessed person. Didn’t make my oily skin feel more oily at all. It felt great.',\n",
       " 'My absolute favorite moisturizer!',\n",
       " 'I got this and the Violet C sent to me from Influenster for free to test, and at first I was iffy on trying it because I’ve never used anything from tatcha but I’m in love! It has helped my nasty oily skin, helped my pores and smoothed out my face so much! After I apply it, my fave glows so beautifully and it’s so soft and healthy looking. I recommend this if you have acne because it does help! It’s pricey but worth it because a little goes a long ways!…read more',\n",
       " 'I absolutely love this product. I have combination to dry skin (especially in winter) and was looking for moisturizers that would leave my skin feeling healthy and moisturized, but not caked in oil. This product was definitely it for me. The way it absorbs into my skin leaves it feeling silky smooth plus the scent is AMAZING. It works great for me as a base for my primer, but I also use it before bed.',\n",
       " \"I was first impressed by the texture... it's very firm and luxurious, you know it's going to be good! I wake up to refreshed and moisturized skin.\",\n",
       " 'This makes my skin feel so soft and I feel a difference in the absorption of my other skin care products. I do think it is a little expensive, but a little goes a long way, so I think it will last me a long time',\n",
       " 'Holy wow this stuff works! Got a sample now ready to sell my first born for a bottle (jk) but the price is outrageous but it works. I got a 100 point sample and lines gone!! Holy Grail!',\n",
       " 'I watched the Tatcha founder Victoria Tsai on YouTube describing this product and it’s the keystone in her line. She said if she could only have one product this would be it. Well i had to try it then. I have converted fully over to Tatcha and every product is AMAZING. Love the packaging on this. The little scoop opening is regulated so don’t worry about over dispensing!',\n",
       " \"Very comparable to the IT Cosmetics Confidence Cream. Smells and feels the same... Received this as a sample and bought the tube the next day! It's a great cream for dry skin! I still like the Glamglow Thirstymud mask better, but this is a great alternate!\",\n",
       " 'This might just be my favorite sleeping mask ever!!! It keeps my skin hydrated and helps firm and plump my skin. I truly enjoy this!!! *I recieved this product for free to test out.',\n",
       " 'I bought this last winter when my skin was severely dehydrated and dry. There was so much hype surrounding this product that I kept trying it week after week in the hopes to see some kind of improvement (HUGE mistake). This moisturizer made me breakout, irritated my skin to no relief and made my dry patches so much worse. I would avoid this product at all costs.',\n",
       " 'Love this product! Softens the skin allowing your next products to soak right in. This product also lasts a long time.',\n",
       " \"I have never had a face cream change the health of my skin as dramatically as this. My skin is now soft and hydrated. It doesn't cause my acne prone skin to break out. My skin tone looks great. I love this stuff!\",\n",
       " 'I am a skincare junkie, and have purchased many different skincare brands over the years. Origins was recommended to me by a friend and since I have never tried it before I thought...why not? So I purchased this cream hoping that the good reviews would mean something.\\n\\nI was excited to try it on when I got it, so I applied a thin layer over my face after showering. I have dry skin to combination skin and was shocked at how thick the cream was. I felt as if my pores were smothered even though I applied such a thin layer of it on my face. Worse part is I started to get an allergic reaction after about 5 minutes of application.\\n\\nWill be returning this product!…read more',\n",
       " 'Feels great on the skin, not heavy or greasy and has helped a lot with minimizing the texture and pores',\n",
       " 'I received the Water Bank moisture cream complimentary via Influenster. Overall the products texture, level of moisture, fragrance and packaging were great. I use a lot of vitamin C in my face products to make my skin glow and to ward off my cystic acne. This product left my tone feeling flat and I did break out quite a bit:( Great product, just not the best for me.',\n",
       " 'So far this is a great creme. I heard Caroline Hirons talking about it and had to buy. Very moisturizing. Only complaint is that not a lot comes with it.',\n",
       " \"I love to mix this with my Isle of Paradise tanning drops at night. They work wonderfully together. When I use in the morning, my skin is less oily throughout the day because my skin retains moisture, therefore doesn't produce oil. The Dr. Jart+ Radiance Serum is wonderful as well.\",\n",
       " \"This is a great moisturizer for someone with a drier skin type, especially in the winter. Goes over any other oil or serum I've tried without pilling, and feels like it both moisturizes and protects the skin.\",\n",
       " 'I love this product, smells amazing and works wonders. I use it on my husband who is constantly doing field missions weeks at a time and his face looks so much different after 2 days of use. If it works wonders on a soldier, it is an outstanding product(: I received this product complimentary for review purposes.',\n",
       " \"Essence's can be tricky and sometimes sticky... not this one it literally submerges the skin in Hydration, quickly absorbed the skin is literally left almost magic like .... softer , radiant , clearer, supple . Antioxidant and anti pollution protection. If you live in the city you need this in your beauty routine it makes a world of difference. Protect now ... so you don't have to correct later!\",\n",
       " 'I absolutely loved this product. I was able to try it for free for testing from Influenster and it worked such wonders on my skin. I have very dry skin.',\n",
       " 'This essence smells so good and loved that it is so light!',\n",
       " \"This product is fine, but I haven't seen a major difference in my skin. I do like that it's not irritating to the skin, as I also apply it over my eye area and it never irritated them at all. It makes my skin feel soft, but that could be other products I use as well with it. I don't think it's worth the price tag. I received this for free from Influenster.\",\n",
       " \"please bring it back in stock. I'm running low & I need to buy another. This is the best moisturizer I've ever used and I've used tons. please restock it.\",\n",
       " 'Wow! This night cream is a little miracle in a jar. I have used this cream for a few weeks now and my face is so soft and smooth. It applies effortlessly and feels like a cloud. The light scent is perfect. I will continue to use this for several months until I run out. I typically use the liquid collagen during the day as well. I received this product free in exchange for an honest review and all opinions are my own.',\n",
       " 'Just started to use this product.  Love the creamy texture and nice botanical smell.  Blends very nice into my skin.',\n",
       " \"After my first month of accutane i was DYING! It didnt help that I started it in the middle of the winter in an already dry climate. My face was painfully dry and flaking, I was so embarrassed I hated being in public. This was the BEST! I went to Sephora and asked what they recommended for my severe dryness and was brought to Dr. Jarts Ceramidin cream. I'm in love.\",\n",
       " 'I have really dry skin and struggle with finding an anti-aging cream that also addresses my winter skin issues. This is a thick cream but it absorbs immediately without a greasy feeling. I also have sensitive skin and no issues.',\n",
       " 'Excellent product. Just the right weight, not too heavy and not too light, absorbs quickly, leaves face dewy and has a light rose scent. Buy the large size for a better value,',\n",
       " 'This is amazing! I love the glowy hydrated look this gives my somewhat dry, dull skin. I wear this everyday for the sun protection, skincare benefits, and for a more even tone.',\n",
       " 'I brought this to burning man to keep my skin hydrated and as a little treat to keep myself sane. It did the trick! The packaging and jelly consistency feel luxurious, and when I woke up my skin felt softer and smoother but not greasy or oily.\\nI received this from belif as a gift to try for testing.',\n",
       " \"I GOT THIS AS A SAMPLE. Okay I'm giving 5 stars because it left my skin soft - like babys butt! LITERALLY SO SOFT! I was amazed at how quickly my skin took it in. I hate the price tag tho! SOMEONE MAKE A MINI SIZE OR SOMETHING. MAKE ANOTHER SIZE!!\",\n",
       " 'Absolute favorite face cream for an unpredictable NJ fall/winter/spring season. Worth the price, one tube lasts that whole time.',\n",
       " 'It does what it says - plumbing skin softer, and I feel it gives enough hydration for oily/combination skin. \\nI guess it makes a good tonor, but you would expect more from an essence.',\n",
       " \"I received this product as a prize from Poshly and I couldn't be more ecstatic. It is a great formula that is silky and leaves skin feeling soft with a glowing look. It applies smoothly and has a nice flowery light scent. Definitely recommend!\",\n",
       " \"Over the years I've tried many essences and softeners.  Most contain alcohol or fragrance.  So happy this does not!  Very effective. Unfortunately very expensive as well.  But to me this is worth it.  \\r\\n\\r\\nMy more detailed review video is below.\",\n",
       " \"Another reviewer suggested trying it first and I agree; it may not be for everyone but it's perfect for my combination skin\\n\\nThis cream is pretty thick but doesn't set up greasy; it sets matte and serves as almost a primer before a makeup primer (I use Dr. Feelgood by Benefit) and has made my skin feel flawless \\n\\nThe container is a metal tube with a key and a little goes a long way\",\n",
       " 'I received this product complimentary from influenster. My first thoughts were ‘wow this is a beautiful bottle, I feel really fancy’ being because I don’t have a skin care routine, I’d just wash my face every night before bed, avoiding face lotion because I have oily skin and it makes it worse. But after using this I was amazed. It felt like putting water on my face, but immediately I noticed my skin felt soft and hydrated- and it looked plump, exactly as it says it does. Mainly I love this because it didn’t make my face feel oily, or make it more oily than it is. I definitely found a replacement for face lotion, and I would recommend it to anyone with oily skin…read more',\n",
       " 'I love it, see improvement in just 1-2 days',\n",
       " \"So to clarify, I did receive this product for testing but here's the full truth. The essence definitely softens skin and works wonders paired with the brightening serum. However, had I not received this, I dont think I would buy it considering my budget and that my main concern lies within oil, pores, and my eyebags.\",\n",
       " 'I was concerned with the thickness of this product but have fallen in love. Even though the product is think it is still light weight on the skin and has done wonders to my skin in this cold SF weather!',\n",
       " 'This is the first time I have ever used this product and I have to say I absolutely love it! I have combination skin and this is perfect for hydrating, yet not leaving an oily residue behind! Feels like you’re just putting water on your face.',\n",
       " 'I love them because they are little enough to put in your purse. Hydrates your face when you need it.',\n",
       " \"My skin is super sensitive and tends to get flaky on my nose. EVERYTHING breaks my skin out, this it literally the first time I've ever found a moisturizer that suits my skin and also provides enough moisture and doesn't leave it greasy.. it looks the healthiest it has ever looked. LOVE IT! 100% recommend this for sensitive skin.\",\n",
       " \"Like some other people have said, this product is meh. It added absolutely zero color to my face but it was moisturizing. It also is very watery and kind of messy. \\n\\nIt's okay. But for the price it's not worth it.\",\n",
       " 'I was really impressed by this essence! You could actually use it alone and your skin will feel plump and moisturized! It is pretty expensive, but you get a lot of product and a little goes a long way. I loved the results I got by using this nightly on my dry dehydrated skin and I highly recommend! *I received this complementary to test.',\n",
       " \"Received in a Play! box months ago, and never got to posting a review. Despite the thick consistency, it's super lightweight and hydrating! Several of my friends have bought this and told me they're going to stick with it.\",\n",
       " 'Best moisturizer, been using for 2 years now. Best for dry skin esp in winter.',\n",
       " 'I absolutely love this product! My skin feels great every time I apply this after cleansing. I have combination skin, but the majority of my face is dry. The product is moisturizing, gives a lightweight feel, smells good, and feels comfortable under my makeup. I also like that I can use it during the day, but I especially love using it at night.',\n",
       " 'I have used this cream for a few months. I have dry skin and this did feel good going on. It did moisturize well although I needed more anti aging then this cream offers. If I was younger this would be a better choice for me. I was underwhelmed.',\n",
       " 'This is just such a great cream. It makes my skin feel amazing. I have SUPER sensitive skin and my skin loved this!',\n",
       " 'I typically have combination skin but this winter weather has made it very dry, this essence works perfectly as a prep for any of my serums and moisturizers that I use. I do use this with a jade roller and it’s super cooling! I received this product complimentary for testing purposes and I’m so excited to see the continued results. It is lightweight and not sticky. I definitely recommend trying this out, you get a ton of product!…read more',\n",
       " 'This product is one of those \"extras\" to me - not something I remember to use frequently but it does feel hydrating and luxurious. The packaging is beautiful. I haven\\'t used other essences before but this replaces my hyaluronic acid serum and feels much lighter and is absorbed instantly.',\n",
       " 'i received this as a complimentary gift from influenster and i absolutely love it. it keeps my skin so extremely hydrated. i thought it would be kind of a gimmicky product that didn’t do much but i was so wrong.',\n",
       " \"First of all, this cream is so buttery and smooth! A little goes a long ways which is nice considering the price. My skin feels more hydrated, especially under my eyes. I don't detect any scent in this cream. This cream is very rich, probably best for dehydrated or aging skin. I received this product complimentary from influenster for review, but all opinions are my own.\",\n",
       " \"I received this product through Influenster to test out and honestly I'm pretty disappointed. Yes, it does make my skin a little softer, but overall it makes my face extremely oily in places that it usually isn't. After using it for less than a week, I have noticed new pimples and tiny dots on my face that I never used to get. It's pretty easy to use and comes out with a good amount per pump. The packaging and outside is beautiful, but the softness is just not worth the other skin problems that it causes me :(…read more\",\n",
       " 'This feels fantastic on my dry hands. Like magic, it makes my hands look and feel smooth, plumped, and comfortable. I love it!',\n",
       " 'I received this product for free from Influenster to try and give my honest review.  I have used this product, along with the Violet- C Brightening Serum (also from Tatcha) and I have really liked it so far.  My skin is very oily and this product seems to help with that.   My skin was also much softer after its use.  It is very easy to apply and absorbs right into my skin.  Although expensive, I would recommend this product to a friend.…read more',\n",
       " 'I received this in my Sephora playbox and it was life changing for my eczema on my hands. I have always had eczema and not a dry patch here or there but liquid bubbles and open sores and when its dormant wrinkly skin and fingers sadly. But this has breathed a new life into my hands and makes me want to get a manicure to show them off.',\n",
       " 'I LOVE this product! I have been using it with the Tatcha brightening serum and they work great together. I have only been using it at night for almost a week and I already see a difference in how my skin looks. I have noticed more of a glow and my skin feels SO soft and smooth. I also love how this makes other skincare products work better. I recieved this complementary from influenster but would definitely purchase it when I run out!…read more',\n",
       " 'I loved this product! Immediately after using this, my skin has felt extremely soft and resurfaced. Like a new glowy layer was developed. After 3 days, I noticed my skin care I put on after this was working a lot faster than it normally does. I did receive this product free from influenster for testing purposes but all of my opinions are my own.',\n",
       " \"I have been testing out these products for the past couple of months and I can honestly say I'm not sponsored AND THESE PRODUCTS REALLY WORK! Although, some carry a hefty price tag it's soooo worth every penny. Coming from a person who has combo-oil, acne, sensitive, large pores, hyperpigmentation and acne scared skin. My acne has drastically reduced but I will perhaps always struggle with my hormonal pimple flare-ups due to my PCOS. It's mostly just a matter of staying on top of it. And another thing, my hyperpigmentation is virtually non existent. I used to have the most sensitive skin where anything I put on my face would make it red, irritated and splotchy. I looked like a tomato on the daily. After I few weeks of these products my face is baby soft, pores have shrunk and my oil production has significantly decreased. High recommend any one of these and good luck to you on your healthy skincare journey.…read more\",\n",
       " \"My skin type: combo skin: sometimes oily on the forehead and dry on the chin, recently have had terrible breakouts from stress \\nI have never, ever put oil on my face–until I used this product. This stuff really works—like seriously, actually works! The oil is lightweight on the face and does not leave you gross-oily looking. It soaks in well and does it's job. I pop my pimples (yes I know that's bad) and it leaves my face red, irritated, and swollen. When I put the oil on my face, it makes all of that go away in less than one hour! I get rashes from sunburns and the oil works for that too! It even reduces redness and swelling in pimples, so it makes your pimples look smaller. \\nThe pictures may not look like much but in person you can tell it evened my skin tone and reduced irritation and redness. \\nI also started using a new face wash recently that dries out my face and makes it pretty red and irritated (but it works so well for pimples!) so this oil is perfect for that. I just put it on my face when I'm done cleansing it and it looks perfect. I use this oil in addition to the releaf night cream, all of which I received as a complementary gift (of course all opinions are still my own). I usually don't buy products that I receive as a sample, but I think I'm going to have to buy it myself as soon as it runs out.…read more\",\n",
       " 'If your dry or your feel a bit icky by end of work day this is a nice pick me up.',\n",
       " \"It's a great product! My skin type is a bit towards dry side and it's a bit sensitive too, but it's perfect for me to apply in the morning. It has not irritated my skin for more than a year, and any breakouts I have found so far. It's not too heavy, and it helps me to keep my face being hydrated for more the day.\\nI do recommend this product!\",\n",
       " 'This water is amazing. This leaves my skin feeling so soft. I was very impressed on my first impression and I continue to use it every night. My skin feels more plumped and hydrated. I received this complimentary product for testing purposes.',\n",
       " ...}"
      ]
     },
     "execution_count": 103,
     "metadata": {},
     "output_type": "execute_result"
    }
   ],
   "source": [
    "duplicated_contents"
   ]
  },
  {
   "cell_type": "markdown",
   "metadata": {},
   "source": [
    "Word Cloud of duplicated and partially overlapped review contents"
   ]
  },
  {
   "cell_type": "code",
   "execution_count": 104,
   "metadata": {},
   "outputs": [
    {
     "data": {
      "image/png": "[encoded data removed]",
      "text/plain": [
       "<Figure size 432x288 with 1 Axes>"
      ]
     },
     "metadata": {
      "needs_background": "light"
     },
     "output_type": "display_data"
    }
   ],
   "source": [
    "from wordcloud import WordCloud, STOPWORDS\n",
    "import matplotlib.pyplot as plt\n",
    "%matplotlib inline\n",
    "m_stop_words = STOPWORDS.union({'moisturizer'})\n",
    "#documents = set(m['review'][fake_by_overlapped_index]) + duplicated_contents\n",
    "documents = str(duplicated_contents)\n",
    "wordcloud = WordCloud(stopwords=m_stop_words,background_color='white',width=5000,height=5000).generate(documents)\n",
    "plt.imshow(wordcloud)\n",
    "plt.axis('off')\n",
    "plt.show()"
   ]
  },
  {
   "cell_type": "markdown",
   "metadata": {},
   "source": [
    "### 2. Use LSI model to identify reviews with high similairty to the above fake review contents"
   ]
  },
  {
   "cell_type": "code",
   "execution_count": 105,
   "metadata": {},
   "outputs": [
    {
     "name": "stdout",
     "output_type": "stream",
     "text": [
      "100\n",
      "1000\n",
      "5000\n",
      "10000\n",
      "20000\n",
      "50000\n",
      "60000\n",
      "100000\n",
      "150000\n"
     ]
    }
   ],
   "source": [
    "#LSI model setup\n",
    "from gensim.similarities.docsim import Similarity\n",
    "from gensim import corpora, models, similarities\n",
    "texts = [[word for word in document.lower().split()\n",
    "            if word not in STOPWORDS and word.isalnum()]\n",
    "            for document in duplicated_contents]\n",
    "dictionary = corpora.Dictionary(texts)\n",
    "corpus = [dictionary.doc2bow(text) for text in texts]\n",
    "lsi = models.LsiModel(corpus, id2word=dictionary)\n",
    "index = similarities.MatrixSimilarity(lsi[corpus]) \n",
    "\n",
    "\n",
    "def similarity_score(review):\n",
    "    vec_bow = dictionary.doc2bow(review.lower().split())   # (id, freq) list of the new document\n",
    "    vec_lsi = lsi[vec_bow]                                       #input to the index\n",
    "    sims = index[vec_lsi]\n",
    "    sims = sorted(enumerate(sims), key=lambda item: -item[1])\n",
    "    return sims[0]   #return the highest similarity score\n",
    "\n",
    "#function to return review index with similarity score > 0.9\n",
    "def high_similarity_reviews(df, dup_index):\n",
    "    fake_index = []\n",
    "    similar_score = []\n",
    "    similar_index =[]\n",
    "    for i in df.index:\n",
    "        if i not in dup_index:\n",
    "            if i in [100, 1000, 5000, 10000, 20000, 50000, 60000, 100000, 150000]:\n",
    "                print(i)\n",
    "            score = similarity_score(df['review'][i])\n",
    "            if score[1] >= 0.9:\n",
    "                fake_index.append(i)\n",
    "                similar_score.append(score[1])\n",
    "                similar_index.append(score[0])\n",
    "    return fake_index, similar_score, similar_index\n",
    "fake_by_similarity_index, fake_by_similarity_score, fake_by_similarity_other_index = high_similarity_reviews(m, fake_by_duplicated_index)"
   ]
  },
  {
   "cell_type": "markdown",
   "metadata": {},
   "source": [
    "### 3. A reviewer posted multiple reviews for one specific product"
   ]
  },
  {
   "cell_type": "code",
   "execution_count": 106,
   "metadata": {},
   "outputs": [],
   "source": [
    "def multiple_reviews(row):\n",
    "    if row['no_of_reviews'] > 1 and row['review_rating'] == 1:\n",
    "        #print(row['review_rating'])\n",
    "        return 1\n",
    "    elif row['no_of_reviews'] > 1 and row['review_rating'] == 5:\n",
    "        #print(row['review_rating'])\n",
    "        return 1\n",
    "    else:\n",
    "        return 0"
   ]
  },
  {
   "cell_type": "code",
   "execution_count": 107,
   "metadata": {},
   "outputs": [],
   "source": [
    "m['no_of_reviews']=m.groupby(['user_name','item_id'])['user_name'].transform('count')"
   ]
  },
  {
   "cell_type": "code",
   "execution_count": 108,
   "metadata": {},
   "outputs": [],
   "source": [
    "m['multiple'] = m.apply(multiple_reviews, axis = 1)"
   ]
  },
  {
   "cell_type": "code",
   "execution_count": 109,
   "metadata": {},
   "outputs": [],
   "source": [
    "fake_by_multiple_reviews_index = m[m['multiple'] == 1].index"
   ]
  },
  {
   "cell_type": "code",
   "execution_count": 110,
   "metadata": {},
   "outputs": [
    {
     "data": {
      "text/plain": [
       "Int64Index([ 12780,  12804,  13260,  13363,  16453,  16454,  16455,  16456,\n",
       "             16457,  16458,\n",
       "            ...\n",
       "            237029, 237034, 237049, 237064, 237098, 237103, 237139, 237164,\n",
       "            237175, 237232],\n",
       "           dtype='int64', name='Unnamed: 0', length=8099)"
      ]
     },
     "execution_count": 110,
     "metadata": {},
     "output_type": "execute_result"
    }
   ],
   "source": [
    "fake_by_multiple_reviews_index"
   ]
  },
  {
   "cell_type": "code",
   "execution_count": 111,
   "metadata": {},
   "outputs": [
    {
     "data": {
      "text/plain": [
       "count    8099.000000\n",
       "mean        4.784665\n",
       "std         0.902814\n",
       "min         1.000000\n",
       "25%         5.000000\n",
       "50%         5.000000\n",
       "75%         5.000000\n",
       "max         5.000000\n",
       "Name: review_rating, dtype: float64"
      ]
     },
     "execution_count": 111,
     "metadata": {},
     "output_type": "execute_result"
    }
   ],
   "source": [
    "m['review_rating'][fake_by_multiple_reviews_index].describe()"
   ]
  },
  {
   "cell_type": "markdown",
   "metadata": {},
   "source": [
    "### 4. Reviews with extreme sentiment score from unpopular products"
   ]
  },
  {
   "cell_type": "code",
   "execution_count": 112,
   "metadata": {},
   "outputs": [
    {
     "data": {
      "text/html": [
       "<div>\n",
       "<style scoped>\n",
       "    .dataframe tbody tr th:only-of-type {\n",
       "        vertical-align: middle;\n",
       "    }\n",
       "\n",
       "    .dataframe tbody tr th {\n",
       "        vertical-align: top;\n",
       "    }\n",
       "\n",
       "    .dataframe thead th {\n",
       "        text-align: right;\n",
       "    }\n",
       "</style>\n",
       "<table border=\"1\" class=\"dataframe\">\n",
       "  <thead>\n",
       "    <tr style=\"text-align: right;\">\n",
       "      <th></th>\n",
       "      <th>item id</th>\n",
       "      <th>loves</th>\n",
       "    </tr>\n",
       "  </thead>\n",
       "  <tbody>\n",
       "    <tr>\n",
       "      <td>count</td>\n",
       "      <td>9.030000e+02</td>\n",
       "      <td>903.000000</td>\n",
       "    </tr>\n",
       "    <tr>\n",
       "      <td>mean</td>\n",
       "      <td>1.893205e+06</td>\n",
       "      <td>16346.899225</td>\n",
       "    </tr>\n",
       "    <tr>\n",
       "      <td>std</td>\n",
       "      <td>3.566954e+05</td>\n",
       "      <td>28358.665638</td>\n",
       "    </tr>\n",
       "    <tr>\n",
       "      <td>min</td>\n",
       "      <td>7.447600e+04</td>\n",
       "      <td>0.000000</td>\n",
       "    </tr>\n",
       "    <tr>\n",
       "      <td>25%</td>\n",
       "      <td>1.717638e+06</td>\n",
       "      <td>2047.500000</td>\n",
       "    </tr>\n",
       "    <tr>\n",
       "      <td>50%</td>\n",
       "      <td>1.988542e+06</td>\n",
       "      <td>5184.000000</td>\n",
       "    </tr>\n",
       "    <tr>\n",
       "      <td>75%</td>\n",
       "      <td>2.167934e+06</td>\n",
       "      <td>16933.500000</td>\n",
       "    </tr>\n",
       "    <tr>\n",
       "      <td>max</td>\n",
       "      <td>2.311439e+06</td>\n",
       "      <td>217011.000000</td>\n",
       "    </tr>\n",
       "  </tbody>\n",
       "</table>\n",
       "</div>"
      ],
      "text/plain": [
       "            item id          loves\n",
       "count  9.030000e+02     903.000000\n",
       "mean   1.893205e+06   16346.899225\n",
       "std    3.566954e+05   28358.665638\n",
       "min    7.447600e+04       0.000000\n",
       "25%    1.717638e+06    2047.500000\n",
       "50%    1.988542e+06    5184.000000\n",
       "75%    2.167934e+06   16933.500000\n",
       "max    2.311439e+06  217011.000000"
      ]
     },
     "execution_count": 112,
     "metadata": {},
     "output_type": "execute_result"
    }
   ],
   "source": [
    "product_info.describe()"
   ]
  },
  {
   "cell_type": "code",
   "execution_count": 113,
   "metadata": {},
   "outputs": [
    {
     "data": {
      "text/plain": [
       "count     364.000000\n",
       "mean      606.321429\n",
       "std       712.590918\n",
       "min        17.000000\n",
       "25%       165.000000\n",
       "50%       333.500000\n",
       "75%       756.250000\n",
       "max      6081.000000\n",
       "dtype: float64"
      ]
     },
     "execution_count": 113,
     "metadata": {},
     "output_type": "execute_result"
    }
   ],
   "source": [
    "m.groupby('total_reviews').size().describe()"
   ]
  },
  {
   "cell_type": "markdown",
   "metadata": {},
   "source": [
    "We use number of loves indicated on the website and the reviews volume to measure the popularity of a product.<br>\n",
    "<li>Cutoff for loves: <br>\n",
    "    We look at the products whose loves are below the 25% percentile. <br>\n",
    "    The 25% percentile is 2047.5, so we choose 2047 as the cutoff for loves.<br>\n",
    "<li>Cutoff for review volumns:<br>\n",
    "    We look at the products whose review volumes are below the 25% percentile.<br>\n",
    "    The 25% percentile is 165, so we choose 165 as the cutoff for review volumes.<br>\n",
    "    \n",
    "Products with loves lower than 2047 or number of reviews lower than 168 are subjects for fake reviews inspection."
   ]
  },
  {
   "cell_type": "code",
   "execution_count": 114,
   "metadata": {},
   "outputs": [],
   "source": [
    "#filter products with loves lower than 2047 or number of reviews lower than 165\n",
    "ids = product_info['item id'][product_info['loves']<=2047]\n",
    "suspect = m.loc[m['item_id'].isin(list(ids)) | (m['total_reviews'] <= 165)]"
   ]
  },
  {
   "cell_type": "markdown",
   "metadata": {},
   "source": [
    "After identifying suspect, use VADER to identify extreme reviews"
   ]
  },
  {
   "cell_type": "code",
   "execution_count": 115,
   "metadata": {},
   "outputs": [],
   "source": [
    "#sentiment score function\n",
    "def sentiment_score(review):\n",
    "    from vaderSentiment.vaderSentiment import SentimentIntensityAnalyzer\n",
    "    from nltk import sent_tokenize,word_tokenize\n",
    "    analyzer = SentimentIntensityAnalyzer()\n",
    "    pos=compound=neu=neg=0\n",
    "    sentences = sent_tokenize(review)\n",
    "    for sentence in sentences:\n",
    "        vs = analyzer.polarity_scores(sentence)\n",
    "        pos+=vs['pos']/(len(sentences))\n",
    "        compound+=vs['compound']/(len(sentences))\n",
    "        neu+=vs['neu']/(len(sentences))\n",
    "        neg+=vs['neg']/(len(sentences))\n",
    "    return compound"
   ]
  },
  {
   "cell_type": "code",
   "execution_count": 116,
   "metadata": {},
   "outputs": [
    {
     "name": "stderr",
     "output_type": "stream",
     "text": [
      "//anaconda3/lib/python3.7/site-packages/ipykernel_launcher.py:1: SettingWithCopyWarning:\n",
      "\n",
      "\n",
      "A value is trying to be set on a copy of a slice from a DataFrame.\n",
      "Try using .loc[row_indexer,col_indexer] = value instead\n",
      "\n",
      "See the caveats in the documentation: http://pandas.pydata.org/pandas-docs/stable/user_guide/indexing.html#returning-a-view-versus-a-copy\n",
      "\n"
     ]
    }
   ],
   "source": [
    "suspect['sentiment score'] = [sentiment_score(review_text) for review_text in suspect['review']]"
   ]
  },
  {
   "cell_type": "code",
   "execution_count": 117,
   "metadata": {},
   "outputs": [
    {
     "data": {
      "text/plain": [
       "count    21696.000000\n",
       "mean         0.278943\n",
       "std          0.232795\n",
       "min         -0.900900\n",
       "25%          0.134189\n",
       "50%          0.278064\n",
       "75%          0.424168\n",
       "max          0.984300\n",
       "Name: sentiment score, dtype: float64"
      ]
     },
     "execution_count": 117,
     "metadata": {},
     "output_type": "execute_result"
    }
   ],
   "source": [
    "suspect['sentiment score'].describe()"
   ]
  },
  {
   "cell_type": "markdown",
   "metadata": {},
   "source": [
    "Reviews with absolute value of sentiment scores above 0.8 are identified as fake."
   ]
  },
  {
   "cell_type": "code",
   "execution_count": 118,
   "metadata": {},
   "outputs": [
    {
     "data": {
      "text/html": [
       "<div>\n",
       "<style scoped>\n",
       "    .dataframe tbody tr th:only-of-type {\n",
       "        vertical-align: middle;\n",
       "    }\n",
       "\n",
       "    .dataframe tbody tr th {\n",
       "        vertical-align: top;\n",
       "    }\n",
       "\n",
       "    .dataframe thead th {\n",
       "        text-align: right;\n",
       "    }\n",
       "</style>\n",
       "<table border=\"1\" class=\"dataframe\">\n",
       "  <thead>\n",
       "    <tr style=\"text-align: right;\">\n",
       "      <th></th>\n",
       "      <th>item_id</th>\n",
       "      <th>total_reviews</th>\n",
       "      <th>user_name</th>\n",
       "      <th>skin_type</th>\n",
       "      <th>skin_tone</th>\n",
       "      <th>age_range</th>\n",
       "      <th>review_title</th>\n",
       "      <th>review</th>\n",
       "      <th>review_rating</th>\n",
       "      <th>not_helpful</th>\n",
       "      <th>helpful</th>\n",
       "      <th>free_product</th>\n",
       "      <th>recommend</th>\n",
       "      <th>review_time</th>\n",
       "      <th>category</th>\n",
       "      <th>no_of_reviews</th>\n",
       "      <th>multiple</th>\n",
       "      <th>sentiment score</th>\n",
       "    </tr>\n",
       "    <tr>\n",
       "      <th>Unnamed: 0</th>\n",
       "      <th></th>\n",
       "      <th></th>\n",
       "      <th></th>\n",
       "      <th></th>\n",
       "      <th></th>\n",
       "      <th></th>\n",
       "      <th></th>\n",
       "      <th></th>\n",
       "      <th></th>\n",
       "      <th></th>\n",
       "      <th></th>\n",
       "      <th></th>\n",
       "      <th></th>\n",
       "      <th></th>\n",
       "      <th></th>\n",
       "      <th></th>\n",
       "      <th></th>\n",
       "      <th></th>\n",
       "    </tr>\n",
       "  </thead>\n",
       "  <tbody>\n",
       "    <tr>\n",
       "      <td>14510</td>\n",
       "      <td>1785229</td>\n",
       "      <td>122</td>\n",
       "      <td>laurasn</td>\n",
       "      <td>Combination</td>\n",
       "      <td>Medium</td>\n",
       "      <td>35-44</td>\n",
       "      <td>Love!</td>\n",
       "      <td>My husband bought me the entire line of SK-II....</td>\n",
       "      <td>5</td>\n",
       "      <td>8</td>\n",
       "      <td>2</td>\n",
       "      <td>0</td>\n",
       "      <td>0</td>\n",
       "      <td>15 Aug 2016</td>\n",
       "      <td>moisturizer</td>\n",
       "      <td>1.0</td>\n",
       "      <td>0</td>\n",
       "      <td>0.84020</td>\n",
       "    </tr>\n",
       "    <tr>\n",
       "      <td>33543</td>\n",
       "      <td>2060960</td>\n",
       "      <td>64</td>\n",
       "      <td>isastern</td>\n",
       "      <td>Oily</td>\n",
       "      <td>Fair</td>\n",
       "      <td>NaN</td>\n",
       "      <td>I love La Mer products</td>\n",
       "      <td>I’m on my 30’s so I think it’s worth investing...</td>\n",
       "      <td>5</td>\n",
       "      <td>0</td>\n",
       "      <td>9</td>\n",
       "      <td>0</td>\n",
       "      <td>1</td>\n",
       "      <td>15 Sep 2018</td>\n",
       "      <td>moisturizer</td>\n",
       "      <td>1.0</td>\n",
       "      <td>0</td>\n",
       "      <td>0.86005</td>\n",
       "    </tr>\n",
       "    <tr>\n",
       "      <td>48002</td>\n",
       "      <td>2234110</td>\n",
       "      <td>140</td>\n",
       "      <td>Zanesmom2016</td>\n",
       "      <td>Combination</td>\n",
       "      <td>Tan</td>\n",
       "      <td>NaN</td>\n",
       "      <td>Great stuff!!</td>\n",
       "      <td>I love how this makes my skin feel free super ...</td>\n",
       "      <td>5</td>\n",
       "      <td>0</td>\n",
       "      <td>0</td>\n",
       "      <td>0</td>\n",
       "      <td>1</td>\n",
       "      <td>12-Aug-19</td>\n",
       "      <td>moisturizer</td>\n",
       "      <td>1.0</td>\n",
       "      <td>0</td>\n",
       "      <td>0.94770</td>\n",
       "    </tr>\n",
       "    <tr>\n",
       "      <td>48007</td>\n",
       "      <td>2234110</td>\n",
       "      <td>140</td>\n",
       "      <td>mommyoftwins18</td>\n",
       "      <td>Combination</td>\n",
       "      <td>Tan</td>\n",
       "      <td>NaN</td>\n",
       "      <td>Works great</td>\n",
       "      <td>This cream makes my skin feel amazing and I lo...</td>\n",
       "      <td>5</td>\n",
       "      <td>0</td>\n",
       "      <td>0</td>\n",
       "      <td>1</td>\n",
       "      <td>1</td>\n",
       "      <td>12-Aug-19</td>\n",
       "      <td>moisturizer</td>\n",
       "      <td>1.0</td>\n",
       "      <td>0</td>\n",
       "      <td>0.88340</td>\n",
       "    </tr>\n",
       "    <tr>\n",
       "      <td>48030</td>\n",
       "      <td>2234110</td>\n",
       "      <td>140</td>\n",
       "      <td>lissa757</td>\n",
       "      <td>Combination</td>\n",
       "      <td>Medium</td>\n",
       "      <td>NaN</td>\n",
       "      <td>NaN</td>\n",
       "      <td>I really love this cream it has spf in it and ...</td>\n",
       "      <td>4</td>\n",
       "      <td>0</td>\n",
       "      <td>0</td>\n",
       "      <td>0</td>\n",
       "      <td>1</td>\n",
       "      <td>10-Aug-19</td>\n",
       "      <td>moisturizer</td>\n",
       "      <td>1.0</td>\n",
       "      <td>0</td>\n",
       "      <td>0.83990</td>\n",
       "    </tr>\n",
       "    <tr>\n",
       "      <td>...</td>\n",
       "      <td>...</td>\n",
       "      <td>...</td>\n",
       "      <td>...</td>\n",
       "      <td>...</td>\n",
       "      <td>...</td>\n",
       "      <td>...</td>\n",
       "      <td>...</td>\n",
       "      <td>...</td>\n",
       "      <td>...</td>\n",
       "      <td>...</td>\n",
       "      <td>...</td>\n",
       "      <td>...</td>\n",
       "      <td>...</td>\n",
       "      <td>...</td>\n",
       "      <td>...</td>\n",
       "      <td>...</td>\n",
       "      <td>...</td>\n",
       "      <td>...</td>\n",
       "    </tr>\n",
       "    <tr>\n",
       "      <td>236698</td>\n",
       "      <td>844480</td>\n",
       "      <td>95</td>\n",
       "      <td>taramariev</td>\n",
       "      <td>Dry</td>\n",
       "      <td>NaN</td>\n",
       "      <td>18-24</td>\n",
       "      <td>I'm 21 and I love this</td>\n",
       "      <td>I'm 21 so I don't use this for wrinkles but ju...</td>\n",
       "      <td>5</td>\n",
       "      <td>1</td>\n",
       "      <td>1</td>\n",
       "      <td>0</td>\n",
       "      <td>0</td>\n",
       "      <td>26 Jun 2013</td>\n",
       "      <td>moisturizer</td>\n",
       "      <td>2.0</td>\n",
       "      <td>1</td>\n",
       "      <td>0.91840</td>\n",
       "    </tr>\n",
       "    <tr>\n",
       "      <td>236701</td>\n",
       "      <td>844480</td>\n",
       "      <td>95</td>\n",
       "      <td>joal</td>\n",
       "      <td>Combination</td>\n",
       "      <td>Medium</td>\n",
       "      <td>over 54</td>\n",
       "      <td>Dont wait.</td>\n",
       "      <td>Great Product, A little pricey for me being on...</td>\n",
       "      <td>4</td>\n",
       "      <td>0</td>\n",
       "      <td>1</td>\n",
       "      <td>0</td>\n",
       "      <td>0</td>\n",
       "      <td>5 Jan 2009</td>\n",
       "      <td>moisturizer</td>\n",
       "      <td>1.0</td>\n",
       "      <td>0</td>\n",
       "      <td>0.88900</td>\n",
       "    </tr>\n",
       "    <tr>\n",
       "      <td>236728</td>\n",
       "      <td>844480</td>\n",
       "      <td>95</td>\n",
       "      <td>Chess123</td>\n",
       "      <td>NaN</td>\n",
       "      <td>NaN</td>\n",
       "      <td>NaN</td>\n",
       "      <td>Love it</td>\n",
       "      <td>Great product, makes my skin feel amazing and ...</td>\n",
       "      <td>5</td>\n",
       "      <td>2</td>\n",
       "      <td>0</td>\n",
       "      <td>0</td>\n",
       "      <td>0</td>\n",
       "      <td>18 Dec 2013</td>\n",
       "      <td>moisturizer</td>\n",
       "      <td>1.0</td>\n",
       "      <td>0</td>\n",
       "      <td>0.89100</td>\n",
       "    </tr>\n",
       "    <tr>\n",
       "      <td>236733</td>\n",
       "      <td>844480</td>\n",
       "      <td>95</td>\n",
       "      <td>mmmoore</td>\n",
       "      <td>NaN</td>\n",
       "      <td>NaN</td>\n",
       "      <td>35-44</td>\n",
       "      <td>Holds up to its promise</td>\n",
       "      <td>I tried this on a whim when a company Rep show...</td>\n",
       "      <td>5</td>\n",
       "      <td>0</td>\n",
       "      <td>0</td>\n",
       "      <td>0</td>\n",
       "      <td>0</td>\n",
       "      <td>19 Aug 2012</td>\n",
       "      <td>moisturizer</td>\n",
       "      <td>1.0</td>\n",
       "      <td>0</td>\n",
       "      <td>0.80160</td>\n",
       "    </tr>\n",
       "    <tr>\n",
       "      <td>237283</td>\n",
       "      <td>1809235</td>\n",
       "      <td>51</td>\n",
       "      <td>dyearby</td>\n",
       "      <td>Dry</td>\n",
       "      <td>Ebony</td>\n",
       "      <td>NaN</td>\n",
       "      <td>great spf for black girl</td>\n",
       "      <td>great spf for black girls and has a beautiful ...</td>\n",
       "      <td>5</td>\n",
       "      <td>0</td>\n",
       "      <td>0</td>\n",
       "      <td>0</td>\n",
       "      <td>1</td>\n",
       "      <td>13 Jun 2019</td>\n",
       "      <td>moisturizer</td>\n",
       "      <td>1.0</td>\n",
       "      <td>0</td>\n",
       "      <td>0.84020</td>\n",
       "    </tr>\n",
       "  </tbody>\n",
       "</table>\n",
       "<p>331 rows × 18 columns</p>\n",
       "</div>"
      ],
      "text/plain": [
       "            item_id  total_reviews       user_name    skin_type skin_tone  \\\n",
       "Unnamed: 0                                                                  \n",
       "14510       1785229            122         laurasn  Combination    Medium   \n",
       "33543       2060960             64        isastern         Oily      Fair   \n",
       "48002       2234110            140    Zanesmom2016  Combination       Tan   \n",
       "48007       2234110            140  mommyoftwins18  Combination       Tan   \n",
       "48030       2234110            140        lissa757  Combination    Medium   \n",
       "...             ...            ...             ...          ...       ...   \n",
       "236698       844480             95      taramariev          Dry       NaN   \n",
       "236701       844480             95            joal  Combination    Medium   \n",
       "236728       844480             95        Chess123          NaN       NaN   \n",
       "236733       844480             95         mmmoore          NaN       NaN   \n",
       "237283      1809235             51         dyearby          Dry     Ebony   \n",
       "\n",
       "           age_range              review_title  \\\n",
       "Unnamed: 0                                       \n",
       "14510          35-44                     Love!   \n",
       "33543            NaN    I love La Mer products   \n",
       "48002            NaN             Great stuff!!   \n",
       "48007            NaN               Works great   \n",
       "48030            NaN                       NaN   \n",
       "...              ...                       ...   \n",
       "236698         18-24    I'm 21 and I love this   \n",
       "236701       over 54                Dont wait.   \n",
       "236728           NaN                   Love it   \n",
       "236733         35-44   Holds up to its promise   \n",
       "237283           NaN  great spf for black girl   \n",
       "\n",
       "                                                       review  review_rating  \\\n",
       "Unnamed: 0                                                                     \n",
       "14510       My husband bought me the entire line of SK-II....              5   \n",
       "33543       I’m on my 30’s so I think it’s worth investing...              5   \n",
       "48002       I love how this makes my skin feel free super ...              5   \n",
       "48007       This cream makes my skin feel amazing and I lo...              5   \n",
       "48030       I really love this cream it has spf in it and ...              4   \n",
       "...                                                       ...            ...   \n",
       "236698      I'm 21 so I don't use this for wrinkles but ju...              5   \n",
       "236701      Great Product, A little pricey for me being on...              4   \n",
       "236728      Great product, makes my skin feel amazing and ...              5   \n",
       "236733      I tried this on a whim when a company Rep show...              5   \n",
       "237283      great spf for black girls and has a beautiful ...              5   \n",
       "\n",
       "            not_helpful  helpful  free_product  recommend  review_time  \\\n",
       "Unnamed: 0                                                               \n",
       "14510                 8        2             0          0  15 Aug 2016   \n",
       "33543                 0        9             0          1  15 Sep 2018   \n",
       "48002                 0        0             0          1    12-Aug-19   \n",
       "48007                 0        0             1          1    12-Aug-19   \n",
       "48030                 0        0             0          1    10-Aug-19   \n",
       "...                 ...      ...           ...        ...          ...   \n",
       "236698                1        1             0          0  26 Jun 2013   \n",
       "236701                0        1             0          0   5 Jan 2009   \n",
       "236728                2        0             0          0  18 Dec 2013   \n",
       "236733                0        0             0          0  19 Aug 2012   \n",
       "237283                0        0             0          1  13 Jun 2019   \n",
       "\n",
       "               category  no_of_reviews  multiple  sentiment score  \n",
       "Unnamed: 0                                                         \n",
       "14510       moisturizer            1.0         0          0.84020  \n",
       "33543       moisturizer            1.0         0          0.86005  \n",
       "48002       moisturizer            1.0         0          0.94770  \n",
       "48007       moisturizer            1.0         0          0.88340  \n",
       "48030       moisturizer            1.0         0          0.83990  \n",
       "...                 ...            ...       ...              ...  \n",
       "236698      moisturizer            2.0         1          0.91840  \n",
       "236701      moisturizer            1.0         0          0.88900  \n",
       "236728      moisturizer            1.0         0          0.89100  \n",
       "236733      moisturizer            1.0         0          0.80160  \n",
       "237283      moisturizer            1.0         0          0.84020  \n",
       "\n",
       "[331 rows x 18 columns]"
      ]
     },
     "execution_count": 118,
     "metadata": {},
     "output_type": "execute_result"
    }
   ],
   "source": [
    "fake_by_sentiment_reviews = suspect.loc[abs(suspect['sentiment score']) >= 0.8]\n",
    "fake_by_sentiment_index = suspect.loc[abs(suspect['sentiment score']) >= 0.8].index\n",
    "fake_by_sentiment_reviews"
   ]
  },
  {
   "cell_type": "markdown",
   "metadata": {},
   "source": [
    "### 5. Reviews mentioning competitors brand"
   ]
  },
  {
   "cell_type": "code",
   "execution_count": 119,
   "metadata": {},
   "outputs": [],
   "source": [
    "#!pip install plotly\n",
    "#!pip install pyspellchecker"
   ]
  },
  {
   "cell_type": "code",
   "execution_count": 120,
   "metadata": {},
   "outputs": [],
   "source": [
    "# convert all text to lowercase and create a new column combining review_title and review\n",
    "m['review_title'] = m['review_title'].fillna(' ')\n",
    "m['review_title'] = m['review_title'].apply(lambda x: x.lower())\n",
    "m['review'] = m['review'].apply(lambda x: (' '+x).lower())\n",
    "m['title_and_review'] = m['review_title']+m['review']"
   ]
  },
  {
   "cell_type": "code",
   "execution_count": 121,
   "metadata": {},
   "outputs": [
    {
     "data": {
      "text/html": [
       "<div>\n",
       "<style scoped>\n",
       "    .dataframe tbody tr th:only-of-type {\n",
       "        vertical-align: middle;\n",
       "    }\n",
       "\n",
       "    .dataframe tbody tr th {\n",
       "        vertical-align: top;\n",
       "    }\n",
       "\n",
       "    .dataframe thead th {\n",
       "        text-align: right;\n",
       "    }\n",
       "</style>\n",
       "<table border=\"1\" class=\"dataframe\">\n",
       "  <thead>\n",
       "    <tr style=\"text-align: right;\">\n",
       "      <th></th>\n",
       "      <th>brand name</th>\n",
       "      <th>category 1</th>\n",
       "      <th>category 2</th>\n",
       "      <th>item id</th>\n",
       "      <th>loves</th>\n",
       "      <th>price</th>\n",
       "      <th>product name</th>\n",
       "      <th>rating</th>\n",
       "    </tr>\n",
       "  </thead>\n",
       "  <tbody>\n",
       "    <tr>\n",
       "      <td>0</td>\n",
       "      <td>la mer</td>\n",
       "      <td>moisturizer</td>\n",
       "      <td>moisturizer</td>\n",
       "      <td>1932201</td>\n",
       "      <td>70767.0</td>\n",
       "      <td>180.0</td>\n",
       "      <td>crème de la mer</td>\n",
       "      <td>4</td>\n",
       "    </tr>\n",
       "    <tr>\n",
       "      <td>1</td>\n",
       "      <td>kiehl's since 1851</td>\n",
       "      <td>moisturizer</td>\n",
       "      <td>moisturizer</td>\n",
       "      <td>2172526</td>\n",
       "      <td>77375.0</td>\n",
       "      <td>30.0</td>\n",
       "      <td>ultra facial cream</td>\n",
       "      <td>4</td>\n",
       "    </tr>\n",
       "    <tr>\n",
       "      <td>2</td>\n",
       "      <td>drunk elephant</td>\n",
       "      <td>moisturizer</td>\n",
       "      <td>moisturizer</td>\n",
       "      <td>2025633</td>\n",
       "      <td>192716.0</td>\n",
       "      <td>68.0</td>\n",
       "      <td>protini™ polypeptide moisturizer</td>\n",
       "      <td>4</td>\n",
       "    </tr>\n",
       "    <tr>\n",
       "      <td>3</td>\n",
       "      <td>la mer</td>\n",
       "      <td>moisturizer</td>\n",
       "      <td>moisturizer</td>\n",
       "      <td>1932235</td>\n",
       "      <td>25835.0</td>\n",
       "      <td>180.0</td>\n",
       "      <td>the moisturizing soft cream</td>\n",
       "      <td>4</td>\n",
       "    </tr>\n",
       "    <tr>\n",
       "      <td>4</td>\n",
       "      <td>tatcha</td>\n",
       "      <td>moisturizer</td>\n",
       "      <td>moisturizer</td>\n",
       "      <td>2181006</td>\n",
       "      <td>68333.0</td>\n",
       "      <td>68.0</td>\n",
       "      <td>the dewy skin cream</td>\n",
       "      <td>4</td>\n",
       "    </tr>\n",
       "    <tr>\n",
       "      <td>...</td>\n",
       "      <td>...</td>\n",
       "      <td>...</td>\n",
       "      <td>...</td>\n",
       "      <td>...</td>\n",
       "      <td>...</td>\n",
       "      <td>...</td>\n",
       "      <td>...</td>\n",
       "      <td>...</td>\n",
       "    </tr>\n",
       "    <tr>\n",
       "      <td>898</td>\n",
       "      <td>clinique</td>\n",
       "      <td>moisturizer</td>\n",
       "      <td>decollete &amp; neck cream</td>\n",
       "      <td>2240315</td>\n",
       "      <td>125.0</td>\n",
       "      <td>69.0</td>\n",
       "      <td>clinique smart clinical™ md multi-dimensional ...</td>\n",
       "      <td>3</td>\n",
       "    </tr>\n",
       "    <tr>\n",
       "      <td>899</td>\n",
       "      <td>eve lom</td>\n",
       "      <td>moisturizer</td>\n",
       "      <td>decollete &amp; neck cream</td>\n",
       "      <td>2286896</td>\n",
       "      <td>170.0</td>\n",
       "      <td>60.0</td>\n",
       "      <td>time retreat face &amp; neck sheet mask</td>\n",
       "      <td>N</td>\n",
       "    </tr>\n",
       "    <tr>\n",
       "      <td>900</td>\n",
       "      <td>maelys cosmetics</td>\n",
       "      <td>moisturizer</td>\n",
       "      <td>decollete &amp; neck cream</td>\n",
       "      <td>2267342</td>\n",
       "      <td>665.0</td>\n",
       "      <td>39.0</td>\n",
       "      <td>b-perky lift &amp; firm breast mask</td>\n",
       "      <td>4</td>\n",
       "    </tr>\n",
       "    <tr>\n",
       "      <td>901</td>\n",
       "      <td>nurse jamie</td>\n",
       "      <td>moisturizer</td>\n",
       "      <td>decollete &amp; neck cream</td>\n",
       "      <td>2112068</td>\n",
       "      <td>1638.0</td>\n",
       "      <td>28.0</td>\n",
       "      <td>neck &amp; décolléte wrap skin perfecting silicone...</td>\n",
       "      <td>2</td>\n",
       "    </tr>\n",
       "    <tr>\n",
       "      <td>902</td>\n",
       "      <td>estée lauder</td>\n",
       "      <td>moisturizer</td>\n",
       "      <td>decollete &amp; neck cream</td>\n",
       "      <td>1468024</td>\n",
       "      <td>879.0</td>\n",
       "      <td>82.0</td>\n",
       "      <td>resilience lift firming/sculpting face and nec...</td>\n",
       "      <td>3</td>\n",
       "    </tr>\n",
       "  </tbody>\n",
       "</table>\n",
       "<p>903 rows × 8 columns</p>\n",
       "</div>"
      ],
      "text/plain": [
       "             brand name   category 1              category 2  item id  \\\n",
       "0                la mer  moisturizer             moisturizer  1932201   \n",
       "1    kiehl's since 1851  moisturizer             moisturizer  2172526   \n",
       "2        drunk elephant  moisturizer             moisturizer  2025633   \n",
       "3                la mer  moisturizer             moisturizer  1932235   \n",
       "4                tatcha  moisturizer             moisturizer  2181006   \n",
       "..                  ...          ...                     ...      ...   \n",
       "898            clinique  moisturizer  decollete & neck cream  2240315   \n",
       "899             eve lom  moisturizer  decollete & neck cream  2286896   \n",
       "900    maelys cosmetics  moisturizer  decollete & neck cream  2267342   \n",
       "901         nurse jamie  moisturizer  decollete & neck cream  2112068   \n",
       "902        estée lauder  moisturizer  decollete & neck cream  1468024   \n",
       "\n",
       "        loves  price                                       product name rating  \n",
       "0     70767.0  180.0                                    crème de la mer      4  \n",
       "1     77375.0   30.0                                 ultra facial cream      4  \n",
       "2    192716.0   68.0                   protini™ polypeptide moisturizer      4  \n",
       "3     25835.0  180.0                        the moisturizing soft cream      4  \n",
       "4     68333.0   68.0                                the dewy skin cream      4  \n",
       "..        ...    ...                                                ...    ...  \n",
       "898     125.0   69.0  clinique smart clinical™ md multi-dimensional ...      3  \n",
       "899     170.0   60.0                time retreat face & neck sheet mask      N  \n",
       "900     665.0   39.0                    b-perky lift & firm breast mask      4  \n",
       "901    1638.0   28.0  neck & décolléte wrap skin perfecting silicone...      2  \n",
       "902     879.0   82.0  resilience lift firming/sculpting face and nec...      3  \n",
       "\n",
       "[903 rows x 8 columns]"
      ]
     },
     "execution_count": 121,
     "metadata": {},
     "output_type": "execute_result"
    }
   ],
   "source": [
    "product_info"
   ]
  },
  {
   "cell_type": "code",
   "execution_count": 122,
   "metadata": {},
   "outputs": [],
   "source": [
    "# Brand Mentioning\n",
    "def reviews_mentioning_brands(df, product_info):\n",
    "    reviewsdf = df\n",
    "    productsdf = product_info\n",
    "\n",
    "    import plotly.graph_objects as go\n",
    "    \n",
    "    #change reviews to lower case, use .loc to aviod chain index\n",
    "    reviewsdf.loc[:,'title_and_review'] = reviewsdf.loc[:,'title_and_review'].str.lower()\n",
    "    \n",
    "    #get all brands of this category, and a dictionary of product item id and brand name \n",
    "    #add spaces before and after brand name to reduce errors of searching brands in reviews\n",
    "    #e.g. if not doing so, the brand tarte appears in word \"started\", and would be regarded as a count \n",
    "    match = productsdf.set_index('item id')['brand name'].to_dict()\n",
    "    for i in match: \n",
    "        match[i] = ' {0} '.format(match[i])\n",
    "    brands_names = productsdf['brand name'].unique()\n",
    "    brands = [' {0} '.format(brand) for brand in brands_names]\n",
    "\n",
    "    #find mentioned brands and count in every review \n",
    "    review_dict = reviewsdf['title_and_review'].to_dict()\n",
    "    mentions = {}\n",
    "    counts = {}\n",
    "    for brand in brands:\n",
    "        for review_index in review_dict:\n",
    "            if brand in review_dict[review_index]:\n",
    "                mentions[review_index] = brand\n",
    "                counts[review_index] = review_dict[review_index].count(brand)\n",
    "    \n",
    "    #add mentioned brand, count, corresponing brand for every review\n",
    "    reviewsdf['brand'] = reviewsdf['item_id'].map(match)\n",
    "    reviewsdf['mentions'] = pd.Series(mentions)\n",
    "    reviewsdf['counts'] = pd.Series(counts)\n",
    "    reviewsdf['counts'] = reviewsdf['counts'].fillna(0)\n",
    "    \n",
    "    #make a pie plot to show the results\n",
    "    brands_mention = reviewsdf.groupby(['counts']).count()['total_reviews'].to_dict()\n",
    "    mentions_pie = go.Figure(data=[go.Pie(labels= [i for i in brands_mention], \n",
    "                                    values=[brands_mention[i] for i in brands_mention],\n",
    "                                    hole=.3, title_text = 'Mentions')])\n",
    "    mentions_pie.update_layout(height=600, width=600)\n",
    "    mentions_pie.show()\n",
    "    \n",
    "    #if a review mentions any brand more than or equal to three times, it is labled as fake \n",
    "    fake = []\n",
    "    for i in reviewsdf[reviewsdf['counts'] >= 2].index:\n",
    "        fake.append(i)\n",
    "        \n",
    "    return (reviewsdf,fake)\n",
    "\n",
    "    "
   ]
  },
  {
   "cell_type": "code",
   "execution_count": 141,
   "metadata": {},
   "outputs": [
    {
     "data": {
      "text/html": [
       "        <script type=\"text/javascript\">\n",
       "        window.PlotlyConfig = {MathJaxConfig: 'local'};\n",
       "        if (window.MathJax) {MathJax.Hub.Config({SVG: {font: \"STIX-Web\"}});}\n",
       "        if (typeof require !== 'undefined') {\n",
       "        require.undef(\"plotly\");\n",
       "        requirejs.config({\n",
       "            paths: {\n",
       "                'plotly': ['https://cdn.plot.ly/plotly-latest.min']\n",
       "            }\n",
       "        });\n",
       "        require(['plotly'], function(Plotly) {\n",
       "            window._Plotly = Plotly;\n",
       "        });\n",
       "        }\n",
       "        </script>\n",
       "        "
      ]
     },
     "metadata": {},
     "output_type": "display_data"
    }
   ],
   "source": [
    "import plotly\n",
    "plotly.offline.init_notebook_mode(connected=True)"
   ]
  },
  {
   "cell_type": "code",
   "execution_count": 123,
   "metadata": {},
   "outputs": [
    {
     "data": {
      "application/vnd.plotly.v1+json": {
       "config": {
        "plotlyServerURL": "https://plot.ly"
       },
       "data": [
        {
         "hole": 0.3,
         "labels": [
          0,
          1,
          2,
          3,
          4,
          5,
          6,
          7,
          8
         ],
         "title": {
          "text": "Mentions"
         },
         "type": "pie",
         "values": [
          193548,
          24616,
          2151,
          307,
          59,
          14,
          3,
          2,
          1
         ]
        }
       ],
       "layout": {
        "height": 600,
        "template": {
         "data": {
          "bar": [
           {
            "error_x": {
             "color": "#2a3f5f"
            },
            "error_y": {
             "color": "#2a3f5f"
            },
            "marker": {
             "line": {
              "color": "#E5ECF6",
              "width": 0.5
             }
            },
            "type": "bar"
           }
          ],
          "barpolar": [
           {
            "marker": {
             "line": {
              "color": "#E5ECF6",
              "width": 0.5
             }
            },
            "type": "barpolar"
           }
          ],
          "carpet": [
           {
            "aaxis": {
             "endlinecolor": "#2a3f5f",
             "gridcolor": "white",
             "linecolor": "white",
             "minorgridcolor": "white",
             "startlinecolor": "#2a3f5f"
            },
            "baxis": {
             "endlinecolor": "#2a3f5f",
             "gridcolor": "white",
             "linecolor": "white",
             "minorgridcolor": "white",
             "startlinecolor": "#2a3f5f"
            },
            "type": "carpet"
           }
          ],
          "choropleth": [
           {
            "colorbar": {
             "outlinewidth": 0,
             "ticks": ""
            },
            "type": "choropleth"
           }
          ],
          "contour": [
           {
            "colorbar": {
             "outlinewidth": 0,
             "ticks": ""
            },
            "colorscale": [
             [
              0,
              "#0d0887"
             ],
             [
              0.1111111111111111,
              "#46039f"
             ],
             [
              0.2222222222222222,
              "#7201a8"
             ],
             [
              0.3333333333333333,
              "#9c179e"
             ],
             [
              0.4444444444444444,
              "#bd3786"
             ],
             [
              0.5555555555555556,
              "#d8576b"
             ],
             [
              0.6666666666666666,
              "#ed7953"
             ],
             [
              0.7777777777777778,
              "#fb9f3a"
             ],
             [
              0.8888888888888888,
              "#fdca26"
             ],
             [
              1,
              "#f0f921"
             ]
            ],
            "type": "contour"
           }
          ],
          "contourcarpet": [
           {
            "colorbar": {
             "outlinewidth": 0,
             "ticks": ""
            },
            "type": "contourcarpet"
           }
          ],
          "heatmap": [
           {
            "colorbar": {
             "outlinewidth": 0,
             "ticks": ""
            },
            "colorscale": [
             [
              0,
              "#0d0887"
             ],
             [
              0.1111111111111111,
              "#46039f"
             ],
             [
              0.2222222222222222,
              "#7201a8"
             ],
             [
              0.3333333333333333,
              "#9c179e"
             ],
             [
              0.4444444444444444,
              "#bd3786"
             ],
             [
              0.5555555555555556,
              "#d8576b"
             ],
             [
              0.6666666666666666,
              "#ed7953"
             ],
             [
              0.7777777777777778,
              "#fb9f3a"
             ],
             [
              0.8888888888888888,
              "#fdca26"
             ],
             [
              1,
              "#f0f921"
             ]
            ],
            "type": "heatmap"
           }
          ],
          "heatmapgl": [
           {
            "colorbar": {
             "outlinewidth": 0,
             "ticks": ""
            },
            "colorscale": [
             [
              0,
              "#0d0887"
             ],
             [
              0.1111111111111111,
              "#46039f"
             ],
             [
              0.2222222222222222,
              "#7201a8"
             ],
             [
              0.3333333333333333,
              "#9c179e"
             ],
             [
              0.4444444444444444,
              "#bd3786"
             ],
             [
              0.5555555555555556,
              "#d8576b"
             ],
             [
              0.6666666666666666,
              "#ed7953"
             ],
             [
              0.7777777777777778,
              "#fb9f3a"
             ],
             [
              0.8888888888888888,
              "#fdca26"
             ],
             [
              1,
              "#f0f921"
             ]
            ],
            "type": "heatmapgl"
           }
          ],
          "histogram": [
           {
            "marker": {
             "colorbar": {
              "outlinewidth": 0,
              "ticks": ""
             }
            },
            "type": "histogram"
           }
          ],
          "histogram2d": [
           {
            "colorbar": {
             "outlinewidth": 0,
             "ticks": ""
            },
            "colorscale": [
             [
              0,
              "#0d0887"
             ],
             [
              0.1111111111111111,
              "#46039f"
             ],
             [
              0.2222222222222222,
              "#7201a8"
             ],
             [
              0.3333333333333333,
              "#9c179e"
             ],
             [
              0.4444444444444444,
              "#bd3786"
             ],
             [
              0.5555555555555556,
              "#d8576b"
             ],
             [
              0.6666666666666666,
              "#ed7953"
             ],
             [
              0.7777777777777778,
              "#fb9f3a"
             ],
             [
              0.8888888888888888,
              "#fdca26"
             ],
             [
              1,
              "#f0f921"
             ]
            ],
            "type": "histogram2d"
           }
          ],
          "histogram2dcontour": [
           {
            "colorbar": {
             "outlinewidth": 0,
             "ticks": ""
            },
            "colorscale": [
             [
              0,
              "#0d0887"
             ],
             [
              0.1111111111111111,
              "#46039f"
             ],
             [
              0.2222222222222222,
              "#7201a8"
             ],
             [
              0.3333333333333333,
              "#9c179e"
             ],
             [
              0.4444444444444444,
              "#bd3786"
             ],
             [
              0.5555555555555556,
              "#d8576b"
             ],
             [
              0.6666666666666666,
              "#ed7953"
             ],
             [
              0.7777777777777778,
              "#fb9f3a"
             ],
             [
              0.8888888888888888,
              "#fdca26"
             ],
             [
              1,
              "#f0f921"
             ]
            ],
            "type": "histogram2dcontour"
           }
          ],
          "mesh3d": [
           {
            "colorbar": {
             "outlinewidth": 0,
             "ticks": ""
            },
            "type": "mesh3d"
           }
          ],
          "parcoords": [
           {
            "line": {
             "colorbar": {
              "outlinewidth": 0,
              "ticks": ""
             }
            },
            "type": "parcoords"
           }
          ],
          "pie": [
           {
            "automargin": true,
            "type": "pie"
           }
          ],
          "scatter": [
           {
            "marker": {
             "colorbar": {
              "outlinewidth": 0,
              "ticks": ""
             }
            },
            "type": "scatter"
           }
          ],
          "scatter3d": [
           {
            "line": {
             "colorbar": {
              "outlinewidth": 0,
              "ticks": ""
             }
            },
            "marker": {
             "colorbar": {
              "outlinewidth": 0,
              "ticks": ""
             }
            },
            "type": "scatter3d"
           }
          ],
          "scattercarpet": [
           {
            "marker": {
             "colorbar": {
              "outlinewidth": 0,
              "ticks": ""
             }
            },
            "type": "scattercarpet"
           }
          ],
          "scattergeo": [
           {
            "marker": {
             "colorbar": {
              "outlinewidth": 0,
              "ticks": ""
             }
            },
            "type": "scattergeo"
           }
          ],
          "scattergl": [
           {
            "marker": {
             "colorbar": {
              "outlinewidth": 0,
              "ticks": ""
             }
            },
            "type": "scattergl"
           }
          ],
          "scattermapbox": [
           {
            "marker": {
             "colorbar": {
              "outlinewidth": 0,
              "ticks": ""
             }
            },
            "type": "scattermapbox"
           }
          ],
          "scatterpolar": [
           {
            "marker": {
             "colorbar": {
              "outlinewidth": 0,
              "ticks": ""
             }
            },
            "type": "scatterpolar"
           }
          ],
          "scatterpolargl": [
           {
            "marker": {
             "colorbar": {
              "outlinewidth": 0,
              "ticks": ""
             }
            },
            "type": "scatterpolargl"
           }
          ],
          "scatterternary": [
           {
            "marker": {
             "colorbar": {
              "outlinewidth": 0,
              "ticks": ""
             }
            },
            "type": "scatterternary"
           }
          ],
          "surface": [
           {
            "colorbar": {
             "outlinewidth": 0,
             "ticks": ""
            },
            "colorscale": [
             [
              0,
              "#0d0887"
             ],
             [
              0.1111111111111111,
              "#46039f"
             ],
             [
              0.2222222222222222,
              "#7201a8"
             ],
             [
              0.3333333333333333,
              "#9c179e"
             ],
             [
              0.4444444444444444,
              "#bd3786"
             ],
             [
              0.5555555555555556,
              "#d8576b"
             ],
             [
              0.6666666666666666,
              "#ed7953"
             ],
             [
              0.7777777777777778,
              "#fb9f3a"
             ],
             [
              0.8888888888888888,
              "#fdca26"
             ],
             [
              1,
              "#f0f921"
             ]
            ],
            "type": "surface"
           }
          ],
          "table": [
           {
            "cells": {
             "fill": {
              "color": "#EBF0F8"
             },
             "line": {
              "color": "white"
             }
            },
            "header": {
             "fill": {
              "color": "#C8D4E3"
             },
             "line": {
              "color": "white"
             }
            },
            "type": "table"
           }
          ]
         },
         "layout": {
          "annotationdefaults": {
           "arrowcolor": "#2a3f5f",
           "arrowhead": 0,
           "arrowwidth": 1
          },
          "coloraxis": {
           "colorbar": {
            "outlinewidth": 0,
            "ticks": ""
           }
          },
          "colorscale": {
           "diverging": [
            [
             0,
             "#8e0152"
            ],
            [
             0.1,
             "#c51b7d"
            ],
            [
             0.2,
             "#de77ae"
            ],
            [
             0.3,
             "#f1b6da"
            ],
            [
             0.4,
             "#fde0ef"
            ],
            [
             0.5,
             "#f7f7f7"
            ],
            [
             0.6,
             "#e6f5d0"
            ],
            [
             0.7,
             "#b8e186"
            ],
            [
             0.8,
             "#7fbc41"
            ],
            [
             0.9,
             "#4d9221"
            ],
            [
             1,
             "#276419"
            ]
           ],
           "sequential": [
            [
             0,
             "#0d0887"
            ],
            [
             0.1111111111111111,
             "#46039f"
            ],
            [
             0.2222222222222222,
             "#7201a8"
            ],
            [
             0.3333333333333333,
             "#9c179e"
            ],
            [
             0.4444444444444444,
             "#bd3786"
            ],
            [
             0.5555555555555556,
             "#d8576b"
            ],
            [
             0.6666666666666666,
             "#ed7953"
            ],
            [
             0.7777777777777778,
             "#fb9f3a"
            ],
            [
             0.8888888888888888,
             "#fdca26"
            ],
            [
             1,
             "#f0f921"
            ]
           ],
           "sequentialminus": [
            [
             0,
             "#0d0887"
            ],
            [
             0.1111111111111111,
             "#46039f"
            ],
            [
             0.2222222222222222,
             "#7201a8"
            ],
            [
             0.3333333333333333,
             "#9c179e"
            ],
            [
             0.4444444444444444,
             "#bd3786"
            ],
            [
             0.5555555555555556,
             "#d8576b"
            ],
            [
             0.6666666666666666,
             "#ed7953"
            ],
            [
             0.7777777777777778,
             "#fb9f3a"
            ],
            [
             0.8888888888888888,
             "#fdca26"
            ],
            [
             1,
             "#f0f921"
            ]
           ]
          },
          "colorway": [
           "#636efa",
           "#EF553B",
           "#00cc96",
           "#ab63fa",
           "#FFA15A",
           "#19d3f3",
           "#FF6692",
           "#B6E880",
           "#FF97FF",
           "#FECB52"
          ],
          "font": {
           "color": "#2a3f5f"
          },
          "geo": {
           "bgcolor": "white",
           "lakecolor": "white",
           "landcolor": "#E5ECF6",
           "showlakes": true,
           "showland": true,
           "subunitcolor": "white"
          },
          "hoverlabel": {
           "align": "left"
          },
          "hovermode": "closest",
          "mapbox": {
           "style": "light"
          },
          "paper_bgcolor": "white",
          "plot_bgcolor": "#E5ECF6",
          "polar": {
           "angularaxis": {
            "gridcolor": "white",
            "linecolor": "white",
            "ticks": ""
           },
           "bgcolor": "#E5ECF6",
           "radialaxis": {
            "gridcolor": "white",
            "linecolor": "white",
            "ticks": ""
           }
          },
          "scene": {
           "xaxis": {
            "backgroundcolor": "#E5ECF6",
            "gridcolor": "white",
            "gridwidth": 2,
            "linecolor": "white",
            "showbackground": true,
            "ticks": "",
            "zerolinecolor": "white"
           },
           "yaxis": {
            "backgroundcolor": "#E5ECF6",
            "gridcolor": "white",
            "gridwidth": 2,
            "linecolor": "white",
            "showbackground": true,
            "ticks": "",
            "zerolinecolor": "white"
           },
           "zaxis": {
            "backgroundcolor": "#E5ECF6",
            "gridcolor": "white",
            "gridwidth": 2,
            "linecolor": "white",
            "showbackground": true,
            "ticks": "",
            "zerolinecolor": "white"
           }
          },
          "shapedefaults": {
           "line": {
            "color": "#2a3f5f"
           }
          },
          "ternary": {
           "aaxis": {
            "gridcolor": "white",
            "linecolor": "white",
            "ticks": ""
           },
           "baxis": {
            "gridcolor": "white",
            "linecolor": "white",
            "ticks": ""
           },
           "bgcolor": "#E5ECF6",
           "caxis": {
            "gridcolor": "white",
            "linecolor": "white",
            "ticks": ""
           }
          },
          "title": {
           "x": 0.05
          },
          "xaxis": {
           "automargin": true,
           "gridcolor": "white",
           "linecolor": "white",
           "ticks": "",
           "title": {
            "standoff": 15
           },
           "zerolinecolor": "white",
           "zerolinewidth": 2
          },
          "yaxis": {
           "automargin": true,
           "gridcolor": "white",
           "linecolor": "white",
           "ticks": "",
           "title": {
            "standoff": 15
           },
           "zerolinecolor": "white",
           "zerolinewidth": 2
          }
         }
        },
        "width": 600
       }
      },
      "text/html": [
       "<div>\n",
       "        \n",
       "        \n",
       "            <div id=\"fbd3db5d-767f-4363-b42c-b61d9a700a6b\" class=\"plotly-graph-div\" style=\"height:600px; width:600px;\"></div>\n",
       "            <script type=\"text/javascript\">\n",
       "                require([\"plotly\"], function(Plotly) {\n",
       "                    window.PLOTLYENV=window.PLOTLYENV || {};\n",
       "                    \n",
       "                if (document.getElementById(\"fbd3db5d-767f-4363-b42c-b61d9a700a6b\")) {\n",
       "                    Plotly.newPlot(\n",
       "                        'fbd3db5d-767f-4363-b42c-b61d9a700a6b',\n",
       "                        [{\"hole\": 0.3, \"labels\": [0.0, 1.0, 2.0, 3.0, 4.0, 5.0, 6.0, 7.0, 8.0], \"title\": {\"text\": \"Mentions\"}, \"type\": \"pie\", \"values\": [193548, 24616, 2151, 307, 59, 14, 3, 2, 1]}],\n",
       "                        {\"height\": 600, \"template\": {\"data\": {\"bar\": [{\"error_x\": {\"color\": \"#2a3f5f\"}, \"error_y\": {\"color\": \"#2a3f5f\"}, \"marker\": {\"line\": {\"color\": \"#E5ECF6\", \"width\": 0.5}}, \"type\": \"bar\"}], \"barpolar\": [{\"marker\": {\"line\": {\"color\": \"#E5ECF6\", \"width\": 0.5}}, \"type\": \"barpolar\"}], \"carpet\": [{\"aaxis\": {\"endlinecolor\": \"#2a3f5f\", \"gridcolor\": \"white\", \"linecolor\": \"white\", \"minorgridcolor\": \"white\", \"startlinecolor\": \"#2a3f5f\"}, \"baxis\": {\"endlinecolor\": \"#2a3f5f\", \"gridcolor\": \"white\", \"linecolor\": \"white\", \"minorgridcolor\": \"white\", \"startlinecolor\": \"#2a3f5f\"}, \"type\": \"carpet\"}], \"choropleth\": [{\"colorbar\": {\"outlinewidth\": 0, \"ticks\": \"\"}, \"type\": \"choropleth\"}], \"contour\": [{\"colorbar\": {\"outlinewidth\": 0, \"ticks\": \"\"}, \"colorscale\": [[0.0, \"#0d0887\"], [0.1111111111111111, \"#46039f\"], [0.2222222222222222, \"#7201a8\"], [0.3333333333333333, \"#9c179e\"], [0.4444444444444444, \"#bd3786\"], [0.5555555555555556, \"#d8576b\"], [0.6666666666666666, \"#ed7953\"], [0.7777777777777778, \"#fb9f3a\"], [0.8888888888888888, \"#fdca26\"], [1.0, \"#f0f921\"]], \"type\": \"contour\"}], \"contourcarpet\": [{\"colorbar\": {\"outlinewidth\": 0, \"ticks\": \"\"}, \"type\": \"contourcarpet\"}], \"heatmap\": [{\"colorbar\": {\"outlinewidth\": 0, \"ticks\": \"\"}, \"colorscale\": [[0.0, \"#0d0887\"], [0.1111111111111111, \"#46039f\"], [0.2222222222222222, \"#7201a8\"], [0.3333333333333333, \"#9c179e\"], [0.4444444444444444, \"#bd3786\"], [0.5555555555555556, \"#d8576b\"], [0.6666666666666666, \"#ed7953\"], [0.7777777777777778, \"#fb9f3a\"], [0.8888888888888888, \"#fdca26\"], [1.0, \"#f0f921\"]], \"type\": \"heatmap\"}], \"heatmapgl\": [{\"colorbar\": {\"outlinewidth\": 0, \"ticks\": \"\"}, \"colorscale\": [[0.0, \"#0d0887\"], [0.1111111111111111, \"#46039f\"], [0.2222222222222222, \"#7201a8\"], [0.3333333333333333, \"#9c179e\"], [0.4444444444444444, \"#bd3786\"], [0.5555555555555556, \"#d8576b\"], [0.6666666666666666, \"#ed7953\"], [0.7777777777777778, \"#fb9f3a\"], [0.8888888888888888, \"#fdca26\"], [1.0, \"#f0f921\"]], \"type\": \"heatmapgl\"}], \"histogram\": [{\"marker\": {\"colorbar\": {\"outlinewidth\": 0, \"ticks\": \"\"}}, \"type\": \"histogram\"}], \"histogram2d\": [{\"colorbar\": {\"outlinewidth\": 0, \"ticks\": \"\"}, \"colorscale\": [[0.0, \"#0d0887\"], [0.1111111111111111, \"#46039f\"], [0.2222222222222222, \"#7201a8\"], [0.3333333333333333, \"#9c179e\"], [0.4444444444444444, \"#bd3786\"], [0.5555555555555556, \"#d8576b\"], [0.6666666666666666, \"#ed7953\"], [0.7777777777777778, \"#fb9f3a\"], [0.8888888888888888, \"#fdca26\"], [1.0, \"#f0f921\"]], \"type\": \"histogram2d\"}], \"histogram2dcontour\": [{\"colorbar\": {\"outlinewidth\": 0, \"ticks\": \"\"}, \"colorscale\": [[0.0, \"#0d0887\"], [0.1111111111111111, \"#46039f\"], [0.2222222222222222, \"#7201a8\"], [0.3333333333333333, \"#9c179e\"], [0.4444444444444444, \"#bd3786\"], [0.5555555555555556, \"#d8576b\"], [0.6666666666666666, \"#ed7953\"], [0.7777777777777778, \"#fb9f3a\"], [0.8888888888888888, \"#fdca26\"], [1.0, \"#f0f921\"]], \"type\": \"histogram2dcontour\"}], \"mesh3d\": [{\"colorbar\": {\"outlinewidth\": 0, \"ticks\": \"\"}, \"type\": \"mesh3d\"}], \"parcoords\": [{\"line\": {\"colorbar\": {\"outlinewidth\": 0, \"ticks\": \"\"}}, \"type\": \"parcoords\"}], \"pie\": [{\"automargin\": true, \"type\": \"pie\"}], \"scatter\": [{\"marker\": {\"colorbar\": {\"outlinewidth\": 0, \"ticks\": \"\"}}, \"type\": \"scatter\"}], \"scatter3d\": [{\"line\": {\"colorbar\": {\"outlinewidth\": 0, \"ticks\": \"\"}}, \"marker\": {\"colorbar\": {\"outlinewidth\": 0, \"ticks\": \"\"}}, \"type\": \"scatter3d\"}], \"scattercarpet\": [{\"marker\": {\"colorbar\": {\"outlinewidth\": 0, \"ticks\": \"\"}}, \"type\": \"scattercarpet\"}], \"scattergeo\": [{\"marker\": {\"colorbar\": {\"outlinewidth\": 0, \"ticks\": \"\"}}, \"type\": \"scattergeo\"}], \"scattergl\": [{\"marker\": {\"colorbar\": {\"outlinewidth\": 0, \"ticks\": \"\"}}, \"type\": \"scattergl\"}], \"scattermapbox\": [{\"marker\": {\"colorbar\": {\"outlinewidth\": 0, \"ticks\": \"\"}}, \"type\": \"scattermapbox\"}], \"scatterpolar\": [{\"marker\": {\"colorbar\": {\"outlinewidth\": 0, \"ticks\": \"\"}}, \"type\": \"scatterpolar\"}], \"scatterpolargl\": [{\"marker\": {\"colorbar\": {\"outlinewidth\": 0, \"ticks\": \"\"}}, \"type\": \"scatterpolargl\"}], \"scatterternary\": [{\"marker\": {\"colorbar\": {\"outlinewidth\": 0, \"ticks\": \"\"}}, \"type\": \"scatterternary\"}], \"surface\": [{\"colorbar\": {\"outlinewidth\": 0, \"ticks\": \"\"}, \"colorscale\": [[0.0, \"#0d0887\"], [0.1111111111111111, \"#46039f\"], [0.2222222222222222, \"#7201a8\"], [0.3333333333333333, \"#9c179e\"], [0.4444444444444444, \"#bd3786\"], [0.5555555555555556, \"#d8576b\"], [0.6666666666666666, \"#ed7953\"], [0.7777777777777778, \"#fb9f3a\"], [0.8888888888888888, \"#fdca26\"], [1.0, \"#f0f921\"]], \"type\": \"surface\"}], \"table\": [{\"cells\": {\"fill\": {\"color\": \"#EBF0F8\"}, \"line\": {\"color\": \"white\"}}, \"header\": {\"fill\": {\"color\": \"#C8D4E3\"}, \"line\": {\"color\": \"white\"}}, \"type\": \"table\"}]}, \"layout\": {\"annotationdefaults\": {\"arrowcolor\": \"#2a3f5f\", \"arrowhead\": 0, \"arrowwidth\": 1}, \"coloraxis\": {\"colorbar\": {\"outlinewidth\": 0, \"ticks\": \"\"}}, \"colorscale\": {\"diverging\": [[0, \"#8e0152\"], [0.1, \"#c51b7d\"], [0.2, \"#de77ae\"], [0.3, \"#f1b6da\"], [0.4, \"#fde0ef\"], [0.5, \"#f7f7f7\"], [0.6, \"#e6f5d0\"], [0.7, \"#b8e186\"], [0.8, \"#7fbc41\"], [0.9, \"#4d9221\"], [1, \"#276419\"]], \"sequential\": [[0.0, \"#0d0887\"], [0.1111111111111111, \"#46039f\"], [0.2222222222222222, \"#7201a8\"], [0.3333333333333333, \"#9c179e\"], [0.4444444444444444, \"#bd3786\"], [0.5555555555555556, \"#d8576b\"], [0.6666666666666666, \"#ed7953\"], [0.7777777777777778, \"#fb9f3a\"], [0.8888888888888888, \"#fdca26\"], [1.0, \"#f0f921\"]], \"sequentialminus\": [[0.0, \"#0d0887\"], [0.1111111111111111, \"#46039f\"], [0.2222222222222222, \"#7201a8\"], [0.3333333333333333, \"#9c179e\"], [0.4444444444444444, \"#bd3786\"], [0.5555555555555556, \"#d8576b\"], [0.6666666666666666, \"#ed7953\"], [0.7777777777777778, \"#fb9f3a\"], [0.8888888888888888, \"#fdca26\"], [1.0, \"#f0f921\"]]}, \"colorway\": [\"#636efa\", \"#EF553B\", \"#00cc96\", \"#ab63fa\", \"#FFA15A\", \"#19d3f3\", \"#FF6692\", \"#B6E880\", \"#FF97FF\", \"#FECB52\"], \"font\": {\"color\": \"#2a3f5f\"}, \"geo\": {\"bgcolor\": \"white\", \"lakecolor\": \"white\", \"landcolor\": \"#E5ECF6\", \"showlakes\": true, \"showland\": true, \"subunitcolor\": \"white\"}, \"hoverlabel\": {\"align\": \"left\"}, \"hovermode\": \"closest\", \"mapbox\": {\"style\": \"light\"}, \"paper_bgcolor\": \"white\", \"plot_bgcolor\": \"#E5ECF6\", \"polar\": {\"angularaxis\": {\"gridcolor\": \"white\", \"linecolor\": \"white\", \"ticks\": \"\"}, \"bgcolor\": \"#E5ECF6\", \"radialaxis\": {\"gridcolor\": \"white\", \"linecolor\": \"white\", \"ticks\": \"\"}}, \"scene\": {\"xaxis\": {\"backgroundcolor\": \"#E5ECF6\", \"gridcolor\": \"white\", \"gridwidth\": 2, \"linecolor\": \"white\", \"showbackground\": true, \"ticks\": \"\", \"zerolinecolor\": \"white\"}, \"yaxis\": {\"backgroundcolor\": \"#E5ECF6\", \"gridcolor\": \"white\", \"gridwidth\": 2, \"linecolor\": \"white\", \"showbackground\": true, \"ticks\": \"\", \"zerolinecolor\": \"white\"}, \"zaxis\": {\"backgroundcolor\": \"#E5ECF6\", \"gridcolor\": \"white\", \"gridwidth\": 2, \"linecolor\": \"white\", \"showbackground\": true, \"ticks\": \"\", \"zerolinecolor\": \"white\"}}, \"shapedefaults\": {\"line\": {\"color\": \"#2a3f5f\"}}, \"ternary\": {\"aaxis\": {\"gridcolor\": \"white\", \"linecolor\": \"white\", \"ticks\": \"\"}, \"baxis\": {\"gridcolor\": \"white\", \"linecolor\": \"white\", \"ticks\": \"\"}, \"bgcolor\": \"#E5ECF6\", \"caxis\": {\"gridcolor\": \"white\", \"linecolor\": \"white\", \"ticks\": \"\"}}, \"title\": {\"x\": 0.05}, \"xaxis\": {\"automargin\": true, \"gridcolor\": \"white\", \"linecolor\": \"white\", \"ticks\": \"\", \"title\": {\"standoff\": 15}, \"zerolinecolor\": \"white\", \"zerolinewidth\": 2}, \"yaxis\": {\"automargin\": true, \"gridcolor\": \"white\", \"linecolor\": \"white\", \"ticks\": \"\", \"title\": {\"standoff\": 15}, \"zerolinecolor\": \"white\", \"zerolinewidth\": 2}}}, \"width\": 600},\n",
       "                        {\"responsive\": true}\n",
       "                    ).then(function(){\n",
       "                            \n",
       "var gd = document.getElementById('fbd3db5d-767f-4363-b42c-b61d9a700a6b');\n",
       "var x = new MutationObserver(function (mutations, observer) {{\n",
       "        var display = window.getComputedStyle(gd).display;\n",
       "        if (!display || display === 'none') {{\n",
       "            console.log([gd, 'removed!']);\n",
       "            Plotly.purge(gd);\n",
       "            observer.disconnect();\n",
       "        }}\n",
       "}});\n",
       "\n",
       "// Listen for the removal of the full notebook cells\n",
       "var notebookContainer = gd.closest('#notebook-container');\n",
       "if (notebookContainer) {{\n",
       "    x.observe(notebookContainer, {childList: true});\n",
       "}}\n",
       "\n",
       "// Listen for the clearing of the current output cell\n",
       "var outputEl = gd.closest('.output');\n",
       "if (outputEl) {{\n",
       "    x.observe(outputEl, {childList: true});\n",
       "}}\n",
       "\n",
       "                        })\n",
       "                };\n",
       "                });\n",
       "            </script>\n",
       "        </div>"
      ]
     },
     "metadata": {},
     "output_type": "display_data"
    }
   ],
   "source": [
    "sample_df, fake_by_competitors_index = reviews_mentioning_brands(m, product_info)"
   ]
  },
  {
   "cell_type": "code",
   "execution_count": 124,
   "metadata": {},
   "outputs": [
    {
     "data": {
      "text/html": [
       "<div>\n",
       "<style scoped>\n",
       "    .dataframe tbody tr th:only-of-type {\n",
       "        vertical-align: middle;\n",
       "    }\n",
       "\n",
       "    .dataframe tbody tr th {\n",
       "        vertical-align: top;\n",
       "    }\n",
       "\n",
       "    .dataframe thead th {\n",
       "        text-align: right;\n",
       "    }\n",
       "</style>\n",
       "<table border=\"1\" class=\"dataframe\">\n",
       "  <thead>\n",
       "    <tr style=\"text-align: right;\">\n",
       "      <th></th>\n",
       "      <th>item_id</th>\n",
       "      <th>total_reviews</th>\n",
       "      <th>user_name</th>\n",
       "      <th>skin_type</th>\n",
       "      <th>skin_tone</th>\n",
       "      <th>age_range</th>\n",
       "      <th>review_title</th>\n",
       "      <th>review</th>\n",
       "      <th>review_rating</th>\n",
       "      <th>not_helpful</th>\n",
       "      <th>...</th>\n",
       "      <th>free_product</th>\n",
       "      <th>recommend</th>\n",
       "      <th>review_time</th>\n",
       "      <th>category</th>\n",
       "      <th>no_of_reviews</th>\n",
       "      <th>multiple</th>\n",
       "      <th>title_and_review</th>\n",
       "      <th>brand</th>\n",
       "      <th>mentions</th>\n",
       "      <th>counts</th>\n",
       "    </tr>\n",
       "    <tr>\n",
       "      <th>Unnamed: 0</th>\n",
       "      <th></th>\n",
       "      <th></th>\n",
       "      <th></th>\n",
       "      <th></th>\n",
       "      <th></th>\n",
       "      <th></th>\n",
       "      <th></th>\n",
       "      <th></th>\n",
       "      <th></th>\n",
       "      <th></th>\n",
       "      <th></th>\n",
       "      <th></th>\n",
       "      <th></th>\n",
       "      <th></th>\n",
       "      <th></th>\n",
       "      <th></th>\n",
       "      <th></th>\n",
       "      <th></th>\n",
       "      <th></th>\n",
       "      <th></th>\n",
       "      <th></th>\n",
       "    </tr>\n",
       "  </thead>\n",
       "  <tbody>\n",
       "    <tr>\n",
       "      <td>0</td>\n",
       "      <td>1932201</td>\n",
       "      <td>580</td>\n",
       "      <td>zombified</td>\n",
       "      <td>Combination</td>\n",
       "      <td>Tan</td>\n",
       "      <td>NaN</td>\n",
       "      <td>you'll get hooked!</td>\n",
       "      <td>i've heard so many great things about this--t...</td>\n",
       "      <td>5</td>\n",
       "      <td>220</td>\n",
       "      <td>...</td>\n",
       "      <td>0</td>\n",
       "      <td>1</td>\n",
       "      <td>7 Sep 2017</td>\n",
       "      <td>moisturizer</td>\n",
       "      <td>1.0</td>\n",
       "      <td>0</td>\n",
       "      <td>you'll get hooked! i've heard so many great th...</td>\n",
       "      <td>la mer</td>\n",
       "      <td>la mer</td>\n",
       "      <td>3.0</td>\n",
       "    </tr>\n",
       "    <tr>\n",
       "      <td>1</td>\n",
       "      <td>1932201</td>\n",
       "      <td>580</td>\n",
       "      <td>Stripper</td>\n",
       "      <td>Dry</td>\n",
       "      <td>Medium</td>\n",
       "      <td>NaN</td>\n",
       "      <td>good but not 170 dollars per ounce good</td>\n",
       "      <td>good? yes! 170 dollars per ounce good? not qu...</td>\n",
       "      <td>4</td>\n",
       "      <td>70</td>\n",
       "      <td>...</td>\n",
       "      <td>0</td>\n",
       "      <td>1</td>\n",
       "      <td>30 Apr 2018</td>\n",
       "      <td>moisturizer</td>\n",
       "      <td>1.0</td>\n",
       "      <td>0</td>\n",
       "      <td>good but not 170 dollars per ounce good good? ...</td>\n",
       "      <td>la mer</td>\n",
       "      <td>la mer</td>\n",
       "      <td>1.0</td>\n",
       "    </tr>\n",
       "    <tr>\n",
       "      <td>2</td>\n",
       "      <td>1932201</td>\n",
       "      <td>580</td>\n",
       "      <td>alephbet</td>\n",
       "      <td>Oily</td>\n",
       "      <td>Medium</td>\n",
       "      <td>35-44</td>\n",
       "      <td>unbelievable!</td>\n",
       "      <td>i have rosacea and had been using first aid s...</td>\n",
       "      <td>5</td>\n",
       "      <td>60</td>\n",
       "      <td>...</td>\n",
       "      <td>0</td>\n",
       "      <td>0</td>\n",
       "      <td>22 Mar 2017</td>\n",
       "      <td>moisturizer</td>\n",
       "      <td>1.0</td>\n",
       "      <td>0</td>\n",
       "      <td>unbelievable! i have rosacea and had been usin...</td>\n",
       "      <td>la mer</td>\n",
       "      <td>la mer</td>\n",
       "      <td>1.0</td>\n",
       "    </tr>\n",
       "    <tr>\n",
       "      <td>3</td>\n",
       "      <td>1932201</td>\n",
       "      <td>580</td>\n",
       "      <td>ShelbyWW</td>\n",
       "      <td>Combination</td>\n",
       "      <td>Medium</td>\n",
       "      <td>NaN</td>\n",
       "      <td></td>\n",
       "      <td>got a free sample size and unfortunately it's...</td>\n",
       "      <td>5</td>\n",
       "      <td>38</td>\n",
       "      <td>...</td>\n",
       "      <td>0</td>\n",
       "      <td>1</td>\n",
       "      <td>12 Sep 2018</td>\n",
       "      <td>moisturizer</td>\n",
       "      <td>1.0</td>\n",
       "      <td>0</td>\n",
       "      <td>got a free sample size and unfortunately it'...</td>\n",
       "      <td>la mer</td>\n",
       "      <td>NaN</td>\n",
       "      <td>0.0</td>\n",
       "    </tr>\n",
       "    <tr>\n",
       "      <td>4</td>\n",
       "      <td>1932201</td>\n",
       "      <td>580</td>\n",
       "      <td>meshybelle</td>\n",
       "      <td>Combination</td>\n",
       "      <td>Medium</td>\n",
       "      <td>45-54</td>\n",
       "      <td>worth it.</td>\n",
       "      <td>pricey? you betcha! worth it? yup!! my skin h...</td>\n",
       "      <td>5</td>\n",
       "      <td>52</td>\n",
       "      <td>...</td>\n",
       "      <td>0</td>\n",
       "      <td>0</td>\n",
       "      <td>23 May 2017</td>\n",
       "      <td>moisturizer</td>\n",
       "      <td>1.0</td>\n",
       "      <td>0</td>\n",
       "      <td>worth it. pricey? you betcha! worth it? yup!! ...</td>\n",
       "      <td>la mer</td>\n",
       "      <td>NaN</td>\n",
       "      <td>0.0</td>\n",
       "    </tr>\n",
       "  </tbody>\n",
       "</table>\n",
       "<p>5 rows × 21 columns</p>\n",
       "</div>"
      ],
      "text/plain": [
       "            item_id  total_reviews   user_name    skin_type skin_tone  \\\n",
       "Unnamed: 0                                                              \n",
       "0           1932201            580   zombified  Combination       Tan   \n",
       "1           1932201            580    Stripper          Dry    Medium   \n",
       "2           1932201            580    alephbet         Oily    Medium   \n",
       "3           1932201            580    ShelbyWW  Combination    Medium   \n",
       "4           1932201            580  meshybelle  Combination    Medium   \n",
       "\n",
       "           age_range                             review_title  \\\n",
       "Unnamed: 0                                                      \n",
       "0                NaN                       you'll get hooked!   \n",
       "1                NaN  good but not 170 dollars per ounce good   \n",
       "2              35-44                            unbelievable!   \n",
       "3                NaN                                            \n",
       "4              45-54                                worth it.   \n",
       "\n",
       "                                                       review  review_rating  \\\n",
       "Unnamed: 0                                                                     \n",
       "0            i've heard so many great things about this--t...              5   \n",
       "1            good? yes! 170 dollars per ounce good? not qu...              4   \n",
       "2            i have rosacea and had been using first aid s...              5   \n",
       "3            got a free sample size and unfortunately it's...              5   \n",
       "4            pricey? you betcha! worth it? yup!! my skin h...              5   \n",
       "\n",
       "            not_helpful  ...  free_product  recommend  review_time  \\\n",
       "Unnamed: 0               ...                                         \n",
       "0                   220  ...             0          1   7 Sep 2017   \n",
       "1                    70  ...             0          1  30 Apr 2018   \n",
       "2                    60  ...             0          0  22 Mar 2017   \n",
       "3                    38  ...             0          1  12 Sep 2018   \n",
       "4                    52  ...             0          0  23 May 2017   \n",
       "\n",
       "               category no_of_reviews  multiple  \\\n",
       "Unnamed: 0                                        \n",
       "0           moisturizer           1.0         0   \n",
       "1           moisturizer           1.0         0   \n",
       "2           moisturizer           1.0         0   \n",
       "3           moisturizer           1.0         0   \n",
       "4           moisturizer           1.0         0   \n",
       "\n",
       "                                             title_and_review     brand  \\\n",
       "Unnamed: 0                                                                \n",
       "0           you'll get hooked! i've heard so many great th...   la mer    \n",
       "1           good but not 170 dollars per ounce good good? ...   la mer    \n",
       "2           unbelievable! i have rosacea and had been usin...   la mer    \n",
       "3             got a free sample size and unfortunately it'...   la mer    \n",
       "4           worth it. pricey? you betcha! worth it? yup!! ...   la mer    \n",
       "\n",
       "            mentions counts  \n",
       "Unnamed: 0                   \n",
       "0            la mer     3.0  \n",
       "1            la mer     1.0  \n",
       "2            la mer     1.0  \n",
       "3                NaN    0.0  \n",
       "4                NaN    0.0  \n",
       "\n",
       "[5 rows x 21 columns]"
      ]
     },
     "execution_count": 124,
     "metadata": {},
     "output_type": "execute_result"
    }
   ],
   "source": [
    "sample_df.head()"
   ]
  },
  {
   "cell_type": "code",
   "execution_count": 125,
   "metadata": {},
   "outputs": [
    {
     "data": {
      "text/plain": [
       "2537"
      ]
     },
     "execution_count": 125,
     "metadata": {},
     "output_type": "execute_result"
    }
   ],
   "source": [
    "len(fake_by_competitors_index)"
   ]
  },
  {
   "cell_type": "markdown",
   "metadata": {},
   "source": [
    "### 6. Reviews with more typos above 95 percentile"
   ]
  },
  {
   "cell_type": "code",
   "execution_count": 126,
   "metadata": {},
   "outputs": [],
   "source": [
    "def reviews_typo(reviewsdataframe):\n",
    "\n",
    "    import re\n",
    "    from spellchecker import SpellChecker\n",
    "    spell = SpellChecker()\n",
    "    \n",
    "    # analyze typo for reviews with extreme ratings \n",
    "    reviews_extremeratings = reviewsdataframe[(reviewsdataframe['review_rating'] == 1) | (reviewsdataframe['review_rating'] == 5)]\n",
    "    extreme_reviews = reviews_extremeratings['title_and_review']\n",
    "    \n",
    "    # use regex to findall words and abbrevations in the review\n",
    "    pattern = r'[a-zA-Z]+[\\’]*[\\']*[a-zA-Z]+'\n",
    "    allwords = {}\n",
    "    mis = {}\n",
    "    for i in extreme_reviews.index:\n",
    "        match = re.findall(pattern,extreme_reviews[i])\n",
    "        allwords[i] = match\n",
    "        misspelled = spell.unknown(match)\n",
    "        mis[i] = misspelled\n",
    "\n",
    "    # since SpellChecker would identify couldn't as correct, but i've as typo, we filter abbreviations from last step\n",
    "    filtered_mis = {}\n",
    "    pattern2 = r'^[a-zA-Z]+$'\n",
    "    for i in mis:\n",
    "        matches = []\n",
    "        for words in mis[i]:\n",
    "            match = re.search(pattern2,words)\n",
    "            if match:\n",
    "                matches.append(match.string)\n",
    "        filtered_mis[i] = matches\n",
    "\n",
    "    # analyze what percentage of a review is typo, choose 95 percentile  as the cutoff to label typo\n",
    "    # limitaion: SpellChecker only works for English, reviews in other languages will be identified as typo though they may actually not \n",
    "    ratio = {}\n",
    "    for i in allwords:\n",
    "        ratio[i] = len(filtered_mis[i])/len(allwords[i])\n",
    "    cutoff = float(pd.Series(ratio).quantile([0.95]))\n",
    "    fake = {}\n",
    "    print(ratio)\n",
    "    for i in ratio:\n",
    "        if ratio[i] >= cutoff:\n",
    "            fake[i] = 1         \n",
    "    return fake"
   ]
  },
  {
   "cell_type": "code",
   "execution_count": 127,
   "metadata": {},
   "outputs": [
    {
     "name": "stderr",
     "output_type": "stream",
     "text": [
      "IOPub data rate exceeded.\n",
      "The notebook server will temporarily stop sending output\n",
      "to the client in order to avoid crashing it.\n",
      "To change this limit, set the config variable\n",
      "`--NotebookApp.iopub_data_rate_limit`.\n",
      "\n",
      "Current values:\n",
      "NotebookApp.iopub_data_rate_limit=1000000.0 (bytes/sec)\n",
      "NotebookApp.rate_limit_window=3.0 (secs)\n",
      "\n"
     ]
    }
   ],
   "source": [
    "fake_by_typos_index = reviews_typo(m)"
   ]
  },
  {
   "cell_type": "code",
   "execution_count": 128,
   "metadata": {},
   "outputs": [
    {
     "data": {
      "text/plain": [
       "7682"
      ]
     },
     "execution_count": 128,
     "metadata": {},
     "output_type": "execute_result"
    }
   ],
   "source": [
    "len(fake_by_typos_index)"
   ]
  },
  {
   "cell_type": "markdown",
   "metadata": {},
   "source": [
    "### 7. Time interval analysis: \n",
    "Do weekly analysis of the volume of reviews for each product.<br>\n",
    "Define a threshold (1.96σ above average) for rapid growth and extract reviews in such weeks, then apply the following two criteria:<br>\n",
    "<li>Reviews mentioning competitor brands → fake\n",
    "<li>Look at the ‘not helpful’ versus ‘helpful’ in each review, if unhelpfulness exceeds 70% → fake\n"
   ]
  },
  {
   "cell_type": "code",
   "execution_count": 129,
   "metadata": {},
   "outputs": [],
   "source": [
    "# Times interval analysis\n",
    "import csv\n",
    "import matplotlib.pyplot as plt\n",
    "import datetime\n",
    "import statistics\n",
    "\n",
    "brand_dict = {}\n",
    "brands = set()\n",
    "#portion_rate = 0.0\n",
    "\n",
    "def loadData(file_name):\n",
    "    data = {}\n",
    "    file = open(file_name)\n",
    "    csv_file = csv.reader(file)\n",
    "    #print(csv_file)\n",
    "\n",
    "    #header = next(csv_file)\n",
    "    #index = 0\n",
    "\n",
    "    for line in csv_file:\n",
    "        #print(line)\n",
    "        try:\n",
    "# =============================================================================\n",
    "#             index += 1\n",
    "#             if index >= 580:\n",
    "#                 break\n",
    "# =============================================================================\n",
    "\n",
    "            index = line[0]\n",
    "            item_id = line[1]\n",
    "            review = line[8]\n",
    "            not_helpful = line[10]\n",
    "            helpful = line[11]\n",
    "            review_time = line[14]\n",
    "            (year, week, weekday) = datetime.datetime.strptime(review_time, \"%d %b %Y\").isocalendar()\n",
    "            if item_id not in data:\n",
    "                data[item_id] = {}\n",
    "\n",
    "            if (year, week) not in data[item_id]:\n",
    "                data[item_id][(year, week)] = []\n",
    "\n",
    "            data[item_id][(year, week)].append([index, review, not_helpful, helpful])\n",
    "            \n",
    "            # dict of dict; item_id as the key, with a dict as value, in which (year, week) as the key and reviews\n",
    "            # and helpfulness as the value of the inner dict\n",
    "        except:\n",
    "            try:\n",
    "                (year, week, weekday) = datetime.datetime.strptime(review_time, \"%d-%b-%Y\").isocalendar()   #there are two types of datetime in our data\n",
    "            except:\n",
    "                pass\n",
    "    return data\n",
    "        \n",
    "file_name = \"Cleaned Moisturizers Reviews.csv\"\n",
    "data = loadData(file_name)"
   ]
  },
  {
   "cell_type": "code",
   "execution_count": 130,
   "metadata": {},
   "outputs": [],
   "source": [
    "def threshold(item_id):\n",
    "    counts = []\n",
    "    for (key, value) in data[item_id].items():\n",
    "        counts.append(len(value))\n",
    "    \n",
    "    avg = sum(counts) / len(counts)\n",
    "    sd = statistics.pstdev(counts)\n",
    "    threshold = avg + 1.96 * sd\n",
    "    return threshold\n",
    "\n",
    "\n",
    "data_new = {}\n",
    "def weeks():\n",
    "    for (item, values) in data.items():\n",
    "\n",
    "        limit = threshold(item)\n",
    "        #print(limit)\n",
    "        for (week, reviews) in values.items():\n",
    "            if len(reviews) >= limit and len(reviews) > 30:\n",
    "                if item not in data_new:\n",
    "                    data_new[item] = {}\n",
    "                data_new[item][week] = reviews      \n",
    "weeks()"
   ]
  },
  {
   "cell_type": "code",
   "execution_count": 131,
   "metadata": {},
   "outputs": [
    {
     "name": "stderr",
     "output_type": "stream",
     "text": [
      "IOPub data rate exceeded.\n",
      "The notebook server will temporarily stop sending output\n",
      "to the client in order to avoid crashing it.\n",
      "To change this limit, set the config variable\n",
      "`--NotebookApp.iopub_data_rate_limit`.\n",
      "\n",
      "Current values:\n",
      "NotebookApp.iopub_data_rate_limit=1000000.0 (bytes/sec)\n",
      "NotebookApp.rate_limit_window=3.0 (secs)\n",
      "\n"
     ]
    },
    {
     "data": {
      "image/png": "[encoded data removed]",
      "text/plain": [
       "<Figure size 1440x1440 with 1 Axes>"
      ]
     },
     "metadata": {
      "needs_background": "light"
     },
     "output_type": "display_data"
    }
   ],
   "source": [
    "def load_brand_dict(brand_data_file):\n",
    "    file = open(brand_data_file)\n",
    "    csv_reader = csv.reader(file)\n",
    "    header = next(csv_reader)\n",
    "    for line in csv_reader:\n",
    "        brand = line[1]\n",
    "        item_id = line[4]\n",
    "        brand_dict[item_id] = brand\n",
    "        brands.add(brand)\n",
    "\n",
    "brand_data_file = 'All Moisturizers Ino.csv'\n",
    "load_brand_dict(brand_data_file)\n",
    "#brands\n",
    "#brand_dict\n",
    "\n",
    "\n",
    "def draw(item_id):\n",
    "    print(data)\n",
    "    item_reviews_dict = data[item_id]\n",
    "    # print(item_reviews_dict)\n",
    "\n",
    "    item_reviews_count_dict = {}\n",
    "    for week, reviews in item_reviews_dict.items():\n",
    "        item_reviews_count_dict[week] = len(reviews)\n",
    "    # print(item_reviews_count_dict)\n",
    "    # sort by year and week\n",
    "    sort = sorted(item_reviews_count_dict.items(), key=lambda x: x[0], reverse=False)\n",
    "\n",
    "    x = []\n",
    "    y = []\n",
    "    \n",
    "    for (week_key, count) in sort:\n",
    "        x.append(str(week_key))\n",
    "        y.append(count)\n",
    "\n",
    "    plt.figure(figsize=(20, 20))\n",
    "    plt.plot(x, y)\n",
    "    plt.xticks(rotation=90)\n",
    "\n",
    "    plt.xlabel('year, week')\n",
    "\n",
    "    plt.ylabel('review count')\n",
    "\n",
    "    for a, b in zip(x, y):\n",
    "        if b == 21:\n",
    "            plt.text(a, b, b, ha='center', va='bottom')\n",
    "        else:\n",
    "            plt.text(a, b, b, ha='center', va='bottom')\n",
    "\n",
    "    plt.show()\n",
    "    \n",
    "draw('1932201')"
   ]
  },
  {
   "cell_type": "code",
   "execution_count": 132,
   "metadata": {},
   "outputs": [],
   "source": [
    "def draw_key_point(item_id, key_points):\n",
    "    # select certain time intervals and see the change in review numbers\n",
    "    key_points = [str(i) for i in key_points]\n",
    "    item_reviews_dict = data[item_id]\n",
    "    # print(item_reviews_dict)\n",
    "\n",
    "    item_reviews_count_dict = {}\n",
    "    for week, reviews in item_reviews_dict.items():\n",
    "        item_reviews_count_dict[week] = len(reviews)\n",
    "    # print(item_reviews_count_dict)\n",
    "    # sort by year and week\n",
    "    sort = sorted(item_reviews_count_dict.items(), key=lambda x: x[0], reverse=False)\n",
    "\n",
    "    x = []\n",
    "    y = []\n",
    "    for (week_key, count) in sort:\n",
    "        x.append(str(week_key))\n",
    "        y.append(count)\n",
    "\n",
    "    plt.figure(figsize=(20, 20))\n",
    "    plt.plot(x, y)\n",
    "\n",
    "    # for index in range(len(x)):\n",
    "    #     if x[index] in key_points:\n",
    "    #         plt.plot([x[index]], [y[index]], '-o', color=\"red\")\n",
    "    #     else:\n",
    "    #         plt.plot([x[index]], [y[index]], '-o', color=\"blue\")\n",
    "    # plt.plot(x, y)\n",
    "    plt.xticks(rotation=90)\n",
    "\n",
    "    plt.xlabel('year, week')\n",
    "\n",
    "    plt.ylabel('review count')\n",
    "\n",
    "    for a, b in zip(x, y):\n",
    "        if b == 21:\n",
    "            plt.text(a, b, b, ha='center', va='bottom', )\n",
    "        else:\n",
    "            plt.text(a, b, b, ha='center', va='bottom')\n",
    "\n",
    "    for key_point in key_points:\n",
    "        print(key_point)\n",
    "        plt.plot([key_point], [y[x.index(key_point)]], '-o', color=\"red\")\n",
    "    plt.show()\n",
    "\n",
    "\n",
    "\n",
    "indexes = []\n",
    "def select(item_id):\n",
    "    #item_id = str(item_id)\n",
    "    \n",
    "    reviews = data_new[item_id]\n",
    "    #reviews_count = len(reviews)\n",
    "    #print(f'item_id: {item_id}, year: {year}, week: {week}, reviews count: {reviews_count}')\n",
    "\n",
    "    portion_reviews = []\n",
    "    competitive_brand_reviews = []\n",
    "    \n",
    "    for (week, info) in reviews.items():\n",
    "        \n",
    "        for review in info:\n",
    "            index = review[0]\n",
    "            review_text = review[1].lower()\n",
    "            not_helpful = int(review[2])\n",
    "            helpful = int(review[3])\n",
    "\n",
    "            try:\n",
    "                portion = not_helpful / (helpful + not_helpful)\n",
    "            except:\n",
    "                portion = 0\n",
    "\n",
    "            # analyze not_helpful helpful rate\n",
    "            portion_rate = 0.7\n",
    "            if portion > portion_rate:\n",
    "                portion_reviews.append((review_text))\n",
    "                indexes.append(index)\n",
    "\n",
    "            # analyze competitive brand\n",
    "            review_word_list = review_text.split(' ')\n",
    "            competitive_brands = set()\n",
    "            for review_word in review_word_list:\n",
    "                if review_word in brands and review_word not in brand_dict[item_id]:\n",
    "                    competitive_brands.add(review_word)\n",
    "\n",
    "            if len(list(competitive_brands)):\n",
    "                competitive_brand_reviews.append((review_text, list(competitive_brands)))\n",
    "                if index not in indexes:\n",
    "                    indexes.append(index)\n",
    "                \n",
    "    return portion_reviews, competitive_brand_reviews, indexes\n",
    "    \n",
    "for (item_id, values) in data_new.items():\n",
    "    select(item_id)\n",
    "\n",
    "fake_by_analysis_index = [int(i) for i in indexes] \n",
    "fake_by_analysis_index.sort()"
   ]
  },
  {
   "cell_type": "code",
   "execution_count": 133,
   "metadata": {},
   "outputs": [
    {
     "data": {
      "text/plain": [
       "2050"
      ]
     },
     "execution_count": 133,
     "metadata": {},
     "output_type": "execute_result"
    }
   ],
   "source": [
    "len(fake_by_analysis_index)"
   ]
  },
  {
   "cell_type": "markdown",
   "metadata": {},
   "source": [
    "# Combine all the indices and label fake reviews"
   ]
  },
  {
   "cell_type": "code",
   "execution_count": 134,
   "metadata": {},
   "outputs": [
    {
     "data": {
      "text/plain": [
       "22682"
      ]
     },
     "execution_count": 134,
     "metadata": {},
     "output_type": "execute_result"
    }
   ],
   "source": [
    "fake_index_set = set(list(fake_by_duplicated_index) + list(fake_by_sentiment_index) + list(fake_by_multiple_reviews_index )  + list(fake_by_similarity_index) + list(fake_by_competitors_index) + list(fake_by_typos_index) + list(fake_by_analysis_index))\n",
    "len(fake_index_set)"
   ]
  },
  {
   "cell_type": "code",
   "execution_count": 135,
   "metadata": {},
   "outputs": [],
   "source": [
    "index_dict = {i: 1 if i in fake_index_set else 0 for i in m.index}\n",
    "m['fake'] =pd.Series(index_dict)"
   ]
  },
  {
   "cell_type": "code",
   "execution_count": 136,
   "metadata": {},
   "outputs": [],
   "source": [
    "#m.to_csv('All Moisturizers Labelled.csv')"
   ]
  },
  {
   "cell_type": "code",
   "execution_count": 137,
   "metadata": {},
   "outputs": [],
   "source": [
    "id_category = {product_info['item id'][i]: product_info['category 2'][i] for i in range(len(product_info))}"
   ]
  },
  {
   "cell_type": "code",
   "execution_count": 138,
   "metadata": {},
   "outputs": [
    {
     "data": {
      "text/plain": [
       "category\n",
       "bb & cc cream              24288\n",
       "decollete & neck cream       865\n",
       "face oil                   33384\n",
       "mists & essences           21177\n",
       "moisturizer               107967\n",
       "night cream                33020\n",
       "dtype: int64"
      ]
     },
     "execution_count": 138,
     "metadata": {},
     "output_type": "execute_result"
    }
   ],
   "source": [
    "m['category'] = [id_category.get(m['item_id'][i])  for i in m.index]\n",
    "m = m[(m['category'].notnull())]\n",
    "moisturizer = m.loc[m['category'] == 'moisturizer']\n",
    "night_cream = m.loc[m['category'] == 'night cream']\n",
    "face_oil = m.loc[m['category'] == 'face oil']\n",
    "mists_essences = m.loc[m['category'] == 'mists & essences']\n",
    "decollete_neckcream = m.loc[m['category'] == 'decollete & neck cream']\n",
    "bb_cc_cream = m.loc[m['category'] == 'bb & cc cream']\n",
    "m.groupby('category').size()"
   ]
  },
  {
   "cell_type": "code",
   "execution_count": 139,
   "metadata": {},
   "outputs": [],
   "source": [
    "# moisturizer.to_csv('Labelled_mositurizer.csv')\n",
    "# night_cream.to_csv('Labelled_night_cream.csv')\n",
    "# face_oil.to_csv('Labelled_face_oil.csv')\n",
    "# mists_essences.to_csv('Labelled_mists_essences.csv')\n",
    "# decollete_neckcream.to_csv('Labelled_decollete_neckcream.csv')\n",
    "# bb_cc_cream.to_csv('Labelled_bb_cc_cream.csv')"
   ]
  },
  {
   "cell_type": "code",
   "execution_count": 147,
   "metadata": {},
   "outputs": [
    {
     "data": {
      "text/html": [
       "<div>\n",
       "<style scoped>\n",
       "    .dataframe tbody tr th:only-of-type {\n",
       "        vertical-align: middle;\n",
       "    }\n",
       "\n",
       "    .dataframe tbody tr th {\n",
       "        vertical-align: top;\n",
       "    }\n",
       "\n",
       "    .dataframe thead tr th {\n",
       "        text-align: left;\n",
       "    }\n",
       "\n",
       "    .dataframe thead tr:last-of-type th {\n",
       "        text-align: right;\n",
       "    }\n",
       "</style>\n",
       "<table border=\"1\" class=\"dataframe\">\n",
       "  <thead>\n",
       "    <tr>\n",
       "      <th></th>\n",
       "      <th colspan=\"8\" halign=\"left\">total_reviews</th>\n",
       "      <th colspan=\"2\" halign=\"left\">review_rating</th>\n",
       "      <th>...</th>\n",
       "      <th colspan=\"2\" halign=\"left\">counts</th>\n",
       "      <th colspan=\"8\" halign=\"left\">fake</th>\n",
       "    </tr>\n",
       "    <tr>\n",
       "      <th></th>\n",
       "      <th>count</th>\n",
       "      <th>mean</th>\n",
       "      <th>std</th>\n",
       "      <th>min</th>\n",
       "      <th>25%</th>\n",
       "      <th>50%</th>\n",
       "      <th>75%</th>\n",
       "      <th>max</th>\n",
       "      <th>count</th>\n",
       "      <th>mean</th>\n",
       "      <th>...</th>\n",
       "      <th>75%</th>\n",
       "      <th>max</th>\n",
       "      <th>count</th>\n",
       "      <th>mean</th>\n",
       "      <th>std</th>\n",
       "      <th>min</th>\n",
       "      <th>25%</th>\n",
       "      <th>50%</th>\n",
       "      <th>75%</th>\n",
       "      <th>max</th>\n",
       "    </tr>\n",
       "    <tr>\n",
       "      <th>item_id</th>\n",
       "      <th></th>\n",
       "      <th></th>\n",
       "      <th></th>\n",
       "      <th></th>\n",
       "      <th></th>\n",
       "      <th></th>\n",
       "      <th></th>\n",
       "      <th></th>\n",
       "      <th></th>\n",
       "      <th></th>\n",
       "      <th></th>\n",
       "      <th></th>\n",
       "      <th></th>\n",
       "      <th></th>\n",
       "      <th></th>\n",
       "      <th></th>\n",
       "      <th></th>\n",
       "      <th></th>\n",
       "      <th></th>\n",
       "      <th></th>\n",
       "      <th></th>\n",
       "    </tr>\n",
       "  </thead>\n",
       "  <tbody>\n",
       "    <tr>\n",
       "      <td>74476</td>\n",
       "      <td>258.0</td>\n",
       "      <td>258.0</td>\n",
       "      <td>0.0</td>\n",
       "      <td>258.0</td>\n",
       "      <td>258.0</td>\n",
       "      <td>258.0</td>\n",
       "      <td>258.0</td>\n",
       "      <td>258.0</td>\n",
       "      <td>258.0</td>\n",
       "      <td>4.329457</td>\n",
       "      <td>...</td>\n",
       "      <td>0.00</td>\n",
       "      <td>8.0</td>\n",
       "      <td>258.0</td>\n",
       "      <td>0.069767</td>\n",
       "      <td>0.255250</td>\n",
       "      <td>0.0</td>\n",
       "      <td>0.0</td>\n",
       "      <td>0.0</td>\n",
       "      <td>0.0</td>\n",
       "      <td>1.0</td>\n",
       "    </tr>\n",
       "    <tr>\n",
       "      <td>112680</td>\n",
       "      <td>310.0</td>\n",
       "      <td>343.0</td>\n",
       "      <td>0.0</td>\n",
       "      <td>343.0</td>\n",
       "      <td>343.0</td>\n",
       "      <td>343.0</td>\n",
       "      <td>343.0</td>\n",
       "      <td>343.0</td>\n",
       "      <td>310.0</td>\n",
       "      <td>4.319355</td>\n",
       "      <td>...</td>\n",
       "      <td>0.00</td>\n",
       "      <td>2.0</td>\n",
       "      <td>310.0</td>\n",
       "      <td>0.106452</td>\n",
       "      <td>0.308913</td>\n",
       "      <td>0.0</td>\n",
       "      <td>0.0</td>\n",
       "      <td>0.0</td>\n",
       "      <td>0.0</td>\n",
       "      <td>1.0</td>\n",
       "    </tr>\n",
       "    <tr>\n",
       "      <td>112706</td>\n",
       "      <td>79.0</td>\n",
       "      <td>79.0</td>\n",
       "      <td>0.0</td>\n",
       "      <td>79.0</td>\n",
       "      <td>79.0</td>\n",
       "      <td>79.0</td>\n",
       "      <td>79.0</td>\n",
       "      <td>79.0</td>\n",
       "      <td>79.0</td>\n",
       "      <td>4.708861</td>\n",
       "      <td>...</td>\n",
       "      <td>0.00</td>\n",
       "      <td>1.0</td>\n",
       "      <td>79.0</td>\n",
       "      <td>0.151899</td>\n",
       "      <td>0.361216</td>\n",
       "      <td>0.0</td>\n",
       "      <td>0.0</td>\n",
       "      <td>0.0</td>\n",
       "      <td>0.0</td>\n",
       "      <td>1.0</td>\n",
       "    </tr>\n",
       "    <tr>\n",
       "      <td>153726</td>\n",
       "      <td>267.0</td>\n",
       "      <td>272.0</td>\n",
       "      <td>0.0</td>\n",
       "      <td>272.0</td>\n",
       "      <td>272.0</td>\n",
       "      <td>272.0</td>\n",
       "      <td>272.0</td>\n",
       "      <td>272.0</td>\n",
       "      <td>267.0</td>\n",
       "      <td>4.486891</td>\n",
       "      <td>...</td>\n",
       "      <td>0.00</td>\n",
       "      <td>2.0</td>\n",
       "      <td>267.0</td>\n",
       "      <td>0.089888</td>\n",
       "      <td>0.286558</td>\n",
       "      <td>0.0</td>\n",
       "      <td>0.0</td>\n",
       "      <td>0.0</td>\n",
       "      <td>0.0</td>\n",
       "      <td>1.0</td>\n",
       "    </tr>\n",
       "    <tr>\n",
       "      <td>241539</td>\n",
       "      <td>229.0</td>\n",
       "      <td>229.0</td>\n",
       "      <td>0.0</td>\n",
       "      <td>229.0</td>\n",
       "      <td>229.0</td>\n",
       "      <td>229.0</td>\n",
       "      <td>229.0</td>\n",
       "      <td>229.0</td>\n",
       "      <td>229.0</td>\n",
       "      <td>4.471616</td>\n",
       "      <td>...</td>\n",
       "      <td>0.00</td>\n",
       "      <td>3.0</td>\n",
       "      <td>229.0</td>\n",
       "      <td>0.179039</td>\n",
       "      <td>0.384225</td>\n",
       "      <td>0.0</td>\n",
       "      <td>0.0</td>\n",
       "      <td>0.0</td>\n",
       "      <td>0.0</td>\n",
       "      <td>1.0</td>\n",
       "    </tr>\n",
       "    <tr>\n",
       "      <td>...</td>\n",
       "      <td>...</td>\n",
       "      <td>...</td>\n",
       "      <td>...</td>\n",
       "      <td>...</td>\n",
       "      <td>...</td>\n",
       "      <td>...</td>\n",
       "      <td>...</td>\n",
       "      <td>...</td>\n",
       "      <td>...</td>\n",
       "      <td>...</td>\n",
       "      <td>...</td>\n",
       "      <td>...</td>\n",
       "      <td>...</td>\n",
       "      <td>...</td>\n",
       "      <td>...</td>\n",
       "      <td>...</td>\n",
       "      <td>...</td>\n",
       "      <td>...</td>\n",
       "      <td>...</td>\n",
       "      <td>...</td>\n",
       "      <td>...</td>\n",
       "    </tr>\n",
       "    <tr>\n",
       "      <td>2288942</td>\n",
       "      <td>99.0</td>\n",
       "      <td>102.0</td>\n",
       "      <td>0.0</td>\n",
       "      <td>102.0</td>\n",
       "      <td>102.0</td>\n",
       "      <td>102.0</td>\n",
       "      <td>102.0</td>\n",
       "      <td>102.0</td>\n",
       "      <td>99.0</td>\n",
       "      <td>4.666667</td>\n",
       "      <td>...</td>\n",
       "      <td>0.00</td>\n",
       "      <td>2.0</td>\n",
       "      <td>99.0</td>\n",
       "      <td>0.060606</td>\n",
       "      <td>0.239821</td>\n",
       "      <td>0.0</td>\n",
       "      <td>0.0</td>\n",
       "      <td>0.0</td>\n",
       "      <td>0.0</td>\n",
       "      <td>1.0</td>\n",
       "    </tr>\n",
       "    <tr>\n",
       "      <td>2294635</td>\n",
       "      <td>2.0</td>\n",
       "      <td>2.0</td>\n",
       "      <td>0.0</td>\n",
       "      <td>2.0</td>\n",
       "      <td>2.0</td>\n",
       "      <td>2.0</td>\n",
       "      <td>2.0</td>\n",
       "      <td>2.0</td>\n",
       "      <td>2.0</td>\n",
       "      <td>3.000000</td>\n",
       "      <td>...</td>\n",
       "      <td>0.75</td>\n",
       "      <td>1.0</td>\n",
       "      <td>2.0</td>\n",
       "      <td>0.000000</td>\n",
       "      <td>0.000000</td>\n",
       "      <td>0.0</td>\n",
       "      <td>0.0</td>\n",
       "      <td>0.0</td>\n",
       "      <td>0.0</td>\n",
       "      <td>0.0</td>\n",
       "    </tr>\n",
       "    <tr>\n",
       "      <td>2297257</td>\n",
       "      <td>4.0</td>\n",
       "      <td>1.0</td>\n",
       "      <td>0.0</td>\n",
       "      <td>1.0</td>\n",
       "      <td>1.0</td>\n",
       "      <td>1.0</td>\n",
       "      <td>1.0</td>\n",
       "      <td>1.0</td>\n",
       "      <td>4.0</td>\n",
       "      <td>3.000000</td>\n",
       "      <td>...</td>\n",
       "      <td>0.00</td>\n",
       "      <td>0.0</td>\n",
       "      <td>4.0</td>\n",
       "      <td>1.000000</td>\n",
       "      <td>0.000000</td>\n",
       "      <td>1.0</td>\n",
       "      <td>1.0</td>\n",
       "      <td>1.0</td>\n",
       "      <td>1.0</td>\n",
       "      <td>1.0</td>\n",
       "    </tr>\n",
       "    <tr>\n",
       "      <td>2297372</td>\n",
       "      <td>4.0</td>\n",
       "      <td>4.0</td>\n",
       "      <td>0.0</td>\n",
       "      <td>4.0</td>\n",
       "      <td>4.0</td>\n",
       "      <td>4.0</td>\n",
       "      <td>4.0</td>\n",
       "      <td>4.0</td>\n",
       "      <td>4.0</td>\n",
       "      <td>3.250000</td>\n",
       "      <td>...</td>\n",
       "      <td>0.00</td>\n",
       "      <td>0.0</td>\n",
       "      <td>4.0</td>\n",
       "      <td>0.000000</td>\n",
       "      <td>0.000000</td>\n",
       "      <td>0.0</td>\n",
       "      <td>0.0</td>\n",
       "      <td>0.0</td>\n",
       "      <td>0.0</td>\n",
       "      <td>0.0</td>\n",
       "    </tr>\n",
       "    <tr>\n",
       "      <td>2301943</td>\n",
       "      <td>2.0</td>\n",
       "      <td>2.0</td>\n",
       "      <td>0.0</td>\n",
       "      <td>2.0</td>\n",
       "      <td>2.0</td>\n",
       "      <td>2.0</td>\n",
       "      <td>2.0</td>\n",
       "      <td>2.0</td>\n",
       "      <td>2.0</td>\n",
       "      <td>4.000000</td>\n",
       "      <td>...</td>\n",
       "      <td>0.00</td>\n",
       "      <td>0.0</td>\n",
       "      <td>2.0</td>\n",
       "      <td>0.000000</td>\n",
       "      <td>0.000000</td>\n",
       "      <td>0.0</td>\n",
       "      <td>0.0</td>\n",
       "      <td>0.0</td>\n",
       "      <td>0.0</td>\n",
       "      <td>0.0</td>\n",
       "    </tr>\n",
       "  </tbody>\n",
       "</table>\n",
       "<p>721 rows × 80 columns</p>\n",
       "</div>"
      ],
      "text/plain": [
       "        total_reviews                                                 \\\n",
       "                count   mean  std    min    25%    50%    75%    max   \n",
       "item_id                                                                \n",
       "74476           258.0  258.0  0.0  258.0  258.0  258.0  258.0  258.0   \n",
       "112680          310.0  343.0  0.0  343.0  343.0  343.0  343.0  343.0   \n",
       "112706           79.0   79.0  0.0   79.0   79.0   79.0   79.0   79.0   \n",
       "153726          267.0  272.0  0.0  272.0  272.0  272.0  272.0  272.0   \n",
       "241539          229.0  229.0  0.0  229.0  229.0  229.0  229.0  229.0   \n",
       "...               ...    ...  ...    ...    ...    ...    ...    ...   \n",
       "2288942          99.0  102.0  0.0  102.0  102.0  102.0  102.0  102.0   \n",
       "2294635           2.0    2.0  0.0    2.0    2.0    2.0    2.0    2.0   \n",
       "2297257           4.0    1.0  0.0    1.0    1.0    1.0    1.0    1.0   \n",
       "2297372           4.0    4.0  0.0    4.0    4.0    4.0    4.0    4.0   \n",
       "2301943           2.0    2.0  0.0    2.0    2.0    2.0    2.0    2.0   \n",
       "\n",
       "        review_rating            ... counts        fake                      \\\n",
       "                count      mean  ...    75%  max  count      mean       std   \n",
       "item_id                          ...                                          \n",
       "74476           258.0  4.329457  ...   0.00  8.0  258.0  0.069767  0.255250   \n",
       "112680          310.0  4.319355  ...   0.00  2.0  310.0  0.106452  0.308913   \n",
       "112706           79.0  4.708861  ...   0.00  1.0   79.0  0.151899  0.361216   \n",
       "153726          267.0  4.486891  ...   0.00  2.0  267.0  0.089888  0.286558   \n",
       "241539          229.0  4.471616  ...   0.00  3.0  229.0  0.179039  0.384225   \n",
       "...               ...       ...  ...    ...  ...    ...       ...       ...   \n",
       "2288942          99.0  4.666667  ...   0.00  2.0   99.0  0.060606  0.239821   \n",
       "2294635           2.0  3.000000  ...   0.75  1.0    2.0  0.000000  0.000000   \n",
       "2297257           4.0  3.000000  ...   0.00  0.0    4.0  1.000000  0.000000   \n",
       "2297372           4.0  3.250000  ...   0.00  0.0    4.0  0.000000  0.000000   \n",
       "2301943           2.0  4.000000  ...   0.00  0.0    2.0  0.000000  0.000000   \n",
       "\n",
       "                                  \n",
       "         min  25%  50%  75%  max  \n",
       "item_id                           \n",
       "74476    0.0  0.0  0.0  0.0  1.0  \n",
       "112680   0.0  0.0  0.0  0.0  1.0  \n",
       "112706   0.0  0.0  0.0  0.0  1.0  \n",
       "153726   0.0  0.0  0.0  0.0  1.0  \n",
       "241539   0.0  0.0  0.0  0.0  1.0  \n",
       "...      ...  ...  ...  ...  ...  \n",
       "2288942  0.0  0.0  0.0  0.0  1.0  \n",
       "2294635  0.0  0.0  0.0  0.0  0.0  \n",
       "2297257  1.0  1.0  1.0  1.0  1.0  \n",
       "2297372  0.0  0.0  0.0  0.0  0.0  \n",
       "2301943  0.0  0.0  0.0  0.0  0.0  \n",
       "\n",
       "[721 rows x 80 columns]"
      ]
     },
     "execution_count": 147,
     "metadata": {},
     "output_type": "execute_result"
    }
   ],
   "source": [
    "m.groupby('item_id').describe()"
   ]
  },
  {
   "cell_type": "code",
   "execution_count": null,
   "metadata": {},
   "outputs": [],
   "source": []
  }
 ],
 "metadata": {
  "kernelspec": {
   "display_name": "Python 3",
   "language": "python",
   "name": "python3"
  },
  "language_info": {
   "codemirror_mode": {
    "name": "ipython",
    "version": 3
   },
   "file_extension": ".py",
   "mimetype": "text/x-python",
   "name": "python",
   "nbconvert_exporter": "python",
   "pygments_lexer": "ipython3",
   "version": "3.7.3"
  }
 },
 "nbformat": 4,
 "nbformat_minor": 2
}
